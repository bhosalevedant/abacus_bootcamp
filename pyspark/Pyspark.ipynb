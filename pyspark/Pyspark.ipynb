{
 "cells": [
  {
   "cell_type": "code",
   "execution_count": 0,
   "metadata": {
    "application/vnd.databricks.v1+cell": {
     "cellMetadata": {
      "byteLimit": 2048000,
      "rowLimit": 10000
     },
     "inputWidgets": {},
     "nuid": "1b7bf1c8-0802-4ac0-bbc8-f8f50602e225",
     "showTitle": false,
     "title": ""
    }
   },
   "outputs": [
    {
     "output_type": "display_data",
     "data": {
      "text/html": [
       "\n",
       "            <div>\n",
       "                <p><b>SparkSession - hive</b></p>\n",
       "                \n",
       "        <div>\n",
       "            <p><b>SparkContext</b></p>\n",
       "\n",
       "            <p><a href=\"/?o=3902034117996389#setting/sparkui/0212-044035-vqcz4i8d/driver-1674863024770569398\">Spark UI</a></p>\n",
       "\n",
       "            <dl>\n",
       "              <dt>Version</dt>\n",
       "                <dd><code>v3.3.2</code></dd>\n",
       "              <dt>Master</dt>\n",
       "                <dd><code>local[8]</code></dd>\n",
       "              <dt>AppName</dt>\n",
       "                <dd><code>Databricks Shell</code></dd>\n",
       "            </dl>\n",
       "        </div>\n",
       "        \n",
       "            </div>\n",
       "        "
      ]
     },
     "metadata": {
      "application/vnd.databricks.v1+output": {
       "addedWidgets": {},
       "arguments": {},
       "data": "\n            <div>\n                <p><b>SparkSession - hive</b></p>\n                \n        <div>\n            <p><b>SparkContext</b></p>\n\n            <p><a href=\"/?o=3902034117996389#setting/sparkui/0212-044035-vqcz4i8d/driver-1674863024770569398\">Spark UI</a></p>\n\n            <dl>\n              <dt>Version</dt>\n                <dd><code>v3.3.2</code></dd>\n              <dt>Master</dt>\n                <dd><code>local[8]</code></dd>\n              <dt>AppName</dt>\n                <dd><code>Databricks Shell</code></dd>\n            </dl>\n        </div>\n        \n            </div>\n        ",
       "datasetInfos": [],
       "metadata": {},
       "removedWidgets": [],
       "textData": null,
       "type": "htmlSandbox"
      }
     },
     "output_type": "display_data"
    }
   ],
   "source": [
    "from pyspark.sql import SparkSession\n",
    "spark = SparkSession.builder.getOrCreate()\n",
    "spark"
   ]
  },
  {
   "cell_type": "markdown",
   "metadata": {
    "application/vnd.databricks.v1+cell": {
     "cellMetadata": {
      "byteLimit": 2048000,
      "rowLimit": 10000
     },
     "inputWidgets": {},
     "nuid": "397a81ba-e075-45db-bc40-d3ea9c5783a1",
     "showTitle": false,
     "title": ""
    }
   },
   "source": [
    "loading the data"
   ]
  },
  {
   "cell_type": "code",
   "execution_count": 0,
   "metadata": {
    "application/vnd.databricks.v1+cell": {
     "cellMetadata": {
      "byteLimit": 2048000,
      "rowLimit": 10000
     },
     "inputWidgets": {},
     "nuid": "ce6288b9-05e0-4a41-9157-71edb03ae8a7",
     "showTitle": false,
     "title": ""
    }
   },
   "outputs": [
    {
     "output_type": "display_data",
     "data": {
      "text/html": [
       "<style scoped>\n",
       "  .ansiout {\n",
       "    display: block;\n",
       "    unicode-bidi: embed;\n",
       "    white-space: pre-wrap;\n",
       "    word-wrap: break-word;\n",
       "    word-break: break-all;\n",
       "    font-family: \"Menlo\", \"Monaco\", \"Consolas\", \"Ubuntu Mono\", \"Source Code Pro\", monospace;\n",
       "    font-size: 13px;\n",
       "    color: #555;\n",
       "    margin-left: 4px;\n",
       "    line-height: 19px;\n",
       "  }\n",
       "</style>\n",
       "<div class=\"ansiout\">res6: Boolean = false\n",
       "</div>"
      ]
     },
     "metadata": {
      "application/vnd.databricks.v1+output": {
       "addedWidgets": {},
       "arguments": {},
       "data": "<div class=\"ansiout\">res6: Boolean = false\n</div>",
       "datasetInfos": [],
       "metadata": {
        "isDbfsCommandResult": false
       },
       "removedWidgets": [],
       "type": "html"
      }
     },
     "output_type": "display_data"
    }
   ],
   "source": [
    "%fs\n",
    "rm -r dbfs:/FileStore/tables/*.json"
   ]
  },
  {
   "cell_type": "code",
   "execution_count": 0,
   "metadata": {
    "application/vnd.databricks.v1+cell": {
     "cellMetadata": {
      "byteLimit": 2048000,
      "rowLimit": 10000
     },
     "inputWidgets": {},
     "nuid": "b1a4cdd9-86eb-4dcb-bffb-75e61a70f5d9",
     "showTitle": false,
     "title": ""
    }
   },
   "outputs": [
    {
     "output_type": "stream",
     "name": "stdout",
     "output_type": "stream",
     "text": [
      "+---+-----+----------+----+------+----------+\n| id| name|       dob| age|salary|department|\n+---+-----+----------+----+------+----------+\n|  1| John|1992-05-12|  30| 70000|        IT|\n|  2|Alice|1997-02-28|  25| 60000|        HR|\n|  3|  Bob|      null|null| 80000|        IT|\n|  4|Emily|1994-11-22|  28| 65000|   Finance|\n+---+-----+----------+----+------+----------+\n\n"
     ]
    }
   ],
   "source": [
    "df_csv = spark.read.format(\"csv\").option(\"header\",True).load(\"dbfs:/FileStore/tables/batch.csv\")\n",
    "df_csv.show()"
   ]
  },
  {
   "cell_type": "code",
   "execution_count": 0,
   "metadata": {
    "application/vnd.databricks.v1+cell": {
     "cellMetadata": {
      "byteLimit": 2048000,
      "rowLimit": 10000
     },
     "inputWidgets": {},
     "nuid": "3c5d583f-8fc0-497e-813c-ab5f79a1a0bf",
     "showTitle": false,
     "title": ""
    }
   },
   "outputs": [
    {
     "output_type": "stream",
     "name": "stdout",
     "output_type": "stream",
     "text": [
      "root\n |-- id: string (nullable = true)\n |-- name: string (nullable = true)\n |-- dob: string (nullable = true)\n |-- age: string (nullable = true)\n |-- salary: string (nullable = true)\n |-- department: string (nullable = true)\n\n"
     ]
    }
   ],
   "source": [
    "df_csv.printSchema()"
   ]
  },
  {
   "cell_type": "code",
   "execution_count": 0,
   "metadata": {
    "application/vnd.databricks.v1+cell": {
     "cellMetadata": {
      "byteLimit": 2048000,
      "rowLimit": 10000
     },
     "inputWidgets": {},
     "nuid": "0e116b29-a564-4703-9b37-2529e179d3b5",
     "showTitle": false,
     "title": ""
    }
   },
   "outputs": [],
   "source": [
    "from pyspark.sql.types import StructType,StructField, IntegerType, StringType, DateType"
   ]
  },
  {
   "cell_type": "code",
   "execution_count": 0,
   "metadata": {
    "application/vnd.databricks.v1+cell": {
     "cellMetadata": {
      "byteLimit": 2048000,
      "rowLimit": 10000
     },
     "inputWidgets": {},
     "nuid": "5c8cbd3b-9355-475a-8715-2727da889a5c",
     "showTitle": false,
     "title": ""
    }
   },
   "outputs": [],
   "source": [
    "schema = StructType([\n",
    "    StructField('id',IntegerType()),\n",
    "    StructField('name',StringType()),\n",
    "    StructField('dob',DateType()),\n",
    "    StructField('age',IntegerType()),\n",
    "    StructField('salary',IntegerType()),\n",
    "    StructField('department',StringType())\n",
    "    \n",
    "])"
   ]
  },
  {
   "cell_type": "code",
   "execution_count": 0,
   "metadata": {
    "application/vnd.databricks.v1+cell": {
     "cellMetadata": {
      "byteLimit": 2048000,
      "rowLimit": 10000
     },
     "inputWidgets": {},
     "nuid": "e2aa695a-f8c5-4abc-b405-80b92f20ab70",
     "showTitle": false,
     "title": ""
    }
   },
   "outputs": [],
   "source": [
    "df_csv = spark.read.format(\"csv\").schema(schema).option(\"header\",True).load(\"dbfs:/FileStore/tables/batch.csv\")"
   ]
  },
  {
   "cell_type": "code",
   "execution_count": 0,
   "metadata": {
    "application/vnd.databricks.v1+cell": {
     "cellMetadata": {
      "byteLimit": 2048000,
      "rowLimit": 10000
     },
     "inputWidgets": {},
     "nuid": "a2f82c9e-be5b-4b3c-8c15-3bf8f954b6e2",
     "showTitle": false,
     "title": ""
    }
   },
   "outputs": [
    {
     "output_type": "stream",
     "name": "stdout",
     "output_type": "stream",
     "text": [
      "root\n |-- id: integer (nullable = true)\n |-- name: string (nullable = true)\n |-- dob: date (nullable = true)\n |-- age: integer (nullable = true)\n |-- salary: integer (nullable = true)\n |-- department: string (nullable = true)\n\n"
     ]
    }
   ],
   "source": [
    "df_csv.printSchema()"
   ]
  },
  {
   "cell_type": "code",
   "execution_count": 0,
   "metadata": {
    "application/vnd.databricks.v1+cell": {
     "cellMetadata": {
      "byteLimit": 2048000,
      "rowLimit": 10000
     },
     "inputWidgets": {},
     "nuid": "9711677f-ab57-4804-ac06-cfbb0590573a",
     "showTitle": false,
     "title": ""
    }
   },
   "outputs": [
    {
     "output_type": "stream",
     "name": "stdout",
     "output_type": "stream",
     "text": [
      "+---+-----+----------+----+------+----------+\n| id| name|       dob| age|salary|department|\n+---+-----+----------+----+------+----------+\n|  1| John|1992-05-12|  30| 70000|        IT|\n|  2|Alice|1997-02-28|  25| 60000|        HR|\n|  3|  Bob|      null|null| 80000|        IT|\n|  4|Emily|1994-11-22|  28| 65000|   Finance|\n+---+-----+----------+----+------+----------+\n\n"
     ]
    }
   ],
   "source": [
    "df_csv.show()"
   ]
  },
  {
   "cell_type": "code",
   "execution_count": 0,
   "metadata": {
    "application/vnd.databricks.v1+cell": {
     "cellMetadata": {
      "byteLimit": 2048000,
      "rowLimit": 10000
     },
     "inputWidgets": {},
     "nuid": "c4098431-7817-4641-89a1-1fc3ccb6c183",
     "showTitle": false,
     "title": ""
    }
   },
   "outputs": [
    {
     "output_type": "stream",
     "name": "stdout",
     "output_type": "stream",
     "text": [
      "+---+------+----------+---+------+----------+\n| id|  name|       dob|age|salary|department|\n+---+------+----------+---+------+----------+\n| 10|Sophie|1992-06-30| 30| 62000|   Finance|\n|  2| Alice|1997-02-28| 25| 90000|   Finance|\n|  4| Emily|1994-11-22| 28| 70000|   Finance|\n|  9| James|1983-10-14| 39| 87000|        IT|\n|  1|  John|1992-05-12| 30| 70000|        IT|\n|  8|  Lisa|1995-08-20| 27| 58000|        HR|\n+---+------+----------+---+------+----------+\n\n"
     ]
    }
   ],
   "source": [
    "df_json = spark.read.format(\"json\").schema(schema).load(\"dbfs:/FileStore/tables/*1.json\")\n",
    "df_json.show()"
   ]
  },
  {
   "cell_type": "code",
   "execution_count": 0,
   "metadata": {
    "application/vnd.databricks.v1+cell": {
     "cellMetadata": {
      "byteLimit": 2048000,
      "rowLimit": 10000
     },
     "inputWidgets": {},
     "nuid": "449462c1-2ead-40da-be9c-33b442415a8c",
     "showTitle": false,
     "title": ""
    }
   },
   "outputs": [
    {
     "output_type": "display_data",
     "data": {
      "text/html": [
       "<style scoped>\n",
       "  .table-result-container {\n",
       "    max-height: 300px;\n",
       "    overflow: auto;\n",
       "  }\n",
       "  table, th, td {\n",
       "    border: 1px solid black;\n",
       "    border-collapse: collapse;\n",
       "  }\n",
       "  th, td {\n",
       "    padding: 5px;\n",
       "  }\n",
       "  th {\n",
       "    text-align: left;\n",
       "  }\n",
       "</style><div class='table-result-container'><table class='table-result'><thead style='background-color: white'><tr><th>path</th><th>name</th><th>size</th><th>modificationTime</th></tr></thead><tbody><tr><td>dbfs:/FileStore/tables/10_20220101.json</td><td>10_20220101.json</td><td>102</td><td>1707461052000</td></tr><tr><td>dbfs:/FileStore/tables/1_20220101.json</td><td>1_20220101.json</td><td>94</td><td>1707461050000</td></tr><tr><td>dbfs:/FileStore/tables/2_20220101.json</td><td>2_20220101.json</td><td>100</td><td>1707461050000</td></tr><tr><td>dbfs:/FileStore/tables/4_20220101.json</td><td>4_20220101.json</td><td>100</td><td>1707461051000</td></tr><tr><td>dbfs:/FileStore/tables/8_20220101.json</td><td>8_20220101.json</td><td>94</td><td>1707461051000</td></tr><tr><td>dbfs:/FileStore/tables/9_20220101.json</td><td>9_20220101.json</td><td>95</td><td>1707461052000</td></tr><tr><td>dbfs:/FileStore/tables/Address.xlsx</td><td>Address.xlsx</td><td>151315</td><td>1706078413000</td></tr><tr><td>dbfs:/FileStore/tables/Detail-1.csv</td><td>Detail-1.csv</td><td>208476</td><td>1706074372000</td></tr><tr><td>dbfs:/FileStore/tables/Detail-2.csv</td><td>Detail-2.csv</td><td>208476</td><td>1706074471000</td></tr><tr><td>dbfs:/FileStore/tables/Detail.csv</td><td>Detail.csv</td><td>208476</td><td>1706073591000</td></tr><tr><td>dbfs:/FileStore/tables/batch-1.csv</td><td>batch-1.csv</td><td>151</td><td>1707461061000</td></tr><tr><td>dbfs:/FileStore/tables/batch.csv</td><td>batch.csv</td><td>151</td><td>1707462108000</td></tr><tr><td>dbfs:/FileStore/tables/batch.jsonl</td><td>batch.jsonl</td><td>671</td><td>1707461052000</td></tr><tr><td>dbfs:/FileStore/tables/contactinfo.txt</td><td>contactinfo.txt</td><td>49969</td><td>1706075512000</td></tr><tr><td>dbfs:/FileStore/tables/csv</td><td>csv</td><td>0</td><td>1707460796000</td></tr><tr><td>dbfs:/FileStore/tables/csv-1</td><td>csv-1</td><td>0</td><td>1707460817000</td></tr><tr><td>dbfs:/FileStore/tables/header.json</td><td>header.json</td><td>115560</td><td>1706076753000</td></tr><tr><td>dbfs:/FileStore/tables/json</td><td>json</td><td>0</td><td>1707460770000</td></tr><tr><td>dbfs:/FileStore/tables/json-1</td><td>json-1</td><td>0</td><td>1707463161000</td></tr><tr><td>dbfs:/FileStore/tables/parquet/</td><td>parquet/</td><td>0</td><td>0</td></tr><tr><td>dbfs:/FileStore/tables/reference.parquet</td><td>reference.parquet</td><td>515</td><td>1707461036000</td></tr></tbody></table></div>"
      ]
     },
     "metadata": {
      "application/vnd.databricks.v1+output": {
       "addedWidgets": {},
       "aggData": [],
       "aggError": "",
       "aggOverflow": false,
       "aggSchema": [],
       "aggSeriesLimitReached": false,
       "aggType": "",
       "arguments": {},
       "columnCustomDisplayInfos": {},
       "data": [
        [
         "dbfs:/FileStore/tables/10_20220101.json",
         "10_20220101.json",
         102,
         1707461052000
        ],
        [
         "dbfs:/FileStore/tables/1_20220101.json",
         "1_20220101.json",
         94,
         1707461050000
        ],
        [
         "dbfs:/FileStore/tables/2_20220101.json",
         "2_20220101.json",
         100,
         1707461050000
        ],
        [
         "dbfs:/FileStore/tables/4_20220101.json",
         "4_20220101.json",
         100,
         1707461051000
        ],
        [
         "dbfs:/FileStore/tables/8_20220101.json",
         "8_20220101.json",
         94,
         1707461051000
        ],
        [
         "dbfs:/FileStore/tables/9_20220101.json",
         "9_20220101.json",
         95,
         1707461052000
        ],
        [
         "dbfs:/FileStore/tables/Address.xlsx",
         "Address.xlsx",
         151315,
         1706078413000
        ],
        [
         "dbfs:/FileStore/tables/Detail-1.csv",
         "Detail-1.csv",
         208476,
         1706074372000
        ],
        [
         "dbfs:/FileStore/tables/Detail-2.csv",
         "Detail-2.csv",
         208476,
         1706074471000
        ],
        [
         "dbfs:/FileStore/tables/Detail.csv",
         "Detail.csv",
         208476,
         1706073591000
        ],
        [
         "dbfs:/FileStore/tables/batch-1.csv",
         "batch-1.csv",
         151,
         1707461061000
        ],
        [
         "dbfs:/FileStore/tables/batch.csv",
         "batch.csv",
         151,
         1707462108000
        ],
        [
         "dbfs:/FileStore/tables/batch.jsonl",
         "batch.jsonl",
         671,
         1707461052000
        ],
        [
         "dbfs:/FileStore/tables/contactinfo.txt",
         "contactinfo.txt",
         49969,
         1706075512000
        ],
        [
         "dbfs:/FileStore/tables/csv",
         "csv",
         0,
         1707460796000
        ],
        [
         "dbfs:/FileStore/tables/csv-1",
         "csv-1",
         0,
         1707460817000
        ],
        [
         "dbfs:/FileStore/tables/header.json",
         "header.json",
         115560,
         1706076753000
        ],
        [
         "dbfs:/FileStore/tables/json",
         "json",
         0,
         1707460770000
        ],
        [
         "dbfs:/FileStore/tables/json-1",
         "json-1",
         0,
         1707463161000
        ],
        [
         "dbfs:/FileStore/tables/parquet/",
         "parquet/",
         0,
         0
        ],
        [
         "dbfs:/FileStore/tables/reference.parquet",
         "reference.parquet",
         515,
         1707461036000
        ]
       ],
       "datasetInfos": [],
       "dbfsResultPath": null,
       "isJsonSchema": true,
       "metadata": {
        "isDbfsCommandResult": false
       },
       "overflow": false,
       "plotOptions": {
        "customPlotOptions": {},
        "displayType": "table",
        "pivotAggregation": null,
        "pivotColumns": null,
        "xColumns": null,
        "yColumns": null
       },
       "removedWidgets": [],
       "schema": [
        {
         "metadata": "{}",
         "name": "path",
         "type": "\"string\""
        },
        {
         "metadata": "{}",
         "name": "name",
         "type": "\"string\""
        },
        {
         "metadata": "{}",
         "name": "size",
         "type": "\"long\""
        },
        {
         "metadata": "{}",
         "name": "modificationTime",
         "type": "\"long\""
        }
       ],
       "type": "table"
      }
     },
     "output_type": "display_data"
    }
   ],
   "source": [
    "%fs ls dbfs:/FileStore/tables\n"
   ]
  },
  {
   "cell_type": "code",
   "execution_count": 0,
   "metadata": {
    "application/vnd.databricks.v1+cell": {
     "cellMetadata": {
      "byteLimit": 2048000,
      "rowLimit": 10000
     },
     "inputWidgets": {},
     "nuid": "4db567bb-4ed2-4447-9bf3-08ddbc4e14cf",
     "showTitle": false,
     "title": ""
    }
   },
   "outputs": [],
   "source": [
    "df_json_batch = spark.read.format(\"json\").schema(schema).load(\"dbfs:/FileStore/tables/batch.jsonl\")"
   ]
  },
  {
   "cell_type": "code",
   "execution_count": 0,
   "metadata": {
    "application/vnd.databricks.v1+cell": {
     "cellMetadata": {
      "byteLimit": 2048000,
      "rowLimit": 10000
     },
     "inputWidgets": {},
     "nuid": "ea0afcf0-8dfc-4897-adf6-1dee86dbf616",
     "showTitle": false,
     "title": ""
    }
   },
   "outputs": [
    {
     "output_type": "stream",
     "name": "stdout",
     "output_type": "stream",
     "text": [
      "+---+-----+----------+----+------+----------+\n| id| name|       dob| age|salary|department|\n+---+-----+----------+----+------+----------+\n|  1| John|1992-05-12|  30| 70000|        IT|\n|  2|Alice|1997-02-28|  25| 60000|        HR|\n|  3|  Bob|      null|null| 80000|        IT|\n|  4|Emily|1994-11-22|  28| 65000|   Finance|\n|  5|David|1981-12-18|  41| 90000|        HR|\n|  6|Susan|1989-07-05|  33| 75000|   Finance|\n|  7| Mike|1976-03-15|  46| 95000|        IT|\n+---+-----+----------+----+------+----------+\n\n"
     ]
    }
   ],
   "source": [
    "df_json_batch.show()"
   ]
  },
  {
   "cell_type": "code",
   "execution_count": 0,
   "metadata": {
    "application/vnd.databricks.v1+cell": {
     "cellMetadata": {
      "byteLimit": 2048000,
      "rowLimit": 10000
     },
     "inputWidgets": {},
     "nuid": "7fe33c66-1fb1-4d4e-a1bd-839a9bcec926",
     "showTitle": false,
     "title": ""
    }
   },
   "outputs": [
    {
     "output_type": "stream",
     "name": "stdout",
     "output_type": "stream",
     "text": [
      "root\n |-- id: integer (nullable = true)\n |-- name: string (nullable = true)\n |-- dob: date (nullable = true)\n |-- age: integer (nullable = true)\n |-- salary: integer (nullable = true)\n |-- department: string (nullable = true)\n\n"
     ]
    }
   ],
   "source": [
    "df_csv.printSchema()"
   ]
  },
  {
   "cell_type": "code",
   "execution_count": 0,
   "metadata": {
    "application/vnd.databricks.v1+cell": {
     "cellMetadata": {
      "byteLimit": 2048000,
      "rowLimit": 10000
     },
     "inputWidgets": {},
     "nuid": "99d88bca-0c86-4b64-a700-c582726bbfa7",
     "showTitle": false,
     "title": ""
    }
   },
   "outputs": [
    {
     "output_type": "stream",
     "name": "stdout",
     "output_type": "stream",
     "text": [
      "+---+------+----------+----+------+----------+\n| id|  name|       dob| age|salary|department|\n+---+------+----------+----+------+----------+\n| 10|Sophie|1992-06-30|  30| 62000|   Finance|\n|  2| Alice|1997-02-28|  25| 90000|   Finance|\n|  4| Emily|1994-11-22|  28| 70000|   Finance|\n|  9| James|1983-10-14|  39| 87000|        IT|\n|  1|  John|1992-05-12|  30| 70000|        IT|\n|  8|  Lisa|1995-08-20|  27| 58000|        HR|\n|  1|  John|1992-05-12|  30| 70000|        IT|\n|  2| Alice|1997-02-28|  25| 60000|        HR|\n|  3|   Bob|      null|null| 80000|        IT|\n|  4| Emily|1994-11-22|  28| 65000|   Finance|\n|  5| David|1981-12-18|  41| 90000|        HR|\n|  6| Susan|1989-07-05|  33| 75000|   Finance|\n|  7|  Mike|1976-03-15|  46| 95000|        IT|\n+---+------+----------+----+------+----------+\n\n"
     ]
    }
   ],
   "source": [
    "df_final_json = df_json.union(df_json_batch)\n",
    "df_final_json.show()"
   ]
  },
  {
   "cell_type": "code",
   "execution_count": 0,
   "metadata": {
    "application/vnd.databricks.v1+cell": {
     "cellMetadata": {
      "byteLimit": 2048000,
      "rowLimit": 10000
     },
     "inputWidgets": {},
     "nuid": "915fa2f8-c61a-4d1e-a27e-18409aa96752",
     "showTitle": false,
     "title": ""
    }
   },
   "outputs": [
    {
     "output_type": "stream",
     "name": "stdout",
     "output_type": "stream",
     "text": [
      "root\n |-- id: integer (nullable = true)\n |-- name: string (nullable = true)\n |-- dob: date (nullable = true)\n |-- age: integer (nullable = true)\n |-- salary: integer (nullable = true)\n |-- department: string (nullable = true)\n\n"
     ]
    }
   ],
   "source": [
    "df_json.printSchema()"
   ]
  },
  {
   "cell_type": "code",
   "execution_count": 0,
   "metadata": {
    "application/vnd.databricks.v1+cell": {
     "cellMetadata": {
      "byteLimit": 2048000,
      "rowLimit": 10000
     },
     "inputWidgets": {},
     "nuid": "67e1b11c-fe15-4fb7-a1d5-e18fa19da58b",
     "showTitle": false,
     "title": ""
    }
   },
   "outputs": [
    {
     "output_type": "stream",
     "name": "stdout",
     "output_type": "stream",
     "text": [
      "['id', 'name', 'dob', 'age', 'salary', 'department'] ['id', 'name', 'dob', 'age', 'salary', 'department']\n"
     ]
    }
   ],
   "source": [
    "print(df_csv.columns,df_final_json.columns)"
   ]
  },
  {
   "cell_type": "code",
   "execution_count": 0,
   "metadata": {
    "application/vnd.databricks.v1+cell": {
     "cellMetadata": {
      "byteLimit": 2048000,
      "rowLimit": 10000
     },
     "inputWidgets": {},
     "nuid": "7bab103a-bf59-46cf-809f-1e929d1fa463",
     "showTitle": false,
     "title": ""
    }
   },
   "outputs": [
    {
     "output_type": "stream",
     "name": "stdout",
     "output_type": "stream",
     "text": [
      "+---+------+----------+----+------+----------+\n| id|  name|       dob| age|salary|department|\n+---+------+----------+----+------+----------+\n| 10|Sophie|1992-06-30|  30| 62000|   Finance|\n|  2| Alice|1997-02-28|  25| 90000|   Finance|\n|  4| Emily|1994-11-22|  28| 70000|   Finance|\n|  9| James|1983-10-14|  39| 87000|        IT|\n|  1|  John|1992-05-12|  30| 70000|        IT|\n|  8|  Lisa|1995-08-20|  27| 58000|        HR|\n|  1|  John|1992-05-12|  30| 70000|        IT|\n|  2| Alice|1997-02-28|  25| 60000|        HR|\n|  3|   Bob|      null|null| 80000|        IT|\n|  4| Emily|1994-11-22|  28| 65000|   Finance|\n|  5| David|1981-12-18|  41| 90000|        HR|\n|  6| Susan|1989-07-05|  33| 75000|   Finance|\n|  7|  Mike|1976-03-15|  46| 95000|        IT|\n+---+------+----------+----+------+----------+\n\n"
     ]
    }
   ],
   "source": [
    "#to change the order of columns\n",
    "df_final_json = df_final_json.select(df_csv.columns)\n",
    "df_final_json.show()"
   ]
  },
  {
   "cell_type": "markdown",
   "metadata": {
    "application/vnd.databricks.v1+cell": {
     "cellMetadata": {
      "byteLimit": 2048000,
      "rowLimit": 10000
     },
     "inputWidgets": {},
     "nuid": "5152ea22-5dd4-4f2a-bf7c-11fa5ef5c736",
     "showTitle": false,
     "title": ""
    }
   },
   "source": [
    "Union and unionall gives same output in pyspark"
   ]
  },
  {
   "cell_type": "code",
   "execution_count": 0,
   "metadata": {
    "application/vnd.databricks.v1+cell": {
     "cellMetadata": {
      "byteLimit": 2048000,
      "rowLimit": 10000
     },
     "inputWidgets": {},
     "nuid": "04785c63-9528-4dc7-987b-669cce368729",
     "showTitle": false,
     "title": ""
    }
   },
   "outputs": [
    {
     "output_type": "stream",
     "name": "stdout",
     "output_type": "stream",
     "text": [
      "+---+------+----------+----+------+----------+\n| id|  name|       dob| age|salary|department|\n+---+------+----------+----+------+----------+\n|  1|  John|1992-05-12|  30| 70000|        IT|\n|  2| Alice|1997-02-28|  25| 60000|        HR|\n|  3|   Bob|      null|null| 80000|        IT|\n|  4| Emily|1994-11-22|  28| 65000|   Finance|\n| 10|Sophie|1992-06-30|  30| 62000|   Finance|\n|  2| Alice|1997-02-28|  25| 90000|   Finance|\n|  4| Emily|1994-11-22|  28| 70000|   Finance|\n|  9| James|1983-10-14|  39| 87000|        IT|\n|  1|  John|1992-05-12|  30| 70000|        IT|\n|  8|  Lisa|1995-08-20|  27| 58000|        HR|\n|  1|  John|1992-05-12|  30| 70000|        IT|\n|  2| Alice|1997-02-28|  25| 60000|        HR|\n|  3|   Bob|      null|null| 80000|        IT|\n|  4| Emily|1994-11-22|  28| 65000|   Finance|\n|  5| David|1981-12-18|  41| 90000|        HR|\n|  6| Susan|1989-07-05|  33| 75000|   Finance|\n|  7|  Mike|1976-03-15|  46| 95000|        IT|\n+---+------+----------+----+------+----------+\n\n"
     ]
    }
   ],
   "source": [
    "df = df_csv.union(df_final_json)\n",
    "df.show()"
   ]
  },
  {
   "cell_type": "code",
   "execution_count": 0,
   "metadata": {
    "application/vnd.databricks.v1+cell": {
     "cellMetadata": {
      "byteLimit": 2048000,
      "rowLimit": 10000
     },
     "inputWidgets": {},
     "nuid": "a1846b24-781e-474d-a67e-3da3344c42bc",
     "showTitle": false,
     "title": ""
    }
   },
   "outputs": [
    {
     "output_type": "stream",
     "name": "stdout",
     "output_type": "stream",
     "text": [
      "root\n |-- id: integer (nullable = true)\n |-- name: string (nullable = true)\n |-- dob: date (nullable = true)\n |-- age: integer (nullable = true)\n |-- salary: integer (nullable = true)\n |-- department: string (nullable = true)\n\n"
     ]
    }
   ],
   "source": [
    "df.printSchema()"
   ]
  },
  {
   "cell_type": "code",
   "execution_count": 0,
   "metadata": {
    "application/vnd.databricks.v1+cell": {
     "cellMetadata": {
      "byteLimit": 2048000,
      "rowLimit": 10000
     },
     "inputWidgets": {},
     "nuid": "b6ef9655-8ee7-4962-ac5d-729ddddb74a4",
     "showTitle": false,
     "title": ""
    }
   },
   "outputs": [
    {
     "output_type": "stream",
     "name": "stdout",
     "output_type": "stream",
     "text": [
      "+---+------+----------+----+------+----------+\n| id|  name|       dob| age|salary|department|\n+---+------+----------+----+------+----------+\n|  3|   Bob|      null|null| 80000|        IT|\n|  4| Emily|1994-11-22|  28| 65000|   Finance|\n|  2| Alice|1997-02-28|  25| 60000|        HR|\n|  1|  John|1992-05-12|  30| 70000|        IT|\n| 10|Sophie|1992-06-30|  30| 62000|   Finance|\n|  2| Alice|1997-02-28|  25| 90000|   Finance|\n|  4| Emily|1994-11-22|  28| 70000|   Finance|\n|  9| James|1983-10-14|  39| 87000|        IT|\n|  8|  Lisa|1995-08-20|  27| 58000|        HR|\n|  5| David|1981-12-18|  41| 90000|        HR|\n|  6| Susan|1989-07-05|  33| 75000|   Finance|\n|  7|  Mike|1976-03-15|  46| 95000|        IT|\n+---+------+----------+----+------+----------+\n\n"
     ]
    }
   ],
   "source": [
    "df = df.dropDuplicates()\n",
    "df.show()"
   ]
  },
  {
   "cell_type": "code",
   "execution_count": 0,
   "metadata": {
    "application/vnd.databricks.v1+cell": {
     "cellMetadata": {
      "byteLimit": 2048000,
      "rowLimit": 10000
     },
     "inputWidgets": {},
     "nuid": "569b1ed6-5560-4832-b61c-1f9121a6aced",
     "showTitle": false,
     "title": ""
    }
   },
   "outputs": [
    {
     "output_type": "stream",
     "name": "stdout",
     "output_type": "stream",
     "text": [
      "Out[87]: 12"
     ]
    }
   ],
   "source": [
    "df.count()"
   ]
  },
  {
   "cell_type": "code",
   "execution_count": 0,
   "metadata": {
    "application/vnd.databricks.v1+cell": {
     "cellMetadata": {
      "byteLimit": 2048000,
      "rowLimit": 10000
     },
     "inputWidgets": {},
     "nuid": "e2671684-ace5-4549-b356-32cced67550b",
     "showTitle": false,
     "title": ""
    }
   },
   "outputs": [
    {
     "output_type": "stream",
     "name": "stdout",
     "output_type": "stream",
     "text": [
      "+------+----+\n|salary| age|\n+------+----+\n| 80000|null|\n| 65000|  28|\n| 60000|  25|\n| 70000|  30|\n| 62000|  30|\n| 90000|  25|\n| 70000|  28|\n| 87000|  39|\n| 58000|  27|\n| 90000|  41|\n| 75000|  33|\n| 95000|  46|\n+------+----+\n\n+------+----+\n|salary| age|\n+------+----+\n| 80000|null|\n| 65000|  28|\n| 60000|  25|\n| 70000|  30|\n| 62000|  30|\n| 90000|  25|\n| 70000|  28|\n| 87000|  39|\n| 58000|  27|\n| 90000|  41|\n| 75000|  33|\n| 95000|  46|\n+------+----+\n\n+------+----+\n|salary| age|\n+------+----+\n| 80000|null|\n| 65000|  28|\n| 60000|  25|\n| 70000|  30|\n| 62000|  30|\n| 90000|  25|\n| 70000|  28|\n| 87000|  39|\n| 58000|  27|\n| 90000|  41|\n| 75000|  33|\n| 95000|  46|\n+------+----+\n\n+------+----+\n|salary| age|\n+------+----+\n| 80000|null|\n| 65000|  28|\n| 60000|  25|\n| 70000|  30|\n| 62000|  30|\n| 90000|  25|\n| 70000|  28|\n| 87000|  39|\n| 58000|  27|\n| 90000|  41|\n| 75000|  33|\n| 95000|  46|\n+------+----+\n\n"
     ]
    }
   ],
   "source": [
    "df.select(\n",
    "    \"salary\",\n",
    "    \"age\"\n",
    ").show()\n",
    "\n",
    "df.select(\n",
    "    [\"salary\",\"age\"]\n",
    ").show()\n",
    "\n",
    "df.select(\n",
    "    df.salary,\n",
    "    df.age\n",
    ").show()\n",
    "\n",
    "df.select(\n",
    "    f.col(\"salary\"),\n",
    "    f.col(\"age\")\n",
    ").show()"
   ]
  },
  {
   "cell_type": "code",
   "execution_count": 0,
   "metadata": {
    "application/vnd.databricks.v1+cell": {
     "cellMetadata": {
      "byteLimit": 2048000,
      "rowLimit": 10000
     },
     "inputWidgets": {},
     "nuid": "f7990462-a426-4eff-9c98-9d6c8206fca6",
     "showTitle": false,
     "title": ""
    }
   },
   "outputs": [],
   "source": [
    "from pyspark.sql import functions as f"
   ]
  },
  {
   "cell_type": "code",
   "execution_count": 0,
   "metadata": {
    "application/vnd.databricks.v1+cell": {
     "cellMetadata": {
      "byteLimit": 2048000,
      "rowLimit": 10000
     },
     "inputWidgets": {},
     "nuid": "75731af7-34ae-4510-9f7d-a851eca045a0",
     "showTitle": false,
     "title": ""
    }
   },
   "outputs": [
    {
     "output_type": "stream",
     "name": "stdout",
     "output_type": "stream",
     "text": [
      "+------+------------+----+\n|salary|salary_raise| age|\n+------+------------+----+\n| 80000|     84000.0|null|\n| 65000|     68250.0|  30|\n| 60000|     63000.0|  27|\n| 70000|     73500.0|  32|\n| 62000|     65100.0|  32|\n| 90000|     94500.0|  27|\n| 70000|     73500.0|  30|\n| 87000|     91350.0|  41|\n| 58000|     60900.0|  29|\n| 90000|     94500.0|  43|\n| 75000|     78750.0|  35|\n| 95000|     99750.0|  48|\n+------+------------+----+\n\n"
     ]
    }
   ],
   "source": [
    "df.select(\n",
    "    df.salary,\n",
    "    (df.salary + .05*df.salary).alias(\"salary_raise\"),\n",
    "    (f.year(f.current_timestamp())-f.year(\"dob\")).alias(\"age\")\n",
    ").show()"
   ]
  },
  {
   "cell_type": "markdown",
   "metadata": {
    "application/vnd.databricks.v1+cell": {
     "cellMetadata": {
      "byteLimit": 2048000,
      "rowLimit": 10000
     },
     "inputWidgets": {},
     "nuid": "e97e9f0a-ae05-49c0-bb6d-fc666037e240",
     "showTitle": false,
     "title": ""
    }
   },
   "source": [
    "#WithColumn"
   ]
  },
  {
   "cell_type": "code",
   "execution_count": 0,
   "metadata": {
    "application/vnd.databricks.v1+cell": {
     "cellMetadata": {
      "byteLimit": 2048000,
      "rowLimit": 10000
     },
     "inputWidgets": {},
     "nuid": "d04a15d9-c2e8-49a8-a7f9-0de662c990a0",
     "showTitle": false,
     "title": ""
    }
   },
   "outputs": [
    {
     "output_type": "stream",
     "name": "stdout",
     "output_type": "stream",
     "text": [
      "+---+------+----------+----+------+----------+-------------+--------------------+\n| id|  name|       dob| age|salary|department|salary_raised|salary_raised_10_per|\n+---+------+----------+----+------+----------+-------------+--------------------+\n|  3|   Bob|      null|null| 80000|        IT|      84000.0|             88000.0|\n|  4| Emily|1994-11-22|  28| 65000|   Finance|      68250.0|             71500.0|\n|  2| Alice|1997-02-28|  25| 60000|        HR|      63000.0|             66000.0|\n|  1|  John|1992-05-12|  30| 70000|        IT|      73500.0|             77000.0|\n| 10|Sophie|1992-06-30|  30| 62000|   Finance|      65100.0|             68200.0|\n|  2| Alice|1997-02-28|  25| 90000|   Finance|      94500.0|             99000.0|\n|  4| Emily|1994-11-22|  28| 70000|   Finance|      73500.0|             77000.0|\n|  9| James|1983-10-14|  39| 87000|        IT|      91350.0|             95700.0|\n|  8|  Lisa|1995-08-20|  27| 58000|        HR|      60900.0|             63800.0|\n|  5| David|1981-12-18|  41| 90000|        HR|      94500.0|             99000.0|\n|  6| Susan|1989-07-05|  33| 75000|   Finance|      78750.0|             82500.0|\n|  7|  Mike|1976-03-15|  46| 95000|        IT|      99750.0|            104500.0|\n+---+------+----------+----+------+----------+-------------+--------------------+\n\n"
     ]
    }
   ],
   "source": [
    "df = df.withColumn(\n",
    "    \"salary_raised\",\n",
    "    df.salary + .05*df.salary\n",
    ")\n",
    "\n",
    "df = df.withColumn(\n",
    "    \"salary_raised_10_per\",\n",
    "    df.salary + .1*df.salary\n",
    ")\n",
    "\n",
    "#0r\n",
    "'''\n",
    "df = df.withColumn(\n",
    "    \"salary_raised\",\n",
    "    df.salary + .05*df.salary\n",
    ").withColumn(\n",
    "    \"salary_raised_10_per\",\n",
    "    df.salary + .1*df.salary\n",
    ")\n",
    "'''\n",
    "df.show()"
   ]
  },
  {
   "cell_type": "markdown",
   "metadata": {
    "application/vnd.databricks.v1+cell": {
     "cellMetadata": {
      "byteLimit": 2048000,
      "rowLimit": 10000
     },
     "inputWidgets": {},
     "nuid": "4b799fb3-2b86-4538-8928-9824dd99af1e",
     "showTitle": false,
     "title": ""
    }
   },
   "source": [
    "#WithColumns"
   ]
  },
  {
   "cell_type": "code",
   "execution_count": 0,
   "metadata": {
    "application/vnd.databricks.v1+cell": {
     "cellMetadata": {
      "byteLimit": 2048000,
      "rowLimit": 10000
     },
     "inputWidgets": {},
     "nuid": "2719885c-26be-4127-bbf5-49de22d7fecf",
     "showTitle": false,
     "title": ""
    }
   },
   "outputs": [
    {
     "output_type": "stream",
     "name": "stdout",
     "output_type": "stream",
     "text": [
      "+---+------+----------+----+------+----------+-------------+--------------------+----+\n| id|  name|       dob| age|salary|department|salary_raised|salary_raised_10_per|age1|\n+---+------+----------+----+------+----------+-------------+--------------------+----+\n|  3|   Bob|      null|null| 80000|        IT|      84000.0|             88000.0|null|\n|  4| Emily|1994-11-22|  28| 65000|   Finance|      68250.0|             71500.0|  30|\n|  2| Alice|1997-02-28|  25| 60000|        HR|      63000.0|             66000.0|  27|\n|  1|  John|1992-05-12|  30| 70000|        IT|      73500.0|             77000.0|  32|\n| 10|Sophie|1992-06-30|  30| 62000|   Finance|      65100.0|             68200.0|  32|\n|  2| Alice|1997-02-28|  25| 90000|   Finance|      94500.0|             99000.0|  27|\n|  4| Emily|1994-11-22|  28| 70000|   Finance|      73500.0|             77000.0|  30|\n|  9| James|1983-10-14|  39| 87000|        IT|      91350.0|             95700.0|  41|\n|  8|  Lisa|1995-08-20|  27| 58000|        HR|      60900.0|             63800.0|  29|\n|  5| David|1981-12-18|  41| 90000|        HR|      94500.0|             99000.0|  43|\n|  6| Susan|1989-07-05|  33| 75000|   Finance|      78750.0|             82500.0|  35|\n|  7|  Mike|1976-03-15|  46| 95000|        IT|      99750.0|            104500.0|  48|\n+---+------+----------+----+------+----------+-------------+--------------------+----+\n\n"
     ]
    }
   ],
   "source": [
    "df = df.withColumns(\n",
    "    {\n",
    "        \"salary_raised\":df.salary + .05*df.salary,\n",
    "        \"age1\":f.year(f.current_timestamp())-f.year(\"dob\")\n",
    "    }\n",
    ")\n",
    "\n",
    "df.show()"
   ]
  },
  {
   "cell_type": "markdown",
   "metadata": {
    "application/vnd.databricks.v1+cell": {
     "cellMetadata": {},
     "inputWidgets": {},
     "nuid": "22fddb18-35b6-4d28-a6c7-69a3d7c986fc",
     "showTitle": false,
     "title": ""
    }
   },
   "source": [
    "#Filter"
   ]
  },
  {
   "cell_type": "code",
   "execution_count": 0,
   "metadata": {
    "application/vnd.databricks.v1+cell": {
     "cellMetadata": {
      "byteLimit": 2048000,
      "rowLimit": 10000
     },
     "inputWidgets": {},
     "nuid": "abaf3640-f87c-4731-b4a3-83bd74a0e205",
     "showTitle": false,
     "title": ""
    }
   },
   "outputs": [
    {
     "output_type": "stream",
     "name": "stdout",
     "output_type": "stream",
     "text": [
      "+---+-----+----------+----+------+----------+-------------+--------------------+----+\n| id| name|       dob| age|salary|department|salary_raised|salary_raised_10_per|age1|\n+---+-----+----------+----+------+----------+-------------+--------------------+----+\n|  3|  Bob|      null|null| 80000|        IT|      84000.0|             88000.0|null|\n|  2|Alice|1997-02-28|  25| 90000|   Finance|      94500.0|             99000.0|  27|\n|  9|James|1983-10-14|  39| 87000|        IT|      91350.0|             95700.0|  41|\n|  5|David|1981-12-18|  41| 90000|        HR|      94500.0|             99000.0|  43|\n|  6|Susan|1989-07-05|  33| 75000|   Finance|      78750.0|             82500.0|  35|\n|  7| Mike|1976-03-15|  46| 95000|        IT|      99750.0|            104500.0|  48|\n+---+-----+----------+----+------+----------+-------------+--------------------+----+\n\n"
     ]
    }
   ],
   "source": [
    "df.filter(\n",
    "    f.col(\"salary_raised\") >= 75000\n",
    ").show()"
   ]
  },
  {
   "cell_type": "code",
   "execution_count": 0,
   "metadata": {
    "application/vnd.databricks.v1+cell": {
     "cellMetadata": {
      "byteLimit": 2048000,
      "rowLimit": 10000
     },
     "inputWidgets": {},
     "nuid": "996c9e77-3410-43ed-b682-de617a661aa5",
     "showTitle": false,
     "title": ""
    }
   },
   "outputs": [
    {
     "output_type": "stream",
     "name": "stdout",
     "output_type": "stream",
     "text": [
      "+---+-----+----------+----+------+----------+-------------+--------------------+----+\n| id| name|       dob| age|salary|department|salary_raised|salary_raised_10_per|age1|\n+---+-----+----------+----+------+----------+-------------+--------------------+----+\n|  3|  Bob|      null|null| 80000|        IT|      84000.0|             88000.0|null|\n|  2|Alice|1997-02-28|  25| 90000|   Finance|      94500.0|             99000.0|  27|\n|  9|James|1983-10-14|  39| 87000|        IT|      91350.0|             95700.0|  41|\n|  5|David|1981-12-18|  41| 90000|        HR|      94500.0|             99000.0|  43|\n|  6|Susan|1989-07-05|  33| 75000|   Finance|      78750.0|             82500.0|  35|\n|  7| Mike|1976-03-15|  46| 95000|        IT|      99750.0|            104500.0|  48|\n+---+-----+----------+----+------+----------+-------------+--------------------+----+\n\n"
     ]
    }
   ],
   "source": [
    "#using where\n",
    "df.where(\n",
    "    f.col(\"salary_raised\") >= 75000\n",
    ").show()"
   ]
  },
  {
   "cell_type": "markdown",
   "metadata": {
    "application/vnd.databricks.v1+cell": {
     "cellMetadata": {},
     "inputWidgets": {},
     "nuid": "c5bed9b5-fdfb-40ac-aa6e-ce3ec8a8ea55",
     "showTitle": false,
     "title": ""
    }
   },
   "source": [
    "#When Otherwise"
   ]
  },
  {
   "cell_type": "code",
   "execution_count": 0,
   "metadata": {
    "application/vnd.databricks.v1+cell": {
     "cellMetadata": {
      "byteLimit": 2048000,
      "rowLimit": 10000
     },
     "inputWidgets": {},
     "nuid": "fb06365f-b581-49c6-8034-a68cf30e6dec",
     "showTitle": false,
     "title": ""
    }
   },
   "outputs": [
    {
     "output_type": "stream",
     "name": "stdout",
     "output_type": "stream",
     "text": [
      "+---+------+----------+----+------+----------+-------------+--------------------+----+------------+\n| id|  name|       dob| age|salary|department|salary_raised|salary_raised_10_per|age1|   age_group|\n+---+------+----------+----+------+----------+-------------+--------------------+----+------------+\n|  3|   Bob|      null|null| 80000|        IT|      84000.0|             88000.0|null|more than 40|\n|  4| Emily|1994-11-22|  28| 65000|   Finance|      68250.0|             71500.0|  30|    21 to 30|\n|  2| Alice|1997-02-28|  25| 60000|        HR|      63000.0|             66000.0|  27|    21 to 30|\n|  1|  John|1992-05-12|  30| 70000|        IT|      73500.0|             77000.0|  32|    21 to 30|\n| 10|Sophie|1992-06-30|  30| 62000|   Finance|      65100.0|             68200.0|  32|    21 to 30|\n|  2| Alice|1997-02-28|  25| 90000|   Finance|      94500.0|             99000.0|  27|    21 to 30|\n|  4| Emily|1994-11-22|  28| 70000|   Finance|      73500.0|             77000.0|  30|    21 to 30|\n|  9| James|1983-10-14|  39| 87000|        IT|      91350.0|             95700.0|  41|    31 to 40|\n|  8|  Lisa|1995-08-20|  27| 58000|        HR|      60900.0|             63800.0|  29|    21 to 30|\n|  5| David|1981-12-18|  41| 90000|        HR|      94500.0|             99000.0|  43|more than 40|\n|  6| Susan|1989-07-05|  33| 75000|   Finance|      78750.0|             82500.0|  35|    31 to 40|\n|  7|  Mike|1976-03-15|  46| 95000|        IT|      99750.0|            104500.0|  48|more than 40|\n+---+------+----------+----+------+----------+-------------+--------------------+----+------------+\n\n"
     ]
    }
   ],
   "source": [
    "df = df.withColumn(\n",
    "    \"age_group\",\n",
    "    f.when(\n",
    "        (f.col(\"age\")<=20),\n",
    "        \"Upto 20\"\n",
    "    ).when(\n",
    "        (f.col(\"age\")>20) &\n",
    "        (f.col(\"age\")<=30),\n",
    "        \"21 to 30\"\n",
    "    ).when(\n",
    "        (f.col(\"age\")>30) &\n",
    "        (f.col(\"age\")<=40),\n",
    "        \"31 to 40\"\n",
    "    ).otherwise(\n",
    "        \"more than 40\"\n",
    "    )\n",
    "\n",
    ")\n",
    "\n",
    "df.show()"
   ]
  },
  {
   "cell_type": "markdown",
   "metadata": {
    "application/vnd.databricks.v1+cell": {
     "cellMetadata": {},
     "inputWidgets": {},
     "nuid": "c990381d-8208-4986-b477-0a057311568b",
     "showTitle": false,
     "title": ""
    }
   },
   "source": [
    "#Lit"
   ]
  },
  {
   "cell_type": "code",
   "execution_count": 0,
   "metadata": {
    "application/vnd.databricks.v1+cell": {
     "cellMetadata": {
      "byteLimit": 2048000,
      "rowLimit": 10000
     },
     "inputWidgets": {},
     "nuid": "75c47f0f-d262-467a-af2c-57f273427920",
     "showTitle": false,
     "title": ""
    }
   },
   "outputs": [
    {
     "output_type": "stream",
     "name": "stdout",
     "output_type": "stream",
     "text": [
      "+---+------+----------+----+------+----------+-------------+--------------------+----+------------+\n| id|  name|       dob| age|salary|department|salary_raised|salary_raised_10_per|age1|   age_group|\n+---+------+----------+----+------+----------+-------------+--------------------+----+------------+\n|  3|   Bob|      null|null| 80000|        IT|      84000.0|             88000.0|null|more than 40|\n|  4| Emily|1994-11-22|  28| 65000|   Finance|      68250.0|             71500.0|  30|    21 to 30|\n|  2| Alice|1997-02-28|  25| 60000|        HR|      63000.0|             66000.0|  27|    21 to 30|\n|  1|  John|1992-05-12|  30| 70000|        IT|      73500.0|             77000.0|  32|    21 to 30|\n| 10|Sophie|1992-06-30|  30| 62000|   Finance|      65100.0|             68200.0|  32|    21 to 30|\n|  2| Alice|1997-02-28|  25| 90000|   Finance|      94500.0|             99000.0|  27|    21 to 30|\n|  4| Emily|1994-11-22|  28| 70000|   Finance|      73500.0|             77000.0|  30|    21 to 30|\n|  9| James|1983-10-14|  39| 87000|        IT|      91350.0|             95700.0|  41|    31 to 40|\n|  8|  Lisa|1995-08-20|  27| 58000|        HR|      60900.0|             63800.0|  29|    21 to 30|\n|  5| David|1981-12-18|  41| 90000|        HR|      94500.0|             99000.0|  43|more than 40|\n|  6| Susan|1989-07-05|  33| 75000|   Finance|      78750.0|             82500.0|  35|    31 to 40|\n|  7|  Mike|1976-03-15|  46| 95000|        IT|      99750.0|            104500.0|  48|more than 40|\n+---+------+----------+----+------+----------+-------------+--------------------+----+------------+\n\n"
     ]
    }
   ],
   "source": [
    "df = df.withColumn(\n",
    "    \"age_group\",\n",
    "    f.when(\n",
    "        (f.col(\"age\")<=20),\n",
    "        f.lit(\"Upto 20\")\n",
    "    ).when(\n",
    "        (f.col(\"age\")>20) &\n",
    "        (f.col(\"age\")<=30),\n",
    "        f.lit(\"21 to 30\")\n",
    "    ).when(\n",
    "        (f.col(\"age\")>30) &\n",
    "        (f.col(\"age\")<=40),\n",
    "        f.lit(\"31 to 40\")\n",
    "    ).otherwise(\n",
    "        f.lit(\"more than 40\")\n",
    "    )\n",
    "\n",
    ")\n",
    "\n",
    "df.show()"
   ]
  },
  {
   "cell_type": "markdown",
   "metadata": {
    "application/vnd.databricks.v1+cell": {
     "cellMetadata": {},
     "inputWidgets": {},
     "nuid": "facc0dae-8934-47d4-a98e-56afbc29da32",
     "showTitle": false,
     "title": ""
    }
   },
   "source": [
    "#Nulls"
   ]
  },
  {
   "cell_type": "code",
   "execution_count": 0,
   "metadata": {
    "application/vnd.databricks.v1+cell": {
     "cellMetadata": {
      "byteLimit": 2048000,
      "rowLimit": 10000
     },
     "inputWidgets": {},
     "nuid": "1985e876-46a4-4c72-9577-c7fab4d7846f",
     "showTitle": false,
     "title": ""
    }
   },
   "outputs": [
    {
     "output_type": "stream",
     "name": "stdout",
     "output_type": "stream",
     "text": [
      "+---+------+----------+---+------+----------+-------------+--------------------+----+------------+---------+---------+\n| id|  name|       dob|age|salary|department|salary_raised|salary_raised_10_per|age1|   age_group|has_dob_1|has_dob_2|\n+---+------+----------+---+------+----------+-------------+--------------------+----+------------+---------+---------+\n|  3|   Bob|      null| -1| 80000|        IT|      84000.0|             88000.0|null|more than 40|    false|    false|\n|  4| Emily|1994-11-22| 30| 65000|   Finance|      68250.0|             71500.0|  30|    21 to 30|     true|     true|\n|  2| Alice|1997-02-28| 27| 60000|        HR|      63000.0|             66000.0|  27|    21 to 30|     true|     true|\n|  1|  John|1992-05-12| 32| 70000|        IT|      73500.0|             77000.0|  32|    21 to 30|     true|     true|\n| 10|Sophie|1992-06-30| 32| 62000|   Finance|      65100.0|             68200.0|  32|    21 to 30|     true|     true|\n|  2| Alice|1997-02-28| 27| 90000|   Finance|      94500.0|             99000.0|  27|    21 to 30|     true|     true|\n|  4| Emily|1994-11-22| 30| 70000|   Finance|      73500.0|             77000.0|  30|    21 to 30|     true|     true|\n|  9| James|1983-10-14| 41| 87000|        IT|      91350.0|             95700.0|  41|    31 to 40|     true|     true|\n|  8|  Lisa|1995-08-20| 29| 58000|        HR|      60900.0|             63800.0|  29|    21 to 30|     true|     true|\n|  5| David|1981-12-18| 43| 90000|        HR|      94500.0|             99000.0|  43|more than 40|     true|     true|\n|  6| Susan|1989-07-05| 35| 75000|   Finance|      78750.0|             82500.0|  35|    31 to 40|     true|     true|\n|  7|  Mike|1976-03-15| 48| 95000|        IT|      99750.0|            104500.0|  48|more than 40|     true|     true|\n+---+------+----------+---+------+----------+-------------+--------------------+----+------------+---------+---------+\n\n"
     ]
    }
   ],
   "source": [
    "df = df.withColumns(\n",
    "    {\n",
    "        \"age\":f.coalesce(\n",
    "            f.year(f.current_timestamp())-f.year(\"dob\"),\n",
    "            f.lit(-1)\n",
    "        ),\n",
    "        \"has_dob_1\":~f.isnull(\"dob\"),\n",
    "        \"has_dob_2\":f.col(\"dob\").isNotNull()\n",
    "    }\n",
    "\n",
    ")\n",
    "df.show()"
   ]
  },
  {
   "cell_type": "markdown",
   "metadata": {
    "application/vnd.databricks.v1+cell": {
     "cellMetadata": {
      "byteLimit": 2048000,
      "rowLimit": 10000
     },
     "inputWidgets": {},
     "nuid": "21935e1d-fb0b-4e0b-96b1-c66cb50c77c2",
     "showTitle": false,
     "title": ""
    }
   },
   "source": [
    "#DropColumns"
   ]
  },
  {
   "cell_type": "code",
   "execution_count": 0,
   "metadata": {
    "application/vnd.databricks.v1+cell": {
     "cellMetadata": {
      "byteLimit": 2048000,
      "rowLimit": 10000
     },
     "inputWidgets": {},
     "nuid": "fc6aac3b-0998-4b10-8d3b-933dd63c7044",
     "showTitle": false,
     "title": ""
    }
   },
   "outputs": [
    {
     "output_type": "stream",
     "name": "stdout",
     "output_type": "stream",
     "text": [
      "+---+------+----------+---+------+----------+-------------+------------+\n| id|  name|       dob|age|salary|department|salary_raised|   age_group|\n+---+------+----------+---+------+----------+-------------+------------+\n|  3|   Bob|      null| -1| 80000|        IT|      84000.0|more than 40|\n|  4| Emily|1994-11-22| 30| 65000|   Finance|      68250.0|    21 to 30|\n|  2| Alice|1997-02-28| 27| 60000|        HR|      63000.0|    21 to 30|\n|  1|  John|1992-05-12| 32| 70000|        IT|      73500.0|    21 to 30|\n| 10|Sophie|1992-06-30| 32| 62000|   Finance|      65100.0|    21 to 30|\n|  2| Alice|1997-02-28| 27| 90000|   Finance|      94500.0|    21 to 30|\n|  4| Emily|1994-11-22| 30| 70000|   Finance|      73500.0|    21 to 30|\n|  9| James|1983-10-14| 41| 87000|        IT|      91350.0|    31 to 40|\n|  8|  Lisa|1995-08-20| 29| 58000|        HR|      60900.0|    21 to 30|\n|  5| David|1981-12-18| 43| 90000|        HR|      94500.0|more than 40|\n|  6| Susan|1989-07-05| 35| 75000|   Finance|      78750.0|    31 to 40|\n|  7|  Mike|1976-03-15| 48| 95000|        IT|      99750.0|more than 40|\n+---+------+----------+---+------+----------+-------------+------------+\n\n"
     ]
    }
   ],
   "source": [
    "df = df.drop(\"salary_raised_10_per\",\"age1\",\"has_dob_1\",\"has_dob_2\")\n",
    "df.show()"
   ]
  },
  {
   "cell_type": "markdown",
   "metadata": {
    "application/vnd.databricks.v1+cell": {
     "cellMetadata": {},
     "inputWidgets": {},
     "nuid": "f71171f1-c6ea-48ca-bc3f-39d75db9a19a",
     "showTitle": false,
     "title": ""
    }
   },
   "source": [
    "#WithColumnRenamed"
   ]
  },
  {
   "cell_type": "code",
   "execution_count": 0,
   "metadata": {
    "application/vnd.databricks.v1+cell": {
     "cellMetadata": {
      "byteLimit": 2048000,
      "rowLimit": 10000
     },
     "inputWidgets": {},
     "nuid": "1460297e-f7c8-4f35-ab8f-0c9c9ff20905",
     "showTitle": false,
     "title": ""
    }
   },
   "outputs": [],
   "source": [
    "df = df.withColumnRenamed(\"name\",\"First_name\")"
   ]
  },
  {
   "cell_type": "code",
   "execution_count": 0,
   "metadata": {
    "application/vnd.databricks.v1+cell": {
     "cellMetadata": {
      "byteLimit": 2048000,
      "rowLimit": 10000
     },
     "inputWidgets": {},
     "nuid": "870459f5-3844-42ac-a85c-2ae17e841427",
     "showTitle": false,
     "title": ""
    }
   },
   "outputs": [
    {
     "output_type": "stream",
     "name": "stdout",
     "output_type": "stream",
     "text": [
      "+---+----------+----------+---+------+----------+-------------+------------+\n| id|First_name|       dob|age|salary|department|salary_raised|   age_group|\n+---+----------+----------+---+------+----------+-------------+------------+\n|  3|       Bob|      null| -1| 80000|        IT|      84000.0|more than 40|\n|  4|     Emily|1994-11-22| 30| 65000|   Finance|      68250.0|    21 to 30|\n|  2|     Alice|1997-02-28| 27| 60000|        HR|      63000.0|    21 to 30|\n|  1|      John|1992-05-12| 32| 70000|        IT|      73500.0|    21 to 30|\n| 10|    Sophie|1992-06-30| 32| 62000|   Finance|      65100.0|    21 to 30|\n|  2|     Alice|1997-02-28| 27| 90000|   Finance|      94500.0|    21 to 30|\n|  4|     Emily|1994-11-22| 30| 70000|   Finance|      73500.0|    21 to 30|\n|  9|     James|1983-10-14| 41| 87000|        IT|      91350.0|    31 to 40|\n|  8|      Lisa|1995-08-20| 29| 58000|        HR|      60900.0|    21 to 30|\n|  5|     David|1981-12-18| 43| 90000|        HR|      94500.0|more than 40|\n|  6|     Susan|1989-07-05| 35| 75000|   Finance|      78750.0|    31 to 40|\n|  7|      Mike|1976-03-15| 48| 95000|        IT|      99750.0|more than 40|\n+---+----------+----------+---+------+----------+-------------+------------+\n\n"
     ]
    }
   ],
   "source": [
    "df.show()"
   ]
  },
  {
   "cell_type": "code",
   "execution_count": 0,
   "metadata": {
    "application/vnd.databricks.v1+cell": {
     "cellMetadata": {},
     "inputWidgets": {},
     "nuid": "ddc417a6-9bde-4113-bc32-0da437b4b16a",
     "showTitle": false,
     "title": ""
    }
   },
   "outputs": [],
   "source": []
  }
 ],
 "metadata": {
  "application/vnd.databricks.v1+notebook": {
   "dashboards": [],
   "language": "python",
   "notebookMetadata": {
    "mostRecentlyExecutedCommandWithImplicitDF": {
     "commandId": 2235843250619976,
     "dataframes": [
      "_sqldf"
     ]
    },
    "pythonIndentUnit": 4
   },
   "notebookName": "Pyspark",
   "widgets": {}
  }
 },
 "nbformat": 4,
 "nbformat_minor": 0
}
