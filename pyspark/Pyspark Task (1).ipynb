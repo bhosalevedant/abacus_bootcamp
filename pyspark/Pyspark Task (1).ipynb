{
 "cells": [
  {
   "cell_type": "markdown",
   "metadata": {
    "application/vnd.databricks.v1+cell": {
     "cellMetadata": {},
     "inputWidgets": {},
     "nuid": "63e39936-6133-4e5f-93e9-b07d24823619",
     "showTitle": false,
     "title": ""
    }
   },
   "source": [
    "#Task 1\n",
    "Create a new notebook\n",
    "Load both csv and json files. Union them properly\n",
    "Instead of dropping the duplicates create a boolean column is_duplicate() and set False to only One row and True to the rest of them"
   ]
  },
  {
   "cell_type": "code",
   "execution_count": 0,
   "metadata": {
    "application/vnd.databricks.v1+cell": {
     "cellMetadata": {
      "byteLimit": 2048000,
      "rowLimit": 10000
     },
     "inputWidgets": {},
     "nuid": "4fa46bf6-a996-4a6e-ab3a-a800d7260b22",
     "showTitle": false,
     "title": ""
    }
   },
   "outputs": [
    {
     "output_type": "display_data",
     "data": {
      "text/html": [
       "\n",
       "            <div>\n",
       "                <p><b>SparkSession - hive</b></p>\n",
       "                \n",
       "        <div>\n",
       "            <p><b>SparkContext</b></p>\n",
       "\n",
       "            <p><a href=\"/?o=3902034117996389#setting/sparkui/0212-044035-vqcz4i8d/driver-1674863024770569398\">Spark UI</a></p>\n",
       "\n",
       "            <dl>\n",
       "              <dt>Version</dt>\n",
       "                <dd><code>v3.3.2</code></dd>\n",
       "              <dt>Master</dt>\n",
       "                <dd><code>local[8]</code></dd>\n",
       "              <dt>AppName</dt>\n",
       "                <dd><code>Databricks Shell</code></dd>\n",
       "            </dl>\n",
       "        </div>\n",
       "        \n",
       "            </div>\n",
       "        "
      ]
     },
     "metadata": {
      "application/vnd.databricks.v1+output": {
       "addedWidgets": {},
       "arguments": {},
       "data": "\n            <div>\n                <p><b>SparkSession - hive</b></p>\n                \n        <div>\n            <p><b>SparkContext</b></p>\n\n            <p><a href=\"/?o=3902034117996389#setting/sparkui/0212-044035-vqcz4i8d/driver-1674863024770569398\">Spark UI</a></p>\n\n            <dl>\n              <dt>Version</dt>\n                <dd><code>v3.3.2</code></dd>\n              <dt>Master</dt>\n                <dd><code>local[8]</code></dd>\n              <dt>AppName</dt>\n                <dd><code>Databricks Shell</code></dd>\n            </dl>\n        </div>\n        \n            </div>\n        ",
       "datasetInfos": [],
       "metadata": {},
       "removedWidgets": [],
       "textData": null,
       "type": "htmlSandbox"
      }
     },
     "output_type": "display_data"
    }
   ],
   "source": [
    "from pyspark.sql import SparkSession\n",
    "spark = SparkSession.builder.getOrCreate()\n",
    "spark"
   ]
  },
  {
   "cell_type": "code",
   "execution_count": 0,
   "metadata": {
    "application/vnd.databricks.v1+cell": {
     "cellMetadata": {
      "byteLimit": 2048000,
      "rowLimit": 10000
     },
     "inputWidgets": {},
     "nuid": "d82e2e8e-9aab-4d57-b441-556994f67560",
     "showTitle": false,
     "title": ""
    }
   },
   "outputs": [],
   "source": [
    "from pyspark.sql.types import StructType,StructField, IntegerType, StringType, DateType\n",
    "from pyspark.sql import functions as f\n",
    "from pyspark.sql.window import Window\n"
   ]
  },
  {
   "cell_type": "code",
   "execution_count": 0,
   "metadata": {
    "application/vnd.databricks.v1+cell": {
     "cellMetadata": {
      "byteLimit": 2048000,
      "rowLimit": 10000
     },
     "inputWidgets": {},
     "nuid": "b616f047-f02d-4ef7-a436-78f981a2c6fa",
     "showTitle": false,
     "title": ""
    }
   },
   "outputs": [],
   "source": [
    "schema = StructType([\n",
    "    StructField('id',IntegerType()),\n",
    "    StructField('name',StringType()),\n",
    "    StructField('dob',DateType()),\n",
    "    StructField('age',IntegerType()),\n",
    "    StructField('salary',IntegerType()),\n",
    "    StructField('department',StringType())\n",
    "    \n",
    "])"
   ]
  },
  {
   "cell_type": "code",
   "execution_count": 0,
   "metadata": {
    "application/vnd.databricks.v1+cell": {
     "cellMetadata": {
      "byteLimit": 2048000,
      "rowLimit": 10000
     },
     "inputWidgets": {},
     "nuid": "d57e6e42-ff2f-46d7-a20c-23cfa5705edf",
     "showTitle": false,
     "title": ""
    }
   },
   "outputs": [
    {
     "output_type": "stream",
     "name": "stdout",
     "output_type": "stream",
     "text": [
      "+---+-----+----------+----+------+----------+\n| id| name|       dob| age|salary|department|\n+---+-----+----------+----+------+----------+\n|  1| John|1992-05-12|  30| 70000|        IT|\n|  2|Alice|1997-02-28|  25| 60000|        HR|\n|  3|  Bob|      null|null| 80000|        IT|\n|  4|Emily|1994-11-22|  28| 65000|   Finance|\n+---+-----+----------+----+------+----------+\n\n"
     ]
    }
   ],
   "source": [
    "df_csv = spark.read.format(\"csv\").schema(schema).option(\"header\",True).load(\"dbfs:/FileStore/tables/batch.csv\")\n",
    "df_csv.show()"
   ]
  },
  {
   "cell_type": "code",
   "execution_count": 0,
   "metadata": {
    "application/vnd.databricks.v1+cell": {
     "cellMetadata": {
      "byteLimit": 2048000,
      "rowLimit": 10000
     },
     "inputWidgets": {},
     "nuid": "a1c01b8b-0dee-4c28-bf6b-852743dcbd32",
     "showTitle": false,
     "title": ""
    }
   },
   "outputs": [
    {
     "output_type": "stream",
     "name": "stdout",
     "output_type": "stream",
     "text": [
      "root\n |-- id: integer (nullable = true)\n |-- name: string (nullable = true)\n |-- dob: date (nullable = true)\n |-- age: integer (nullable = true)\n |-- salary: integer (nullable = true)\n |-- department: string (nullable = true)\n\n"
     ]
    }
   ],
   "source": [
    "df_csv.printSchema()"
   ]
  },
  {
   "cell_type": "code",
   "execution_count": 0,
   "metadata": {
    "application/vnd.databricks.v1+cell": {
     "cellMetadata": {
      "byteLimit": 2048000,
      "rowLimit": 10000
     },
     "inputWidgets": {},
     "nuid": "3c02c37a-955a-4461-9969-ae7ed5f0a166",
     "showTitle": false,
     "title": ""
    }
   },
   "outputs": [
    {
     "output_type": "stream",
     "name": "stdout",
     "output_type": "stream",
     "text": [
      "+---+------+----------+---+------+----------+\n| id|  name|       dob|age|salary|department|\n+---+------+----------+---+------+----------+\n| 10|Sophie|1992-06-30| 30| 62000|   Finance|\n|  2| Alice|1997-02-28| 25| 90000|   Finance|\n|  4| Emily|1994-11-22| 28| 70000|   Finance|\n|  9| James|1983-10-14| 39| 87000|        IT|\n|  1|  John|1992-05-12| 30| 70000|        IT|\n|  8|  Lisa|1995-08-20| 27| 58000|        HR|\n+---+------+----------+---+------+----------+\n\n"
     ]
    }
   ],
   "source": [
    "df_json = spark.read.format(\"json\").schema(schema).load(\"dbfs:/FileStore/tables/*1.json\")\n",
    "df_json.show()"
   ]
  },
  {
   "cell_type": "code",
   "execution_count": 0,
   "metadata": {
    "application/vnd.databricks.v1+cell": {
     "cellMetadata": {
      "byteLimit": 2048000,
      "rowLimit": 10000
     },
     "inputWidgets": {},
     "nuid": "6f8610c5-d9ee-4b9c-add3-0f285f135f2e",
     "showTitle": false,
     "title": ""
    }
   },
   "outputs": [],
   "source": [
    "df_json_batch = spark.read.format(\"json\").schema(schema).load(\"dbfs:/FileStore/tables/batch.jsonl\")"
   ]
  },
  {
   "cell_type": "code",
   "execution_count": 0,
   "metadata": {
    "application/vnd.databricks.v1+cell": {
     "cellMetadata": {
      "byteLimit": 2048000,
      "rowLimit": 10000
     },
     "inputWidgets": {},
     "nuid": "89910a4e-9ce8-41c9-a628-bc9b28410bd5",
     "showTitle": false,
     "title": ""
    }
   },
   "outputs": [
    {
     "output_type": "stream",
     "name": "stdout",
     "output_type": "stream",
     "text": [
      "+---+------+----------+----+------+----------+\n| id|  name|       dob| age|salary|department|\n+---+------+----------+----+------+----------+\n| 10|Sophie|1992-06-30|  30| 62000|   Finance|\n|  2| Alice|1997-02-28|  25| 90000|   Finance|\n|  4| Emily|1994-11-22|  28| 70000|   Finance|\n|  9| James|1983-10-14|  39| 87000|        IT|\n|  1|  John|1992-05-12|  30| 70000|        IT|\n|  8|  Lisa|1995-08-20|  27| 58000|        HR|\n|  1|  John|1992-05-12|  30| 70000|        IT|\n|  2| Alice|1997-02-28|  25| 60000|        HR|\n|  3|   Bob|      null|null| 80000|        IT|\n|  4| Emily|1994-11-22|  28| 65000|   Finance|\n|  5| David|1981-12-18|  41| 90000|        HR|\n|  6| Susan|1989-07-05|  33| 75000|   Finance|\n|  7|  Mike|1976-03-15|  46| 95000|        IT|\n+---+------+----------+----+------+----------+\n\n"
     ]
    }
   ],
   "source": [
    "df_final_json = df_json.union(df_json_batch)\n",
    "df_final_json.show()"
   ]
  },
  {
   "cell_type": "code",
   "execution_count": 0,
   "metadata": {
    "application/vnd.databricks.v1+cell": {
     "cellMetadata": {
      "byteLimit": 2048000,
      "rowLimit": 10000
     },
     "inputWidgets": {},
     "nuid": "e289dfa6-ea3a-4062-9270-fa24246d2565",
     "showTitle": false,
     "title": ""
    }
   },
   "outputs": [
    {
     "output_type": "stream",
     "name": "stdout",
     "output_type": "stream",
     "text": [
      "root\n |-- id: integer (nullable = true)\n |-- name: string (nullable = true)\n |-- dob: date (nullable = true)\n |-- age: integer (nullable = true)\n |-- salary: integer (nullable = true)\n |-- department: string (nullable = true)\n\n"
     ]
    }
   ],
   "source": [
    "df_final_json.printSchema()"
   ]
  },
  {
   "cell_type": "code",
   "execution_count": 0,
   "metadata": {
    "application/vnd.databricks.v1+cell": {
     "cellMetadata": {
      "byteLimit": 2048000,
      "rowLimit": 10000
     },
     "inputWidgets": {},
     "nuid": "f3913781-8bd2-4f6e-a67a-26340cc9b9c1",
     "showTitle": false,
     "title": ""
    }
   },
   "outputs": [
    {
     "output_type": "stream",
     "name": "stdout",
     "output_type": "stream",
     "text": [
      "+---+------+----------+----+------+----------+\n| id|  name|       dob| age|salary|department|\n+---+------+----------+----+------+----------+\n| 10|Sophie|1992-06-30|  30| 62000|   Finance|\n|  2| Alice|1997-02-28|  25| 90000|   Finance|\n|  4| Emily|1994-11-22|  28| 70000|   Finance|\n|  9| James|1983-10-14|  39| 87000|        IT|\n|  1|  John|1992-05-12|  30| 70000|        IT|\n|  8|  Lisa|1995-08-20|  27| 58000|        HR|\n|  1|  John|1992-05-12|  30| 70000|        IT|\n|  2| Alice|1997-02-28|  25| 60000|        HR|\n|  3|   Bob|      null|null| 80000|        IT|\n|  4| Emily|1994-11-22|  28| 65000|   Finance|\n|  5| David|1981-12-18|  41| 90000|        HR|\n|  6| Susan|1989-07-05|  33| 75000|   Finance|\n|  7|  Mike|1976-03-15|  46| 95000|        IT|\n+---+------+----------+----+------+----------+\n\n"
     ]
    }
   ],
   "source": [
    "#to change the order of columns\n",
    "df_final_json = df_final_json.select(df_csv.columns)\n",
    "df_final_json.show()"
   ]
  },
  {
   "cell_type": "code",
   "execution_count": 0,
   "metadata": {
    "application/vnd.databricks.v1+cell": {
     "cellMetadata": {
      "byteLimit": 2048000,
      "rowLimit": 10000
     },
     "inputWidgets": {},
     "nuid": "1d40bdb2-7c33-4297-9a4c-eafd0f8c40a3",
     "showTitle": false,
     "title": ""
    }
   },
   "outputs": [
    {
     "output_type": "stream",
     "name": "stdout",
     "output_type": "stream",
     "text": [
      "+---+------+----------+----+------+----------+\n| id|  name|       dob| age|salary|department|\n+---+------+----------+----+------+----------+\n|  1|  John|1992-05-12|  30| 70000|        IT|\n|  1|  John|1992-05-12|  30| 70000|        IT|\n|  1|  John|1992-05-12|  30| 70000|        IT|\n|  2| Alice|1997-02-28|  25| 90000|   Finance|\n|  2| Alice|1997-02-28|  25| 60000|        HR|\n|  2| Alice|1997-02-28|  25| 60000|        HR|\n|  3|   Bob|      null|null| 80000|        IT|\n|  3|   Bob|      null|null| 80000|        IT|\n|  4| Emily|1994-11-22|  28| 70000|   Finance|\n|  4| Emily|1994-11-22|  28| 65000|   Finance|\n|  4| Emily|1994-11-22|  28| 65000|   Finance|\n|  5| David|1981-12-18|  41| 90000|        HR|\n|  6| Susan|1989-07-05|  33| 75000|   Finance|\n|  7|  Mike|1976-03-15|  46| 95000|        IT|\n|  8|  Lisa|1995-08-20|  27| 58000|        HR|\n|  9| James|1983-10-14|  39| 87000|        IT|\n| 10|Sophie|1992-06-30|  30| 62000|   Finance|\n+---+------+----------+----+------+----------+\n\n"
     ]
    }
   ],
   "source": [
    "df = df_csv.union(df_final_json).orderBy(\"id\")\n",
    "df.show()"
   ]
  },
  {
   "cell_type": "code",
   "execution_count": 0,
   "metadata": {
    "application/vnd.databricks.v1+cell": {
     "cellMetadata": {
      "byteLimit": 2048000,
      "rowLimit": 10000
     },
     "inputWidgets": {},
     "nuid": "b4dd7738-44f5-4060-a5c3-74e6adc71bfb",
     "showTitle": false,
     "title": ""
    }
   },
   "outputs": [
    {
     "output_type": "stream",
     "name": "stdout",
     "output_type": "stream",
     "text": [
      "Out[13]: 17"
     ]
    }
   ],
   "source": [
    "df.count()"
   ]
  },
  {
   "cell_type": "code",
   "execution_count": 0,
   "metadata": {
    "application/vnd.databricks.v1+cell": {
     "cellMetadata": {
      "byteLimit": 2048000,
      "rowLimit": 10000
     },
     "inputWidgets": {},
     "nuid": "166c3e0d-d0f4-49d7-ae8e-82dc2afdb868",
     "showTitle": false,
     "title": ""
    }
   },
   "outputs": [],
   "source": [
    "df.createOrReplaceTempView(\"emp\")"
   ]
  },
  {
   "cell_type": "code",
   "execution_count": 0,
   "metadata": {
    "application/vnd.databricks.v1+cell": {
     "cellMetadata": {
      "byteLimit": 2048000,
      "rowLimit": 10000
     },
     "inputWidgets": {},
     "nuid": "bf576036-e3ad-48d8-8716-ccbff5bd5bef",
     "showTitle": false,
     "title": ""
    }
   },
   "outputs": [],
   "source": [
    "df1 = spark.sql(\"select *,row_number() over(partition by id,name,dob,age,salary,department order by id) as rnum from emp\")"
   ]
  },
  {
   "cell_type": "code",
   "execution_count": 0,
   "metadata": {
    "application/vnd.databricks.v1+cell": {
     "cellMetadata": {
      "byteLimit": 2048000,
      "rowLimit": 10000
     },
     "inputWidgets": {},
     "nuid": "533127cd-1dc4-4f46-b748-30693c5e4e8f",
     "showTitle": false,
     "title": ""
    }
   },
   "outputs": [
    {
     "output_type": "stream",
     "name": "stdout",
     "output_type": "stream",
     "text": [
      "+---+------+----------+----+------+----------+----+\n| id|  name|       dob| age|salary|department|rnum|\n+---+------+----------+----+------+----------+----+\n|  1|  John|1992-05-12|  30| 70000|        IT|   1|\n|  1|  John|1992-05-12|  30| 70000|        IT|   2|\n|  1|  John|1992-05-12|  30| 70000|        IT|   3|\n|  2| Alice|1997-02-28|  25| 60000|        HR|   1|\n|  2| Alice|1997-02-28|  25| 60000|        HR|   2|\n|  2| Alice|1997-02-28|  25| 90000|   Finance|   1|\n|  3|   Bob|      null|null| 80000|        IT|   1|\n|  3|   Bob|      null|null| 80000|        IT|   2|\n|  4| Emily|1994-11-22|  28| 65000|   Finance|   1|\n|  4| Emily|1994-11-22|  28| 65000|   Finance|   2|\n|  4| Emily|1994-11-22|  28| 70000|   Finance|   1|\n|  5| David|1981-12-18|  41| 90000|        HR|   1|\n|  6| Susan|1989-07-05|  33| 75000|   Finance|   1|\n|  7|  Mike|1976-03-15|  46| 95000|        IT|   1|\n|  8|  Lisa|1995-08-20|  27| 58000|        HR|   1|\n|  9| James|1983-10-14|  39| 87000|        IT|   1|\n| 10|Sophie|1992-06-30|  30| 62000|   Finance|   1|\n+---+------+----------+----+------+----------+----+\n\n"
     ]
    }
   ],
   "source": [
    " df1.show()"
   ]
  },
  {
   "cell_type": "code",
   "execution_count": 0,
   "metadata": {
    "application/vnd.databricks.v1+cell": {
     "cellMetadata": {
      "byteLimit": 2048000,
      "rowLimit": 10000
     },
     "inputWidgets": {},
     "nuid": "daf57933-2fa4-4933-8239-66edb075305b",
     "showTitle": false,
     "title": ""
    }
   },
   "outputs": [],
   "source": [
    "result = df1.withColumn(\n",
    "    \"is_duplicate\",\n",
    "    f.when(\n",
    "        (f.col(\"rnum\")==1),\n",
    "        f.lit(False)\n",
    "         ).otherwise(\n",
    "             f.lit(True)\n",
    "         )\n",
    ")"
   ]
  },
  {
   "cell_type": "code",
   "execution_count": 0,
   "metadata": {
    "application/vnd.databricks.v1+cell": {
     "cellMetadata": {
      "byteLimit": 2048000,
      "rowLimit": 10000
     },
     "inputWidgets": {},
     "nuid": "923a70d6-ab98-427f-85e6-40b61dac46af",
     "showTitle": false,
     "title": ""
    }
   },
   "outputs": [
    {
     "output_type": "stream",
     "name": "stdout",
     "output_type": "stream",
     "text": [
      "+---+------+----------+----+------+----------+----+------------+\n| id|  name|       dob| age|salary|department|rnum|is_duplicate|\n+---+------+----------+----+------+----------+----+------------+\n|  1|  John|1992-05-12|  30| 70000|        IT|   1|       false|\n|  1|  John|1992-05-12|  30| 70000|        IT|   2|        true|\n|  1|  John|1992-05-12|  30| 70000|        IT|   3|        true|\n|  2| Alice|1997-02-28|  25| 60000|        HR|   1|       false|\n|  2| Alice|1997-02-28|  25| 60000|        HR|   2|        true|\n|  2| Alice|1997-02-28|  25| 90000|   Finance|   1|       false|\n|  3|   Bob|      null|null| 80000|        IT|   1|       false|\n|  3|   Bob|      null|null| 80000|        IT|   2|        true|\n|  4| Emily|1994-11-22|  28| 65000|   Finance|   1|       false|\n|  4| Emily|1994-11-22|  28| 65000|   Finance|   2|        true|\n|  4| Emily|1994-11-22|  28| 70000|   Finance|   1|       false|\n|  5| David|1981-12-18|  41| 90000|        HR|   1|       false|\n|  6| Susan|1989-07-05|  33| 75000|   Finance|   1|       false|\n|  7|  Mike|1976-03-15|  46| 95000|        IT|   1|       false|\n|  8|  Lisa|1995-08-20|  27| 58000|        HR|   1|       false|\n|  9| James|1983-10-14|  39| 87000|        IT|   1|       false|\n| 10|Sophie|1992-06-30|  30| 62000|   Finance|   1|       false|\n+---+------+----------+----+------+----------+----+------------+\n\n"
     ]
    }
   ],
   "source": [
    "result.show()"
   ]
  },
  {
   "cell_type": "markdown",
   "metadata": {
    "application/vnd.databricks.v1+cell": {
     "cellMetadata": {},
     "inputWidgets": {},
     "nuid": "72f726df-de76-49fd-bb2a-2ef59ce27b25",
     "showTitle": false,
     "title": ""
    }
   },
   "source": [
    "without using spark.sql()"
   ]
  },
  {
   "cell_type": "code",
   "execution_count": 0,
   "metadata": {
    "application/vnd.databricks.v1+cell": {
     "cellMetadata": {
      "byteLimit": 2048000,
      "rowLimit": 10000
     },
     "inputWidgets": {},
     "nuid": "6c790bf2-8ec5-419f-96a0-434c42cfc13b",
     "showTitle": false,
     "title": ""
    }
   },
   "outputs": [],
   "source": [
    "window_spec = Window.partitionBy(df.columns).orderBy(df.id)"
   ]
  },
  {
   "cell_type": "code",
   "execution_count": 0,
   "metadata": {
    "application/vnd.databricks.v1+cell": {
     "cellMetadata": {
      "byteLimit": 2048000,
      "rowLimit": 10000
     },
     "inputWidgets": {},
     "nuid": "ebfb0226-edec-4686-839b-54775a2f7511",
     "showTitle": false,
     "title": ""
    }
   },
   "outputs": [
    {
     "output_type": "stream",
     "name": "stdout",
     "output_type": "stream",
     "text": [
      "+---+------+----------+----+------+----------+------------+\n| id|  name|       dob| age|salary|department|is_duplicate|\n+---+------+----------+----+------+----------+------------+\n|  1|  John|1992-05-12|  30| 70000|        IT|       false|\n|  1|  John|1992-05-12|  30| 70000|        IT|        true|\n|  1|  John|1992-05-12|  30| 70000|        IT|        true|\n|  2| Alice|1997-02-28|  25| 60000|        HR|       false|\n|  2| Alice|1997-02-28|  25| 60000|        HR|        true|\n|  2| Alice|1997-02-28|  25| 90000|   Finance|       false|\n|  3|   Bob|      null|null| 80000|        IT|       false|\n|  3|   Bob|      null|null| 80000|        IT|        true|\n|  4| Emily|1994-11-22|  28| 65000|   Finance|       false|\n|  4| Emily|1994-11-22|  28| 65000|   Finance|        true|\n|  4| Emily|1994-11-22|  28| 70000|   Finance|       false|\n|  5| David|1981-12-18|  41| 90000|        HR|       false|\n|  6| Susan|1989-07-05|  33| 75000|   Finance|       false|\n|  7|  Mike|1976-03-15|  46| 95000|        IT|       false|\n|  8|  Lisa|1995-08-20|  27| 58000|        HR|       false|\n|  9| James|1983-10-14|  39| 87000|        IT|       false|\n| 10|Sophie|1992-06-30|  30| 62000|   Finance|       false|\n+---+------+----------+----+------+----------+------------+\n\n"
     ]
    }
   ],
   "source": [
    "result_1 = df.withColumn(\n",
    "    \"is_duplicate\",\n",
    "    (f.row_number().over(window_spec) > 1)\n",
    ") \n",
    "result_1.show()"
   ]
  },
  {
   "cell_type": "code",
   "execution_count": 0,
   "metadata": {
    "application/vnd.databricks.v1+cell": {
     "cellMetadata": {
      "byteLimit": 2048000,
      "rowLimit": 10000
     },
     "inputWidgets": {},
     "nuid": "efdde09d-eb17-4a2f-8c1b-3184abf56420",
     "showTitle": false,
     "title": ""
    }
   },
   "outputs": [
    {
     "output_type": "stream",
     "name": "stdout",
     "output_type": "stream",
     "text": [
      "+---+------+----------+----+------+----------+------------+\n| id|  name|       dob| age|salary|department|is_duplicate|\n+---+------+----------+----+------+----------+------------+\n|  1|  John|1992-05-12|  30| 70000|        IT|       false|\n|  2| Alice|1997-02-28|  25| 60000|        HR|       false|\n|  2| Alice|1997-02-28|  25| 90000|   Finance|       false|\n|  3|   Bob|      null|null| 80000|        IT|       false|\n|  4| Emily|1994-11-22|  28| 65000|   Finance|       false|\n|  4| Emily|1994-11-22|  28| 70000|   Finance|       false|\n|  5| David|1981-12-18|  41| 90000|        HR|       false|\n|  6| Susan|1989-07-05|  33| 75000|   Finance|       false|\n|  7|  Mike|1976-03-15|  46| 95000|        IT|       false|\n|  8|  Lisa|1995-08-20|  27| 58000|        HR|       false|\n|  9| James|1983-10-14|  39| 87000|        IT|       false|\n| 10|Sophie|1992-06-30|  30| 62000|   Finance|       false|\n+---+------+----------+----+------+----------+------------+\n\n"
     ]
    }
   ],
   "source": [
    "df_unique = result_1.filter(\n",
    "    f.col(\"is_duplicate\") == False\n",
    ")\n",
    "df_unique.show()"
   ]
  },
  {
   "cell_type": "code",
   "execution_count": 0,
   "metadata": {
    "application/vnd.databricks.v1+cell": {
     "cellMetadata": {
      "byteLimit": 2048000,
      "rowLimit": 10000
     },
     "inputWidgets": {},
     "nuid": "b6809dd9-b400-460d-a418-69a0e0370a81",
     "showTitle": false,
     "title": ""
    }
   },
   "outputs": [
    {
     "output_type": "stream",
     "name": "stdout",
     "output_type": "stream",
     "text": [
      "Out[66]: 12"
     ]
    }
   ],
   "source": [
    "df_unique.count()"
   ]
  },
  {
   "cell_type": "markdown",
   "metadata": {
    "application/vnd.databricks.v1+cell": {
     "cellMetadata": {},
     "inputWidgets": {},
     "nuid": "ca600f62-253d-4d07-af84-aaa3329f7868",
     "showTitle": false,
     "title": ""
    }
   },
   "source": [
    "#Task 2"
   ]
  },
  {
   "cell_type": "markdown",
   "metadata": {
    "application/vnd.databricks.v1+cell": {
     "cellMetadata": {},
     "inputWidgets": {},
     "nuid": "82af222e-1ea8-44ca-a210-91f8bd0ca7f0",
     "showTitle": false,
     "title": ""
    }
   },
   "source": [
    "Calculate mean salary and check if it is greater or equal to the salary of employees in each department.\n",
    " \n",
    "Calculate mean salary and check if it is greater or equal to the salary of all employees."
   ]
  },
  {
   "cell_type": "code",
   "execution_count": 0,
   "metadata": {
    "application/vnd.databricks.v1+cell": {
     "cellMetadata": {},
     "inputWidgets": {},
     "nuid": "a2aba529-12c9-40c4-9820-c09f8aac43d9",
     "showTitle": false,
     "title": ""
    }
   },
   "outputs": [],
   "source": []
  },
  {
   "cell_type": "code",
   "execution_count": 0,
   "metadata": {
    "application/vnd.databricks.v1+cell": {
     "cellMetadata": {
      "byteLimit": 2048000,
      "rowLimit": 10000
     },
     "inputWidgets": {},
     "nuid": "1ec68814-3d28-4478-a6ea-bf2655ab6919",
     "showTitle": false,
     "title": ""
    }
   },
   "outputs": [
    {
     "output_type": "stream",
     "name": "stdout",
     "output_type": "stream",
     "text": [
      "+---+------+----------+----+------+----------+------------+\n| id|  name|       dob| age|salary|department|is_duplicate|\n+---+------+----------+----+------+----------+------------+\n|  1|  John|1992-05-12|  30| 70000|        IT|       false|\n|  2| Alice|1997-02-28|  25| 60000|        HR|       false|\n|  2| Alice|1997-02-28|  25| 90000|   Finance|       false|\n|  3|   Bob|      null|null| 80000|        IT|       false|\n|  4| Emily|1994-11-22|  28| 65000|   Finance|       false|\n|  4| Emily|1994-11-22|  28| 70000|   Finance|       false|\n|  5| David|1981-12-18|  41| 90000|        HR|       false|\n|  6| Susan|1989-07-05|  33| 75000|   Finance|       false|\n|  7|  Mike|1976-03-15|  46| 95000|        IT|       false|\n|  8|  Lisa|1995-08-20|  27| 58000|        HR|       false|\n|  9| James|1983-10-14|  39| 87000|        IT|       false|\n| 10|Sophie|1992-06-30|  30| 62000|   Finance|       false|\n+---+------+----------+----+------+----------+------------+\n\n"
     ]
    }
   ],
   "source": [
    "df_unique.show()"
   ]
  },
  {
   "cell_type": "code",
   "execution_count": 0,
   "metadata": {
    "application/vnd.databricks.v1+cell": {
     "cellMetadata": {
      "byteLimit": 2048000,
      "rowLimit": 10000
     },
     "inputWidgets": {},
     "nuid": "2c1eabf0-b91a-4a1f-ae67-67a5d543360e",
     "showTitle": false,
     "title": ""
    }
   },
   "outputs": [],
   "source": [
    "#Department wise mean \n",
    "window_spec = Window.partitionBy(\"department\")"
   ]
  },
  {
   "cell_type": "code",
   "execution_count": 0,
   "metadata": {
    "application/vnd.databricks.v1+cell": {
     "cellMetadata": {
      "byteLimit": 2048000,
      "rowLimit": 10000
     },
     "inputWidgets": {},
     "nuid": "6fa29978-58fe-43c4-bc2a-7a074e18dc4a",
     "showTitle": false,
     "title": ""
    }
   },
   "outputs": [
    {
     "output_type": "stream",
     "name": "stdout",
     "output_type": "stream",
     "text": [
      "+---+------+----------+----+------+----------+------------+---------------------+\n| id|  name|       dob| age|salary|department|is_duplicate|greater_than_mean_sal|\n+---+------+----------+----+------+----------+------------+---------------------+\n|  2| Alice|1997-02-28|  25| 90000|   Finance|       false|                 true|\n|  4| Emily|1994-11-22|  28| 65000|   Finance|       false|                false|\n|  4| Emily|1994-11-22|  28| 70000|   Finance|       false|                false|\n|  6| Susan|1989-07-05|  33| 75000|   Finance|       false|                 true|\n| 10|Sophie|1992-06-30|  30| 62000|   Finance|       false|                false|\n|  2| Alice|1997-02-28|  25| 60000|        HR|       false|                false|\n|  5| David|1981-12-18|  41| 90000|        HR|       false|                 true|\n|  8|  Lisa|1995-08-20|  27| 58000|        HR|       false|                false|\n|  1|  John|1992-05-12|  30| 70000|        IT|       false|                false|\n|  3|   Bob|      null|null| 80000|        IT|       false|                false|\n|  7|  Mike|1976-03-15|  46| 95000|        IT|       false|                 true|\n|  9| James|1983-10-14|  39| 87000|        IT|       false|                 true|\n+---+------+----------+----+------+----------+------------+---------------------+\n\n"
     ]
    }
   ],
   "source": [
    "result1 = df_unique.withColumns(\n",
    "    {\n",
    "        \"greater_than_mean_sal\":f.col(\"salary\")>=f.avg(\"salary\").over(window_spec)\n",
    "    }\n",
    ")\n",
    "result1.show()"
   ]
  },
  {
   "cell_type": "markdown",
   "metadata": {
    "application/vnd.databricks.v1+cell": {
     "cellMetadata": {},
     "inputWidgets": {},
     "nuid": "0df087da-2f6a-4d36-83de-9cc42ed4cef7",
     "showTitle": false,
     "title": ""
    }
   },
   "source": [
    "Calculate mean salary and check if it is greater or equal to the salary of all employees."
   ]
  },
  {
   "cell_type": "code",
   "execution_count": 0,
   "metadata": {
    "application/vnd.databricks.v1+cell": {
     "cellMetadata": {
      "byteLimit": 2048000,
      "rowLimit": 10000
     },
     "inputWidgets": {},
     "nuid": "ba900d91-9540-4df4-ba3c-493a2f7f23d4",
     "showTitle": false,
     "title": ""
    }
   },
   "outputs": [
    {
     "output_type": "stream",
     "name": "stdout",
     "output_type": "stream",
     "text": [
      "+---+------+----------+----+------+----------+------------+-------------------------+\n| id|  name|       dob| age|salary|department|is_duplicate|greater_than_mean_sal_all|\n+---+------+----------+----+------+----------+------------+-------------------------+\n|  1|  John|1992-05-12|  30| 70000|        IT|       false|                    false|\n|  2| Alice|1997-02-28|  25| 60000|        HR|       false|                    false|\n|  2| Alice|1997-02-28|  25| 90000|   Finance|       false|                     true|\n|  3|   Bob|      null|null| 80000|        IT|       false|                     true|\n|  4| Emily|1994-11-22|  28| 65000|   Finance|       false|                    false|\n|  4| Emily|1994-11-22|  28| 70000|   Finance|       false|                    false|\n|  5| David|1981-12-18|  41| 90000|        HR|       false|                     true|\n|  6| Susan|1989-07-05|  33| 75000|   Finance|       false|                     true|\n|  7|  Mike|1976-03-15|  46| 95000|        IT|       false|                     true|\n|  8|  Lisa|1995-08-20|  27| 58000|        HR|       false|                    false|\n|  9| James|1983-10-14|  39| 87000|        IT|       false|                     true|\n| 10|Sophie|1992-06-30|  30| 62000|   Finance|       false|                    false|\n+---+------+----------+----+------+----------+------------+-------------------------+\n\n"
     ]
    }
   ],
   "source": [
    "result2 = df_unique.withColumns(\n",
    "    {\n",
    "        \"greater_than_mean_sal_all\":f.col(\"salary\")>= df.select(f.avg(\"salary\")).first()[0]\n",
    "    }\n",
    ")\n",
    "result2.show()"
   ]
  },
  {
   "cell_type": "code",
   "execution_count": 0,
   "metadata": {
    "application/vnd.databricks.v1+cell": {
     "cellMetadata": {},
     "inputWidgets": {},
     "nuid": "92dc73b2-84c8-44c3-901b-c288a77e10ef",
     "showTitle": false,
     "title": ""
    }
   },
   "outputs": [],
   "source": []
  }
 ],
 "metadata": {
  "application/vnd.databricks.v1+notebook": {
   "dashboards": [],
   "language": "python",
   "notebookMetadata": {
    "pythonIndentUnit": 4
   },
   "notebookName": "Pyspark Task",
   "widgets": {}
  }
 },
 "nbformat": 4,
 "nbformat_minor": 0
}
