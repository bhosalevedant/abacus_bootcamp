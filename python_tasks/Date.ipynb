{
 "cells": [
  {
   "cell_type": "code",
   "execution_count": 0,
   "metadata": {
    "application/vnd.databricks.v1+cell": {
     "cellMetadata": {},
     "inputWidgets": {},
     "nuid": "0dbe9708-505f-453a-bf29-511dd52cd8e1",
     "showTitle": false,
     "title": ""
    }
   },
   "outputs": [],
   "source": [
    "from datetime import datetime"
   ]
  },
  {
   "cell_type": "code",
   "execution_count": 0,
   "metadata": {
    "application/vnd.databricks.v1+cell": {
     "cellMetadata": {},
     "inputWidgets": {},
     "nuid": "47dd97f7-94a9-4bb5-82b9-63d678474472",
     "showTitle": false,
     "title": ""
    }
   },
   "outputs": [],
   "source": [
    "datetime(2020, 1, 1)"
   ]
  },
  {
   "cell_type": "code",
   "execution_count": 0,
   "metadata": {
    "application/vnd.databricks.v1+cell": {
     "cellMetadata": {},
     "inputWidgets": {},
     "nuid": "9fa73a3d-271a-4a7b-827e-e9652455c369",
     "showTitle": false,
     "title": ""
    }
   },
   "outputs": [],
   "source": [
    "datetime(2020, 1, 1, 10, 30, 0)"
   ]
  },
  {
   "cell_type": "code",
   "execution_count": 0,
   "metadata": {
    "application/vnd.databricks.v1+cell": {
     "cellMetadata": {},
     "inputWidgets": {},
     "nuid": "ac3fb403-4ae5-48d8-a861-8917a8f6067a",
     "showTitle": false,
     "title": ""
    }
   },
   "outputs": [],
   "source": [
    "datetime(2020, 1, 1, 10, 30, 59)"
   ]
  },
  {
   "cell_type": "code",
   "execution_count": 0,
   "metadata": {
    "application/vnd.databricks.v1+cell": {
     "cellMetadata": {},
     "inputWidgets": {},
     "nuid": "f1509ab7-1ad7-4067-bc97-a12d2af46319",
     "showTitle": false,
     "title": ""
    }
   },
   "outputs": [],
   "source": [
    "datetime(2020, 1, 1, 10, 30, 45, 999999)"
   ]
  },
  {
   "cell_type": "code",
   "execution_count": 0,
   "metadata": {
    "application/vnd.databricks.v1+cell": {
     "cellMetadata": {},
     "inputWidgets": {},
     "nuid": "bcd1c105-a9ed-491c-b586-24dc9e082c19",
     "showTitle": false,
     "title": ""
    }
   },
   "outputs": [],
   "source": [
    "datetime.now()  # UTC 0 +5:45 +5:30"
   ]
  },
  {
   "cell_type": "code",
   "execution_count": 0,
   "metadata": {
    "application/vnd.databricks.v1+cell": {
     "cellMetadata": {},
     "inputWidgets": {},
     "nuid": "2dca3561-be05-43d5-85ff-d0c333f5f8ce",
     "showTitle": false,
     "title": ""
    }
   },
   "outputs": [],
   "source": [
    "import os\n",
    "import time\n",
    "\n",
    "os.environ['TZ'] = 'Asia/Kolkata'  # Mock\n",
    "time.tzset()"
   ]
  },
  {
   "cell_type": "code",
   "execution_count": 0,
   "metadata": {
    "application/vnd.databricks.v1+cell": {
     "cellMetadata": {},
     "inputWidgets": {},
     "nuid": "733d68ea-e448-493c-8e5e-2e67e13628b1",
     "showTitle": false,
     "title": ""
    }
   },
   "outputs": [],
   "source": [
    "datetime.now()"
   ]
  },
  {
   "cell_type": "code",
   "execution_count": 0,
   "metadata": {
    "application/vnd.databricks.v1+cell": {
     "cellMetadata": {},
     "inputWidgets": {},
     "nuid": "851411b0-77dd-42d2-96d2-03cf4bb4f0b4",
     "showTitle": false,
     "title": ""
    }
   },
   "outputs": [],
   "source": [
    "datetime.now().year, datetime.now().month, datetime.now().day"
   ]
  },
  {
   "cell_type": "code",
   "execution_count": 0,
   "metadata": {
    "application/vnd.databricks.v1+cell": {
     "cellMetadata": {},
     "inputWidgets": {},
     "nuid": "6e169693-de00-4e84-affa-12be0f0fa415",
     "showTitle": false,
     "title": ""
    }
   },
   "outputs": [],
   "source": [
    "d = datetime.now()\n",
    "print(d.year, d.month, d.day)"
   ]
  },
  {
   "cell_type": "code",
   "execution_count": 0,
   "metadata": {
    "application/vnd.databricks.v1+cell": {
     "cellMetadata": {},
     "inputWidgets": {},
     "nuid": "6218ab04-7127-4cd9-a841-c4eba6ef7b45",
     "showTitle": false,
     "title": ""
    }
   },
   "outputs": [],
   "source": [
    "datetime.now().hour, datetime.now().minute, datetime.now().second, datetime.now().microsecond"
   ]
  },
  {
   "cell_type": "code",
   "execution_count": 0,
   "metadata": {
    "application/vnd.databricks.v1+cell": {
     "cellMetadata": {},
     "inputWidgets": {},
     "nuid": "3f412d48-eb79-44fe-9fb4-ba047238d9c5",
     "showTitle": false,
     "title": ""
    }
   },
   "outputs": [],
   "source": [
    "datetime.today(), datetime.now(), datetime.now(tz=None), datetime.utcnow()"
   ]
  },
  {
   "cell_type": "code",
   "execution_count": 0,
   "metadata": {
    "application/vnd.databricks.v1+cell": {
     "cellMetadata": {},
     "inputWidgets": {},
     "nuid": "7c178f53-5a5a-4fe6-b354-ef84e1b5b2d4",
     "showTitle": false,
     "title": ""
    }
   },
   "outputs": [],
   "source": [
    "import pytz"
   ]
  },
  {
   "cell_type": "code",
   "execution_count": 0,
   "metadata": {
    "application/vnd.databricks.v1+cell": {
     "cellMetadata": {},
     "inputWidgets": {},
     "nuid": "d1733717-9bac-418b-a9e5-489dcb5d2c9e",
     "showTitle": false,
     "title": ""
    }
   },
   "outputs": [],
   "source": [
    "datetime.now().astimezone(pytz.timezone('Asia/Kathmandu'))"
   ]
  },
  {
   "cell_type": "code",
   "execution_count": 0,
   "metadata": {
    "application/vnd.databricks.v1+cell": {
     "cellMetadata": {},
     "inputWidgets": {},
     "nuid": "9d582850-78c7-44c1-8951-b364ab5fdf6c",
     "showTitle": false,
     "title": ""
    }
   },
   "outputs": [],
   "source": [
    "datetime.now().astimezone(pytz.timezone('Asia/Kathmandu')), datetime.utcnow().astimezone(pytz.timezone('Asia/Kathmandu'))  # don't use utcnow() for astimezone"
   ]
  },
  {
   "cell_type": "code",
   "execution_count": 0,
   "metadata": {
    "application/vnd.databricks.v1+cell": {
     "cellMetadata": {},
     "inputWidgets": {},
     "nuid": "c481d593-1c7f-45a6-9829-abe950e8c165",
     "showTitle": false,
     "title": ""
    }
   },
   "outputs": [],
   "source": [
    "now = datetime.now()\n",
    "print(\"Today is \" + str(now.day) + \" of \" + str(now.month) + \" month of \" + str(now.year))\n",
    "print(f\"Today is {now.day} of {now.month} month of {now.year}\")\n",
    "\n",
    "print(now.strftime(\"Today is %-d of %-m month of %Y\"))\n",
    "print(now.strftime(\"%d gives %d\"))\n",
    "print(now.strftime(\"Today is %d %b of %Y\"))"
   ]
  },
  {
   "cell_type": "code",
   "execution_count": 0,
   "metadata": {
    "application/vnd.databricks.v1+cell": {
     "cellMetadata": {},
     "inputWidgets": {},
     "nuid": "8ff144d3-da57-427c-954e-0c29c66f800a",
     "showTitle": false,
     "title": ""
    }
   },
   "outputs": [],
   "source": [
    "datetime.strptime(\"31-01/2024\", \"%d-%m/%Y\")"
   ]
  },
  {
   "cell_type": "code",
   "execution_count": 0,
   "metadata": {
    "application/vnd.databricks.v1+cell": {
     "cellMetadata": {},
     "inputWidgets": {},
     "nuid": "2c5fe88d-3bfa-427c-a6cf-fc63544d8a2b",
     "showTitle": false,
     "title": ""
    }
   },
   "outputs": [],
   "source": [
    "datetime.strptime(\"31/01/2024\", \"%d/%m/%Y\"), datetime.strptime(\"01/31/2024\", \"%m/%d/%Y\"), datetime.strptime(\"2024/01/31\", \"%Y/%m/%d\")"
   ]
  },
  {
   "cell_type": "code",
   "execution_count": 0,
   "metadata": {
    "application/vnd.databricks.v1+cell": {
     "cellMetadata": {},
     "inputWidgets": {},
     "nuid": "659c399e-95d0-491f-b74e-2c82a75853e0",
     "showTitle": false,
     "title": ""
    }
   },
   "outputs": [],
   "source": [
    "# 2024-01-11, 2024-11-01\n",
    "datetime.strptime(\"2024111\", \"%Y%m%d\")"
   ]
  },
  {
   "cell_type": "code",
   "execution_count": 0,
   "metadata": {
    "application/vnd.databricks.v1+cell": {
     "cellMetadata": {},
     "inputWidgets": {},
     "nuid": "5ada9589-d191-4a77-8af6-a784ebfdaef0",
     "showTitle": false,
     "title": ""
    }
   },
   "outputs": [],
   "source": [
    "datetime.strptime(\"2024/1/11\", \"%Y/%m/%d\"), datetime.strptime(\"2024-11-1\", \"%Y-%m-%d\"), datetime.strptime(\"20240111\", \"%Y%m%d\"), datetime.strptime(\"20241101\", \"%Y%m%d\")"
   ]
  },
  {
   "cell_type": "code",
   "execution_count": 0,
   "metadata": {
    "application/vnd.databricks.v1+cell": {
     "cellMetadata": {},
     "inputWidgets": {},
     "nuid": "e80903d1-f8f3-455e-9e48-4ade2b4918ad",
     "showTitle": false,
     "title": ""
    }
   },
   "outputs": [],
   "source": [
    "from datetime import datetime\n",
    "from dateutil.relativedelta import relativedelta"
   ]
  },
  {
   "cell_type": "markdown",
   "metadata": {
    "application/vnd.databricks.v1+cell": {
     "cellMetadata": {},
     "inputWidgets": {},
     "nuid": "82dcbd37-51ad-4094-82c3-f4dc41246fe1",
     "showTitle": false,
     "title": ""
    }
   },
   "source": [
    "#Task\n"
   ]
  },
  {
   "cell_type": "code",
   "execution_count": 0,
   "metadata": {
    "application/vnd.databricks.v1+cell": {
     "cellMetadata": {},
     "inputWidgets": {},
     "nuid": "d959c908-eefd-4023-a4ca-6aa5111ac0a5",
     "showTitle": false,
     "title": ""
    }
   },
   "outputs": [],
   "source": [
    "# Write a python function to calculate someone's age using date of birth.\n",
    "# Write another function to calculate remaining days left for the person's birthday.\n",
    "# Write another function to calculate the number of months and weeks passed after the person was born. \n"
   ]
  },
  {
   "cell_type": "code",
   "execution_count": 0,
   "metadata": {
    "application/vnd.databricks.v1+cell": {
     "cellMetadata": {},
     "inputWidgets": {},
     "nuid": "1bc1672e-cf13-4ec7-b688-6a722b984b40",
     "showTitle": false,
     "title": ""
    }
   },
   "outputs": [],
   "source": [
    "def calculate_age(date):\n",
    "    dob = datetime.strptime(date,\"%Y-%m-%d\")\n",
    "    cur_year = datetime.now().year\n",
    "    print( cur_year-dob.year) \n",
    "\n",
    "date = '1999-01-18'\n",
    "calculate_age(date)\n",
    "\n",
    "def days_to_birthday(date):\n",
    "    dob = datetime.strptime(date,\"%Y-%m-%d\")\n",
    "    cur_date = datetime.now()\n",
    "    next_dob = dob.replace(year = cur_date.year)\n",
    "    print(next_dob)\n",
    "    if cur_date > next_dob:\n",
    "        next_dob=next_dob.replace(year = cur_date.year+1)\n",
    "        print(next_dob)\n",
    "    print((next_dob-cur_date).days)\n",
    "\n",
    "days_to_birthday(date)\n",
    "\n",
    "def month_week(date):\n",
    "    dob = datetime.strptime(date,\"%Y-%m-%d\")\n",
    "    cur_date = datetime.now()\n",
    "\n",
    "    delta = relativedelta(cur_date,dob)\n",
    "    months = delta.years*12+delta.months\n",
    "    weeks = delta.years*52+ delta.months * 4 + delta.days // 7\n",
    "\n",
    "    print(months,weeks)\n",
    "\n",
    "month_week(date)"
   ]
  }
 ],
 "metadata": {
  "application/vnd.databricks.v1+notebook": {
   "dashboards": [],
   "language": "python",
   "notebookMetadata": {
    "pythonIndentUnit": 4
   },
   "notebookName": "Date",
   "widgets": {}
  }
 },
 "nbformat": 4,
 "nbformat_minor": 0
}
