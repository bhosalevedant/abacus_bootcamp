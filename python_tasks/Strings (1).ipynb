{
 "cells": [
  {
   "cell_type": "code",
   "execution_count": 0,
   "metadata": {
    "application/vnd.databricks.v1+cell": {
     "cellMetadata": {
      "byteLimit": 2048000,
      "rowLimit": 10000
     },
     "inputWidgets": {},
     "nuid": "62f53dd4-1873-4b70-8f7d-06b66fcb3e9b",
     "showTitle": false,
     "title": ""
    }
   },
   "outputs": [
    {
     "output_type": "display_data",
     "data": {
      "text/plain": [
       " hi hi hello vedant"
      ]
     },
     "metadata": {},
     "output_type": "display_data"
    },
    {
     "output_type": "stream",
     "name": "stdout",
     "output_type": "stream",
     "text": [
      "no of words :  4\nNo of unique words : 3\n"
     ]
    }
   ],
   "source": [
    "#Take input from user and give no of words\n",
    "s = input()\n",
    "lst = s.split(\" \")\n",
    "\n",
    "# no of words\n",
    "no_of_words  = len(lst)\n",
    "# no of unique words\n",
    "no_unique = len(set(lst))\n",
    "\n",
    "print(\"no of words : \",no_of_words)\n",
    "print('No of unique words :',no_unique)"
   ]
  },
  {
   "cell_type": "code",
   "execution_count": 0,
   "metadata": {
    "application/vnd.databricks.v1+cell": {
     "cellMetadata": {
      "byteLimit": 2048000,
      "rowLimit": 10000
     },
     "inputWidgets": {},
     "nuid": "99ecc92b-1fb1-47fd-ba46-5a51b157919e",
     "showTitle": false,
     "title": ""
    }
   },
   "outputs": [
    {
     "output_type": "stream",
     "name": "stdout",
     "output_type": "stream",
     "text": [
      "{'hello': 1, 'hi': 2, 'vedant': 1}\n"
     ]
    }
   ],
   "source": [
    "# frequency of each word\n",
    "keys = set(lst)\n",
    "d = {}\n",
    "for key in keys:\n",
    "    d[key]=lst.count(key)\n",
    "\n",
    "print(d)"
   ]
  },
  {
   "cell_type": "code",
   "execution_count": 0,
   "metadata": {
    "application/vnd.databricks.v1+cell": {
     "cellMetadata": {
      "byteLimit": 2048000,
      "rowLimit": 10000
     },
     "inputWidgets": {},
     "nuid": "1e6152c6-d3d5-42d3-9c0b-2cb5304d610e",
     "showTitle": false,
     "title": ""
    }
   },
   "outputs": [
    {
     "output_type": "stream",
     "name": "stdout",
     "output_type": "stream",
     "text": [
      "{'hello': 5, 'hi': 2, 'vedant': 6}\nlongest word: vedant 6\n"
     ]
    }
   ],
   "source": [
    "# longest words in text\n",
    "words ={}\n",
    "for key in keys:\n",
    "    words[key]=len(key)\n",
    "print(words)\n",
    "maximum = 0\n",
    "longest_word=\"\"\n",
    "for key,value in words.items():\n",
    "    if value > maximum:\n",
    "        maximum = value\n",
    "        longest_word=key\n",
    "print(\"longest word:\",longest_word,maximum)\n",
    "\n"
   ]
  },
  {
   "cell_type": "code",
   "execution_count": 0,
   "metadata": {
    "application/vnd.databricks.v1+cell": {
     "cellMetadata": {
      "byteLimit": 2048000,
      "rowLimit": 10000
     },
     "inputWidgets": {},
     "nuid": "7a4fabef-f6c3-437b-9e2e-e1b350ac73ce",
     "showTitle": false,
     "title": ""
    }
   },
   "outputs": [
    {
     "output_type": "stream",
     "name": "stdout",
     "output_type": "stream",
     "text": [
      "vedant\n"
     ]
    }
   ],
   "source": [
    "#longest word using max\n",
    "lst2 = ['hi','hello','vedant']\n",
    "longest_word_1 = max(lst2, key=len)\n",
    "print(longest_word_1)"
   ]
  },
  {
   "cell_type": "code",
   "execution_count": 0,
   "metadata": {
    "application/vnd.databricks.v1+cell": {
     "cellMetadata": {
      "byteLimit": 2048000,
      "rowLimit": 10000
     },
     "inputWidgets": {},
     "nuid": "999993d2-d79f-4cd7-b9af-d7369694a42d",
     "showTitle": false,
     "title": ""
    }
   },
   "outputs": [
    {
     "output_type": "stream",
     "name": "stdout",
     "output_type": "stream",
     "text": [
      "['hello', 'hi', 'hi', 'vedant']\n"
     ]
    }
   ],
   "source": [
    "# list of all words in alphabetical order\n",
    "sorted_list = sorted(lst)\n",
    "print(sorted_list)"
   ]
  },
  {
   "cell_type": "code",
   "execution_count": 0,
   "metadata": {
    "application/vnd.databricks.v1+cell": {
     "cellMetadata": {
      "byteLimit": 2048000,
      "rowLimit": 10000
     },
     "inputWidgets": {},
     "nuid": "ff92c418-c3d0-4386-83a1-76eb2c5abc4c",
     "showTitle": false,
     "title": ""
    }
   },
   "outputs": [
    {
     "output_type": "stream",
     "name": "stdout",
     "output_type": "stream",
     "text": [
      "['vedant', 'hi', 'hi', 'hello']\n"
     ]
    }
   ],
   "source": [
    "# list of all words in reverse alphabetical order\n",
    "sorted_list = sorted(lst,reverse=True)\n",
    "print(sorted_list)"
   ]
  },
  {
   "cell_type": "code",
   "execution_count": 0,
   "metadata": {
    "application/vnd.databricks.v1+cell": {
     "cellMetadata": {
      "byteLimit": 2048000,
      "rowLimit": 10000
     },
     "inputWidgets": {},
     "nuid": "eb1bac05-9355-4faf-a0fc-55569aa33e1d",
     "showTitle": false,
     "title": ""
    }
   },
   "outputs": [
    {
     "output_type": "stream",
     "name": "stdout",
     "output_type": "stream",
     "text": [
      "tnadev olleh ih ih\n"
     ]
    }
   ],
   "source": [
    "#print in reverse\n",
    "print(s[::-1])"
   ]
  },
  {
   "cell_type": "code",
   "execution_count": 0,
   "metadata": {
    "application/vnd.databricks.v1+cell": {
     "cellMetadata": {
      "byteLimit": 2048000,
      "rowLimit": 10000
     },
     "inputWidgets": {},
     "nuid": "d111283b-dca4-41c1-9469-89df6d429f68",
     "showTitle": false,
     "title": ""
    }
   },
   "outputs": [],
   "source": []
  }
 ],
 "metadata": {
  "application/vnd.databricks.v1+notebook": {
   "dashboards": [],
   "language": "python",
   "notebookMetadata": {
    "pythonIndentUnit": 4
   },
   "notebookName": "Strings",
   "widgets": {}
  }
 },
 "nbformat": 4,
 "nbformat_minor": 0
}
