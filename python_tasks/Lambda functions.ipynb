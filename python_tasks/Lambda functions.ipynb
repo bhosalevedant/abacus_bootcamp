{
 "cells": [
  {
   "cell_type": "code",
   "execution_count": 0,
   "metadata": {
    "application/vnd.databricks.v1+cell": {
     "cellMetadata": {
      "byteLimit": 2048000,
      "rowLimit": 10000
     },
     "inputWidgets": {},
     "nuid": "f8bacb91-7429-4090-8a1b-15db58693382",
     "showTitle": false,
     "title": ""
    }
   },
   "outputs": [
    {
     "output_type": "stream",
     "name": "stdout",
     "output_type": "stream",
     "text": [
      "[{'name': 'Alice', 'age': 25, 'score': 92}, {'name': 'Bob', 'age': 22, 'score': 85}, {'name': 'Charlie', 'age': 27, 'score': 78}, {'name': 'David', 'age': 23, 'score': 95}, {'name': 'Eva', 'age': 24, 'score': 88}]\n[{'name': 'Bob', 'age': 22, 'score': 85}, {'name': 'David', 'age': 23, 'score': 95}, {'name': 'Eva', 'age': 24, 'score': 88}, {'name': 'Alice', 'age': 25, 'score': 92}, {'name': 'Charlie', 'age': 27, 'score': 78}]\n"
     ]
    }
   ],
   "source": [
    "students = [\n",
    "    {\"name\": \"Alice\", \"age\": 25, \"score\": 92},\n",
    "    {\"name\": \"Bob\", \"age\": 22, \"score\": 85},\n",
    "    {\"name\": \"Charlie\", \"age\": 27, \"score\": 78},\n",
    "    {\"name\": \"David\", \"age\": 23, \"score\": 95},\n",
    "    {\"name\": \"Eva\", \"age\": 24, \"score\": 88}\n",
    "]\n",
    "\n",
    "print (students)\n",
    "sort = sorted(students,key = lambda x:x[\"age\"])\n",
    "print(sort)"
   ]
  },
  {
   "cell_type": "code",
   "execution_count": 0,
   "metadata": {
    "application/vnd.databricks.v1+cell": {
     "cellMetadata": {
      "byteLimit": 2048000,
      "rowLimit": 10000
     },
     "inputWidgets": {},
     "nuid": "0f222846-60ce-4b1a-aed2-4b678d028f61",
     "showTitle": false,
     "title": ""
    }
   },
   "outputs": [
    {
     "output_type": "stream",
     "name": "stdout",
     "output_type": "stream",
     "text": [
      "[{'name': 'Bob', 'age': 22, 'score': 85}, {'name': 'David', 'age': 23, 'score': 95}, {'name': 'Eva', 'age': 24, 'score': 88}, {'name': 'Alice', 'age': 25, 'score': 92}, {'name': 'Charlie', 'age': 27, 'score': 78}]\n"
     ]
    }
   ],
   "source": [
    "def get_age(students):\n",
    "    return students['age']\n",
    "\n",
    "sort = sorted(students,key = get_age)\n",
    "print(sort)"
   ]
  },
  {
   "cell_type": "code",
   "execution_count": 0,
   "metadata": {
    "application/vnd.databricks.v1+cell": {
     "cellMetadata": {
      "byteLimit": 2048000,
      "rowLimit": 10000
     },
     "inputWidgets": {},
     "nuid": "04180f4c-64a0-4d56-99e5-4eaecb58866c",
     "showTitle": false,
     "title": ""
    }
   },
   "outputs": [
    {
     "output_type": "stream",
     "name": "stdout",
     "output_type": "stream",
     "text": [
      "[2, 4, 6, 8, 10]\n[{'name': 'David', 'score': 95}, {'name': 'Bob', 'score': 92}, {'name': 'Eve', 'score': 88}, {'name': 'Alice', 'score': 85}, {'name': 'Charlie', 'score': 78}]\n"
     ]
    }
   ],
   "source": [
    "# You have a list of numbers:\n",
    "numbers = [1, 2, 3, 4, 5, 6, 7, 8, 9, 10]\n",
    "# Using a lambda function and the filter() function, filter out the even numbers from the list. Provide the code to achieve this.\n",
    "even_no = list(filter(lambda x:x%2==0, numbers))\n",
    "print(even_no)\n",
    "\n",
    "\n",
    "# 2)students = [\n",
    "#     {\"name\": \"Alice\", \"score\": 85},\n",
    "#     {\"name\": \"Bob\", \"score\": 92},\n",
    "#     {\"name\": \"Charlie\", \"score\": 78},\n",
    "#     {\"name\": \"David\", \"score\": 95},\n",
    "#     {\"name\": \"Eve\", \"score\": 88}\n",
    "# ]\n",
    "# Reverse Sort the list of students according to the score.\n",
    "students = [\n",
    "    {\"name\": \"Alice\", \"score\": 85},\n",
    "    {\"name\": \"Bob\", \"score\": 92},\n",
    "    {\"name\": \"Charlie\", \"score\": 78},\n",
    "    {\"name\": \"David\", \"score\": 95},\n",
    "    {\"name\": \"Eve\", \"score\": 88}\n",
    "]\n",
    "reverse_sort = sorted(students,key = lambda x:x['score'],reverse = True)\n",
    "print(reverse_sort)"
   ]
  },
  {
   "cell_type": "code",
   "execution_count": 0,
   "metadata": {
    "application/vnd.databricks.v1+cell": {
     "cellMetadata": {
      "byteLimit": 2048000,
      "rowLimit": 10000
     },
     "inputWidgets": {},
     "nuid": "bcf2bf6b-8720-4e64-89c7-930b08e0d690",
     "showTitle": false,
     "title": ""
    }
   },
   "outputs": [],
   "source": []
  }
 ],
 "metadata": {
  "application/vnd.databricks.v1+notebook": {
   "dashboards": [],
   "language": "python",
   "notebookMetadata": {
    "pythonIndentUnit": 4
   },
   "notebookName": "Lambda functions",
   "widgets": {}
  }
 },
 "nbformat": 4,
 "nbformat_minor": 0
}
