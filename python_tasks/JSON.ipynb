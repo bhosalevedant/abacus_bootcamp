{
 "cells": [
  {
   "cell_type": "code",
   "execution_count": 0,
   "metadata": {
    "application/vnd.databricks.v1+cell": {
     "cellMetadata": {
      "byteLimit": 2048000,
      "rowLimit": 10000
     },
     "inputWidgets": {},
     "nuid": "41f4f1ea-5e69-4c61-859e-d2538cb9941d",
     "showTitle": false,
     "title": ""
    }
   },
   "outputs": [],
   "source": [
    "import json\n",
    "import os\n",
    "from datetime import datetime"
   ]
  },
  {
   "cell_type": "code",
   "execution_count": 0,
   "metadata": {
    "application/vnd.databricks.v1+cell": {
     "cellMetadata": {
      "byteLimit": 2048000,
      "rowLimit": 10000
     },
     "inputWidgets": {},
     "nuid": "7663931b-16d5-4108-8ccb-e051c23dee09",
     "showTitle": false,
     "title": ""
    }
   },
   "outputs": [],
   "source": [
    "string = '{\"name\": \"John Doe\", \"dob\": \"1990-01-01 00:00:00\", \"city\": \"Anytown\", \"email\": \"john.doe@example.com\", \"is_student\": false}'\n",
    "\n",
    "d = json.loads(string)\n",
    "with open('record.json','w') as f:\n",
    "    json.dump(d,f)"
   ]
  },
  {
   "cell_type": "code",
   "execution_count": 0,
   "metadata": {
    "application/vnd.databricks.v1+cell": {
     "cellMetadata": {
      "byteLimit": 2048000,
      "rowLimit": 10000
     },
     "inputWidgets": {},
     "nuid": "1adc6874-c80a-4911-9da0-aa95b5199c22",
     "showTitle": false,
     "title": ""
    }
   },
   "outputs": [
    {
     "output_type": "stream",
     "name": "stdout",
     "output_type": "stream",
     "text": [
      "Out[3]: ['conf',\n 'hadoop_accessed_config.lst',\n 'preload_class.lst',\n 'azure',\n 'eventlogs',\n 'ganglia',\n 'repo-query-20240212101235.json',\n 'metastore_db',\n 'record.json',\n 'logs',\n 'repo-query-20240212103241.json',\n 'repo-query-20240212102839.json']"
     ]
    }
   ],
   "source": [
    "os.listdir()"
   ]
  },
  {
   "cell_type": "code",
   "execution_count": 0,
   "metadata": {
    "application/vnd.databricks.v1+cell": {
     "cellMetadata": {
      "byteLimit": 2048000,
      "rowLimit": 10000
     },
     "inputWidgets": {},
     "nuid": "3b06d782-f3f7-441d-a8dc-e5eabd4a7b77",
     "showTitle": false,
     "title": ""
    }
   },
   "outputs": [
    {
     "output_type": "stream",
     "name": "stdout",
     "output_type": "stream",
     "text": [
      "{\"name\": \"John Doe\", \"dob\": \"1990-01-01 00:00:00\", \"city\": \"Anytown\", \"email\": \"john.doe@example.com\", \"is_student\": false}\n"
     ]
    }
   ],
   "source": [
    "with open('record.json','r') as f:\n",
    "    print(f.read())"
   ]
  },
  {
   "cell_type": "code",
   "execution_count": 0,
   "metadata": {
    "application/vnd.databricks.v1+cell": {
     "cellMetadata": {
      "byteLimit": 2048000,
      "rowLimit": 10000
     },
     "inputWidgets": {},
     "nuid": "e6a97c1a-cf9d-4927-a250-ca3519c1be60",
     "showTitle": false,
     "title": ""
    }
   },
   "outputs": [
    {
     "output_type": "stream",
     "name": "stdout",
     "output_type": "stream",
     "text": [
      "<class 'str'>\n"
     ]
    }
   ],
   "source": [
    "with open('record.json','r') as f:\n",
    "    print(type(f.read()))"
   ]
  },
  {
   "cell_type": "code",
   "execution_count": 0,
   "metadata": {
    "application/vnd.databricks.v1+cell": {
     "cellMetadata": {
      "byteLimit": 2048000,
      "rowLimit": 10000
     },
     "inputWidgets": {},
     "nuid": "339f458b-2170-41ca-9f65-3562fbc87318",
     "showTitle": false,
     "title": ""
    }
   },
   "outputs": [
    {
     "output_type": "stream",
     "name": "stdout",
     "output_type": "stream",
     "text": [
      "{'name': 'John Doe', 'dob': datetime.datetime(1990, 1, 1, 0, 0), 'city': 'Anytown', 'email': 'john.doe@example.com', 'is_student': False}\n"
     ]
    }
   ],
   "source": [
    "with open('record.json','r') as f:\n",
    "    d1 = json.load(f)\n",
    "    d1['dob'] = datetime.strptime(d1['dob'],'%Y-%m-%d %H:%M:%S')\n",
    "\n",
    "\n",
    "\n",
    "print(d1)    "
   ]
  },
  {
   "cell_type": "code",
   "execution_count": 0,
   "metadata": {
    "application/vnd.databricks.v1+cell": {
     "cellMetadata": {},
     "inputWidgets": {},
     "nuid": "e874bba8-8e05-4e81-8cd4-6cc5621b63be",
     "showTitle": false,
     "title": ""
    }
   },
   "outputs": [],
   "source": []
  }
 ],
 "metadata": {
  "application/vnd.databricks.v1+notebook": {
   "dashboards": [],
   "language": "python",
   "notebookMetadata": {
    "pythonIndentUnit": 4
   },
   "notebookName": "JSON",
   "widgets": {}
  }
 },
 "nbformat": 4,
 "nbformat_minor": 0
}
