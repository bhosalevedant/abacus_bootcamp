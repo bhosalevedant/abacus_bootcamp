{
 "cells": [
  {
   "cell_type": "code",
   "execution_count": 0,
   "metadata": {
    "application/vnd.databricks.v1+cell": {
     "cellMetadata": {
      "byteLimit": 2048000,
      "rowLimit": 10000
     },
     "inputWidgets": {},
     "nuid": "a2b1884b-2575-4259-ae8c-c030a38489ab",
     "showTitle": false,
     "title": ""
    }
   },
   "outputs": [
    {
     "output_type": "stream",
     "name": "stdout",
     "output_type": "stream",
     "text": [
      "<class '__main__.Car'>\n"
     ]
    }
   ],
   "source": [
    "class Car:\n",
    "    make = None\n",
    "    model = None\n",
    "    launch_year = None\n",
    "    is_running = None\n",
    "\n",
    "print(Car)"
   ]
  },
  {
   "cell_type": "code",
   "execution_count": 0,
   "metadata": {
    "application/vnd.databricks.v1+cell": {
     "cellMetadata": {
      "byteLimit": 2048000,
      "rowLimit": 10000
     },
     "inputWidgets": {},
     "nuid": "46e8b05e-a603-4c5c-92a6-7e8057e17de5",
     "showTitle": false,
     "title": ""
    }
   },
   "outputs": [
    {
     "output_type": "stream",
     "name": "stdout",
     "output_type": "stream",
     "text": [
      "<__main__.Car object at 0x7f7b80811730>\n"
     ]
    }
   ],
   "source": [
    "class Car:\n",
    "    make = None\n",
    "    model = None\n",
    "    launch_year = None\n",
    "    is_running = None\n",
    "\n",
    "c1 = Car()\n",
    "print(c1)"
   ]
  },
  {
   "cell_type": "code",
   "execution_count": 0,
   "metadata": {
    "application/vnd.databricks.v1+cell": {
     "cellMetadata": {
      "byteLimit": 2048000,
      "rowLimit": 10000
     },
     "inputWidgets": {},
     "nuid": "7ae721c8-8cbd-4215-b454-894d1c982cb5",
     "showTitle": false,
     "title": ""
    }
   },
   "outputs": [],
   "source": [
    "class Car:\n",
    "    make = None\n",
    "    model = None\n",
    "    launch_year = None\n",
    "    is_running = None\n",
    "\n",
    "    def __init__(self, m, model, launch_year):\n",
    "        self.make = m\n",
    "        self.model = model\n",
    "        self.launch_year = launch_year\n",
    "        self.is_running = False\n",
    "\n",
    "c1 = Car(\"Toyota\", \"Camry\", 2022)\n",
    "c2 = Car(\"Tesla\", \"X\", 2023)"
   ]
  },
  {
   "cell_type": "code",
   "execution_count": 0,
   "metadata": {
    "application/vnd.databricks.v1+cell": {
     "cellMetadata": {
      "byteLimit": 2048000,
      "rowLimit": 10000
     },
     "inputWidgets": {},
     "nuid": "f121e5df-fd74-4edb-bbd5-5b992adc4a60",
     "showTitle": false,
     "title": ""
    }
   },
   "outputs": [
    {
     "output_type": "stream",
     "name": "stdout",
     "output_type": "stream",
     "text": [
      "Toyota Camry 2022 False\nTesla X 2023 False\n"
     ]
    }
   ],
   "source": [
    "class Car:\n",
    "    make = None\n",
    "    model = None\n",
    "    launch_year = None\n",
    "    is_running = None\n",
    "\n",
    "    def __init__(self, make, model, launch_year):\n",
    "        self.make = make\n",
    "        self.model = model\n",
    "        self.launch_year = launch_year\n",
    "        self.is_running = False\n",
    "\n",
    "c1 = Car(\"Toyota\", \"Camry\", 2022)\n",
    "c2 = Car(\"Tesla\", \"X\", 2023)\n",
    "print(c1.make, c1.model, c1.launch_year, c1.is_running)\n",
    "print(c2.make, c2.model, c2.launch_year, c2.is_running)"
   ]
  },
  {
   "cell_type": "code",
   "execution_count": 0,
   "metadata": {
    "application/vnd.databricks.v1+cell": {
     "cellMetadata": {
      "byteLimit": 2048000,
      "rowLimit": 10000
     },
     "inputWidgets": {},
     "nuid": "af4e87a8-5a23-4288-a9fd-0d05f4b866f5",
     "showTitle": false,
     "title": ""
    }
   },
   "outputs": [
    {
     "output_type": "stream",
     "name": "stdout",
     "output_type": "stream",
     "text": [
      "None None None None\n"
     ]
    }
   ],
   "source": [
    "class Car:\n",
    "    make = None\n",
    "    model = None\n",
    "    launch_year = None\n",
    "    is_running = None\n",
    "\n",
    "c1 = Car()\n",
    "print(c1.make, c1.model, c1.launch_year, c1.is_running)"
   ]
  },
  {
   "cell_type": "code",
   "execution_count": 0,
   "metadata": {
    "application/vnd.databricks.v1+cell": {
     "cellMetadata": {
      "byteLimit": 2048000,
      "rowLimit": 10000
     },
     "inputWidgets": {},
     "nuid": "0cbf3c89-acc4-4c53-bf7c-28e1ea176e26",
     "showTitle": false,
     "title": ""
    }
   },
   "outputs": [
    {
     "output_type": "stream",
     "name": "stdout",
     "output_type": "stream",
     "text": [
      "Toyota Camry 2022 False\n"
     ]
    }
   ],
   "source": [
    "class Car:\n",
    "    def __init__(self, make, model, launch_year):\n",
    "        self.make = make\n",
    "        self.model = model\n",
    "        self.launch_year = launch_year\n",
    "        self.is_running = False\n",
    "\n",
    "c1 = Car(\"Toyota\", \"Camry\", 2022)\n",
    "print(c1.make, c1.model, c1.launch_year, c1.is_running)"
   ]
  },
  {
   "cell_type": "code",
   "execution_count": 0,
   "metadata": {
    "application/vnd.databricks.v1+cell": {
     "cellMetadata": {
      "byteLimit": 2048000,
      "rowLimit": 10000
     },
     "inputWidgets": {},
     "nuid": "bf1826f8-108c-4ba9-b8a2-a2dd139b894a",
     "showTitle": false,
     "title": ""
    }
   },
   "outputs": [
    {
     "output_type": "stream",
     "name": "stdout",
     "output_type": "stream",
     "text": [
      "Toyota\nTrue\n"
     ]
    }
   ],
   "source": [
    "class Car:\n",
    "    make = None\n",
    "    model = None\n",
    "    launch_year = None\n",
    "    is_running = None\n",
    "\n",
    "    def __init__(self, make, model, launch_year):\n",
    "        self.make = make\n",
    "        self.model = model\n",
    "        self.launch_year = launch_year\n",
    "        self.is_running = False\n",
    "    \n",
    "    def start_engine(self):\n",
    "        if not self.is_running:\n",
    "            self.is_running = True\n",
    "    \n",
    "    def stop_engine(self):\n",
    "        if self.is_running:\n",
    "            self.is_running = False\n",
    "\n",
    "c1 = Car(\"Toyota\", \"Camry\", 2022)\n",
    "print(c1.make)\n",
    "c1.start_engine()\n",
    "print(c1.is_running)"
   ]
  },
  {
   "cell_type": "code",
   "execution_count": 0,
   "metadata": {
    "application/vnd.databricks.v1+cell": {
     "cellMetadata": {
      "byteLimit": 2048000,
      "rowLimit": 10000
     },
     "inputWidgets": {},
     "nuid": "34857dff-7090-4811-a07b-44e7d7460f8d",
     "showTitle": false,
     "title": ""
    }
   },
   "outputs": [
    {
     "output_type": "stream",
     "name": "stdout",
     "output_type": "stream",
     "text": [
      "False\nFalse\nTrue\nTrue\nFalse\n"
     ]
    }
   ],
   "source": [
    "class Car:\n",
    "    make = None\n",
    "    model = None\n",
    "    launch_year = None\n",
    "    is_running = None\n",
    "\n",
    "    def __init__(self, make, model, launch_year):\n",
    "        self.make = make\n",
    "        self.model = model\n",
    "        self.launch_year = launch_year\n",
    "        self.is_running = False\n",
    "    \n",
    "    def start_engine(self):\n",
    "        if not self.is_running:\n",
    "            self.is_running = True\n",
    "    \n",
    "    def stop_engine(self):\n",
    "        if self.is_running:\n",
    "            self.is_running = False\n",
    "\n",
    "c1 = Car(\"Toyota\", \"Camry\", 2022)\n",
    "\n",
    "print(c1.is_running)\n",
    "c1.stop_engine()  # Trying to turn off the off engine.\n",
    "print(c1.is_running)\n",
    "c1.start_engine()  # Trying to start the off engine.\n",
    "print(c1.is_running)\n",
    "c1.start_engine()  # Trying to start the started engine.\n",
    "print(c1.is_running)\n",
    "c1.stop_engine()  # Trying to turn off the started engine.\n",
    "print(c1.is_running)"
   ]
  },
  {
   "cell_type": "code",
   "execution_count": 0,
   "metadata": {
    "application/vnd.databricks.v1+cell": {
     "cellMetadata": {
      "byteLimit": 2048000,
      "rowLimit": 10000
     },
     "inputWidgets": {},
     "nuid": "2ce2d4a4-0a11-4f73-b6ff-ffa7ffd701e0",
     "showTitle": false,
     "title": ""
    }
   },
   "outputs": [
    {
     "output_type": "stream",
     "name": "stdout",
     "output_type": "stream",
     "text": [
      "False\nNone\nTrue\nNone\nFalse\n"
     ]
    }
   ],
   "source": [
    "class Car:\n",
    "    make = None\n",
    "    model = None\n",
    "    launch_year = None\n",
    "    is_running = None\n",
    "\n",
    "    def __init__(self, make, model, launch_year):\n",
    "        self.make = make\n",
    "        self.model = model\n",
    "        self.launch_year = launch_year\n",
    "        self.is_running = False\n",
    "    \n",
    "    def start_engine(self):\n",
    "        if not self.is_running:\n",
    "            self.is_running = True\n",
    "    \n",
    "    def stop_engine(self):\n",
    "        if self.is_running:\n",
    "            self.is_running = False\n",
    "\n",
    "c1 = Car(\"Toyota\", \"Camry\", 2022)\n",
    "\n",
    "print(c1.is_running)\n",
    "print(c1.start_engine())  # Printing the method return.\n",
    "print(c1.is_running)\n",
    "print(c1.stop_engine())  # Printing the method return.\n",
    "print(c1.is_running)"
   ]
  },
  {
   "cell_type": "code",
   "execution_count": 0,
   "metadata": {
    "application/vnd.databricks.v1+cell": {
     "cellMetadata": {
      "byteLimit": 2048000,
      "rowLimit": 10000
     },
     "inputWidgets": {},
     "nuid": "2d36811d-48c4-4dcb-a12e-6620de474554",
     "showTitle": false,
     "title": ""
    }
   },
   "outputs": [
    {
     "output_type": "stream",
     "name": "stdout",
     "output_type": "stream",
     "text": [
      "False\nTrue\nTrue\nFalse\nFalse\n"
     ]
    }
   ],
   "source": [
    "class Car:\n",
    "    make = None\n",
    "    model = None\n",
    "    launch_year = None\n",
    "    is_running = None\n",
    "\n",
    "    def __init__(self, make, model, launch_year):\n",
    "        self.make = make\n",
    "        self.model = model\n",
    "        self.launch_year = launch_year\n",
    "        self.is_running = False\n",
    "    \n",
    "    def start_engine(self):\n",
    "        if not self.is_running:\n",
    "            self.is_running = True\n",
    "        return self.is_running  # Return added\n",
    "    \n",
    "    def stop_engine(self):\n",
    "        if self.is_running:\n",
    "            self.is_running = False\n",
    "        return self.is_running  # Return added\n",
    "\n",
    "c1 = Car(\"Toyota\", \"Camry\", 2022)\n",
    "\n",
    "print(c1.is_running)\n",
    "print(c1.start_engine())  # Printing the method return.\n",
    "print(c1.is_running)\n",
    "print(c1.stop_engine())  # Printing the method return.\n",
    "print(c1.is_running)"
   ]
  },
  {
   "cell_type": "code",
   "execution_count": 0,
   "metadata": {
    "application/vnd.databricks.v1+cell": {
     "cellMetadata": {
      "byteLimit": 2048000,
      "rowLimit": 10000
     },
     "inputWidgets": {},
     "nuid": "f7629810-ca05-4458-83fa-1470293d67b1",
     "showTitle": false,
     "title": ""
    }
   },
   "outputs": [
    {
     "output_type": "stream",
     "name": "stdout",
     "output_type": "stream",
     "text": [
      "ADAM\nNone\nAdam\n[1, 2]\n"
     ]
    }
   ],
   "source": [
    "name = \"Adam\"\n",
    "print(name.upper())\n",
    "\n",
    "l = [1]\n",
    "print(l.append(2))\n",
    "\n",
    "print(name)\n",
    "print(l)"
   ]
  },
  {
   "cell_type": "code",
   "execution_count": 0,
   "metadata": {
    "application/vnd.databricks.v1+cell": {
     "cellMetadata": {
      "byteLimit": 2048000,
      "rowLimit": 10000
     },
     "inputWidgets": {},
     "nuid": "4ac9cd0d-00e9-431f-8860-6bb303ce381a",
     "showTitle": false,
     "title": ""
    }
   },
   "outputs": [
    {
     "output_type": "stream",
     "name": "stdout",
     "output_type": "stream",
     "text": [
      "False\nThe engine is already off.\nThe engine is now running.\nThe engine is already running.\nThe engine is now turned off.\nFalse\n"
     ]
    }
   ],
   "source": [
    "class Car:\n",
    "    make = None\n",
    "    model = None\n",
    "    launch_year = None\n",
    "    is_running = None\n",
    "\n",
    "    def __init__(self, make, model, launch_year):\n",
    "        self.make = make\n",
    "        self.model = model\n",
    "        self.launch_year = launch_year\n",
    "        self.is_running = False\n",
    "    \n",
    "    def start_engine(self):\n",
    "        if not self.is_running:   # Adding the print in the method instead of returning\n",
    "            print(f\"The engine is now running.\")\n",
    "            self.is_running = True\n",
    "        else:\n",
    "            print(\"The engine is already running.\")\n",
    "    \n",
    "    def stop_engine(self):\n",
    "        if self.is_running:   # Adding the print in the method instead of returning\n",
    "            print(f\"The engine is now turned off.\")\n",
    "            self.is_running = False\n",
    "        else:\n",
    "            print(\"The engine is already off.\")\n",
    "\n",
    "c1 = Car(\"Toyota\", \"Camry\", 2022)\n",
    "\n",
    "print(c1.is_running)\n",
    "c1.stop_engine()\n",
    "c1.start_engine()\n",
    "c1.start_engine()\n",
    "c1.stop_engine()\n",
    "print(c1.is_running)"
   ]
  },
  {
   "cell_type": "code",
   "execution_count": 0,
   "metadata": {
    "application/vnd.databricks.v1+cell": {
     "cellMetadata": {
      "byteLimit": 2048000,
      "rowLimit": 10000
     },
     "inputWidgets": {},
     "nuid": "2132c171-f323-4585-be2f-7980d94b6b84",
     "showTitle": false,
     "title": ""
    }
   },
   "outputs": [
    {
     "output_type": "stream",
     "name": "stdout",
     "output_type": "stream",
     "text": [
      "The engine is now running.\nTurning off the engine forcefully!!!\nThe engine is now turned off.\n"
     ]
    }
   ],
   "source": [
    "class Car:\n",
    "    make = None\n",
    "    model = None\n",
    "    launch_year = None\n",
    "    is_running = None\n",
    "\n",
    "    def __init__(self, make, model, launch_year):\n",
    "        self.make = make\n",
    "        self.model = model\n",
    "        self.launch_year = launch_year\n",
    "        self.is_running = False\n",
    "    \n",
    "    def start_engine(self):\n",
    "        if not self.is_running:\n",
    "            print(f\"The engine is now running.\")\n",
    "            self.is_running = True\n",
    "        else:\n",
    "            print(\"The engine is already running.\")\n",
    "    \n",
    "    def stop_engine(self, force=False):  # Adding a parameter in the method\n",
    "        if self.is_running:\n",
    "            if force:\n",
    "                print(\"Turning off the engine forcefully!!!\")\n",
    "            print(f\"The engine is now turned off.\")\n",
    "            self.is_running = False\n",
    "        else:\n",
    "            print(\"The engine is already off.\")\n",
    "\n",
    "c1 = Car(\"Toyota\", \"Camry\", 2022)\n",
    "\n",
    "c1.start_engine()\n",
    "c1.stop_engine(force=True)"
   ]
  },
  {
   "cell_type": "code",
   "execution_count": 0,
   "metadata": {
    "application/vnd.databricks.v1+cell": {
     "cellMetadata": {
      "byteLimit": 2048000,
      "rowLimit": 10000
     },
     "inputWidgets": {},
     "nuid": "92077839-5c86-4f75-94d8-b8a3d2a26fd3",
     "showTitle": false,
     "title": ""
    }
   },
   "outputs": [
    {
     "output_type": "stream",
     "name": "stdout",
     "output_type": "stream",
     "text": [
      "<__main__.Car object at 0x7f7b8085bb80>\n"
     ]
    }
   ],
   "source": [
    "print(c1) # Print"
   ]
  },
  {
   "cell_type": "code",
   "execution_count": 0,
   "metadata": {
    "application/vnd.databricks.v1+cell": {
     "cellMetadata": {
      "byteLimit": 2048000,
      "rowLimit": 10000
     },
     "inputWidgets": {},
     "nuid": "abc46141-4c33-42e7-a70a-bf8b19528481",
     "showTitle": false,
     "title": ""
    }
   },
   "outputs": [
    {
     "output_type": "stream",
     "name": "stdout",
     "output_type": "stream",
     "text": [
      "Car(Toyota, Camry)\n"
     ]
    }
   ],
   "source": [
    "class Car:\n",
    "    make = None\n",
    "    model = None\n",
    "    launch_year = None\n",
    "    is_running = None\n",
    "\n",
    "    def __init__(self, make, model, launch_year):\n",
    "        self.make = make\n",
    "        self.model = model\n",
    "        self.launch_year = launch_year\n",
    "        self.is_running = False\n",
    "    \n",
    "    def __str__(self):  # __str__\n",
    "        return f\"Car({self.make}, {self.model})\"\n",
    "    \n",
    "    def start_engine(self):\n",
    "        if not self.is_running:\n",
    "            print(f\"The engine is now running.\")\n",
    "            self.is_running = True\n",
    "        else:\n",
    "            print(\"The engine is already running.\")\n",
    "    \n",
    "    def stop_engine(self, force=False):  # Adding a parameter in the method\n",
    "        if self.is_running:\n",
    "            if force:\n",
    "                print(\"Turning off the engine forcefully!!!\")\n",
    "            print(f\"The engine is now turned off.\")\n",
    "            self.is_running = False\n",
    "        else:\n",
    "            print(\"The engine is already off.\")\n",
    "\n",
    "c1 = Car(\"Toyota\", \"Camry\", 2022)\n",
    "print(c1)"
   ]
  },
  {
   "cell_type": "code",
   "execution_count": 0,
   "metadata": {
    "application/vnd.databricks.v1+cell": {
     "cellMetadata": {
      "byteLimit": 2048000,
      "rowLimit": 10000
     },
     "inputWidgets": {},
     "nuid": "61b922f2-e108-4a65-93e8-4d82696b1b74",
     "showTitle": false,
     "title": ""
    }
   },
   "outputs": [
    {
     "output_type": "stream",
     "name": "stdout",
     "output_type": "stream",
     "text": [
      "Out[16]: <__main__.Car at 0x7f7b807f86d0>"
     ]
    }
   ],
   "source": [
    "c1"
   ]
  },
  {
   "cell_type": "code",
   "execution_count": 0,
   "metadata": {
    "application/vnd.databricks.v1+cell": {
     "cellMetadata": {
      "byteLimit": 2048000,
      "rowLimit": 10000
     },
     "inputWidgets": {},
     "nuid": "2cd7262d-bf44-47b9-8ecc-fd6b8136dd42",
     "showTitle": false,
     "title": ""
    }
   },
   "outputs": [
    {
     "output_type": "stream",
     "name": "stdout",
     "output_type": "stream",
     "text": [
      "Car(Toyota, Camry)\n"
     ]
    }
   ],
   "source": [
    "class Car:\n",
    "    make = None\n",
    "    model = None\n",
    "    launch_year = None\n",
    "    is_running = None\n",
    "\n",
    "    def __init__(self, make, model, launch_year):\n",
    "        self.make = make\n",
    "        self.model = model\n",
    "        self.launch_year = launch_year\n",
    "        self.is_running = False\n",
    "    \n",
    "    def __str__(self):\n",
    "        return f\"Car({self.make}, {self.model})\"\n",
    "\n",
    "    def __repr__(self):  # __repr__\n",
    "        return f\"Car({self.make}, {self.model}, {self.launch_year})\"\n",
    "    \n",
    "    def start_engine(self):\n",
    "        if not self.is_running:\n",
    "            print(f\"The engine is now running.\")\n",
    "            self.is_running = True\n",
    "        else:\n",
    "            print(\"The engine is already running.\")\n",
    "    \n",
    "    def stop_engine(self, force=False):  # Adding a parameter in the method\n",
    "        if self.is_running:\n",
    "            if force:\n",
    "                print(\"Turning off the engine forcefully!!!\")\n",
    "            print(f\"The engine is now turned off.\")\n",
    "            self.is_running = False\n",
    "        else:\n",
    "            print(\"The engine is already off.\")\n",
    "\n",
    "c1 = Car(\"Toyota\", \"Camry\", 2022)\n",
    "print(c1)"
   ]
  },
  {
   "cell_type": "code",
   "execution_count": 0,
   "metadata": {
    "application/vnd.databricks.v1+cell": {
     "cellMetadata": {
      "byteLimit": 2048000,
      "rowLimit": 10000
     },
     "inputWidgets": {},
     "nuid": "745ff44a-11f8-4529-b910-4370f2d51ad6",
     "showTitle": false,
     "title": ""
    }
   },
   "outputs": [
    {
     "output_type": "stream",
     "name": "stdout",
     "output_type": "stream",
     "text": [
      "Out[18]: Car(Toyota, Camry, 2022)"
     ]
    }
   ],
   "source": [
    "c1"
   ]
  },
  {
   "cell_type": "code",
   "execution_count": 0,
   "metadata": {
    "application/vnd.databricks.v1+cell": {
     "cellMetadata": {
      "byteLimit": 2048000,
      "rowLimit": 10000
     },
     "inputWidgets": {},
     "nuid": "65d78b03-c9b4-4324-a071-34be56cbcd8d",
     "showTitle": false,
     "title": ""
    }
   },
   "outputs": [
    {
     "output_type": "stream",
     "name": "stdout",
     "output_type": "stream",
     "text": [
      "\nShe asked, \"Why?\"\nThen he replied, \"I will be late.\"\n\n"
     ]
    }
   ],
   "source": [
    "print(\"\"\"\n",
    "She asked, \"Why?\"\n",
    "Then he replied, \"I will be late.\"\n",
    "\"\"\")"
   ]
  },
  {
   "cell_type": "code",
   "execution_count": 0,
   "metadata": {
    "application/vnd.databricks.v1+cell": {
     "cellMetadata": {
      "byteLimit": 2048000,
      "rowLimit": 10000
     },
     "inputWidgets": {},
     "nuid": "b1ad2460-1de4-4f26-89e4-4cda4f529d3a",
     "showTitle": false,
     "title": ""
    }
   },
   "outputs": [
    {
     "output_type": "stream",
     "name": "stdout",
     "output_type": "stream",
     "text": [
      "Out[20]: '\\nShe asked, \"Why?\"\\nThen he replied, \"I will be late.\"\\n'"
     ]
    }
   ],
   "source": [
    "\"\"\"\n",
    "She asked, \"Why?\"\n",
    "Then he replied, \"I will be late.\"\n",
    "\"\"\""
   ]
  },
  {
   "cell_type": "markdown",
   "metadata": {
    "application/vnd.databricks.v1+cell": {
     "cellMetadata": {
      "byteLimit": 2048000,
      "rowLimit": 10000
     },
     "inputWidgets": {},
     "nuid": "bbfb0383-5e20-49d4-af6c-e366d59b4b25",
     "showTitle": false,
     "title": ""
    }
   },
   "source": [
    "#Task\n",
    "\n",
    "\n",
    "Create a Python class named Rectangle to represent rectangles. The class should have the following attributes and methods:\n",
    "\n",
    "Attributes:\n",
    "\n",
    "* length (positive float): Length of the rectangle.\n",
    "\n",
    "* width (positive float): Width of the rectangle.\n",
    "\n",
    "\n",
    "Methods:\n",
    "\n",
    "* \\_\\_init\\_\\_(self, length, width): Constructor method to initialize the length and width attributes.\n",
    "* calculate_area(self): Method that calculates and returns the area of the rectangle.\n",
    "* calculate_perimeter(self): Method that calculates and returns the perimeter of the rectangle.\n",
    "* is_square(self): Method that returns True if the rectangle is a square (length equals width), otherwise returns False.\n",
    "\n",
    "Write a program that creates an instance of the Rectangle class, sets the length and width, and then prints the area, perimeter, and whether the rectangle is a square.\n",
    "\n",
    "\n",
    "```python\n",
    "# Create a rectangle with length 5 and width 7\n",
    "my_rectangle = Rectangle(5, 7)\n",
    "\n",
    "# Print area and perimeter\n",
    "print(f\"Area: {my_rectangle.calculate_area()}\")\n",
    "print(f\"Perimeter: {my_rectangle.calculate_perimeter()}\")\n",
    "\n",
    "# Check if the rectangle is a square\n",
    "if my_rectangle.is_square():\n",
    "    print(\"This rectangle is a square.\")\n",
    "else:\n",
    "    print(\"This rectangle is not a square.\")\n",
    "```"
   ]
  },
  {
   "cell_type": "code",
   "execution_count": 0,
   "metadata": {
    "application/vnd.databricks.v1+cell": {
     "cellMetadata": {
      "byteLimit": 2048000,
      "rowLimit": 10000
     },
     "inputWidgets": {},
     "nuid": "3d948b6f-697f-4ab2-9efa-a8ceb06af24e",
     "showTitle": false,
     "title": ""
    }
   },
   "outputs": [],
   "source": [
    "class Rectangle:\n",
    "    length = None\n",
    "    width = None\n",
    "\n",
    "    def __init__(self,length,width):\n",
    "        self.length=length\n",
    "        self.width=width\n",
    "\n",
    "    def calculate_area(self):\n",
    "        return self.length*self.width\n",
    "    \n",
    "    def calculate_perimeter(self):\n",
    "        return 2*(self.length+self.width)\n",
    "    \n",
    "    def is_square(self):\n",
    "        return (self.length==self.width)\n",
    "    \n",
    "\n",
    "\n"
   ]
  },
  {
   "cell_type": "code",
   "execution_count": 0,
   "metadata": {
    "application/vnd.databricks.v1+cell": {
     "cellMetadata": {
      "byteLimit": 2048000,
      "rowLimit": 10000
     },
     "inputWidgets": {},
     "nuid": "c77def06-8e75-401a-a019-ec1adb933ae5",
     "showTitle": false,
     "title": ""
    }
   },
   "outputs": [
    {
     "output_type": "stream",
     "name": "stdout",
     "output_type": "stream",
     "text": [
      "Area: 35\nPerimeter: 24\nThis rectangle is not a square.\n"
     ]
    }
   ],
   "source": [
    "# Create a rectangle with length 5 and width 7\n",
    "my_rectangle = Rectangle(5, 7)\n",
    "\n",
    "# Print area and perimeter\n",
    "print(f\"Area: {my_rectangle.calculate_area()}\")\n",
    "print(f\"Perimeter: {my_rectangle.calculate_perimeter()}\")\n",
    "\n",
    "# Check if the rectangle is a square\n",
    "if my_rectangle.is_square():\n",
    "    print(\"This rectangle is a square.\")\n",
    "else:\n",
    "    print(\"This rectangle is not a square.\")"
   ]
  },
  {
   "cell_type": "code",
   "execution_count": 0,
   "metadata": {
    "application/vnd.databricks.v1+cell": {
     "cellMetadata": {
      "byteLimit": 2048000,
      "rowLimit": 10000
     },
     "inputWidgets": {},
     "nuid": "7c36080b-2e43-4a26-b283-d8ba686daaf2",
     "showTitle": false,
     "title": ""
    }
   },
   "outputs": [],
   "source": []
  }
 ],
 "metadata": {
  "application/vnd.databricks.v1+notebook": {
   "dashboards": [],
   "language": "python",
   "notebookMetadata": {
    "pythonIndentUnit": 4
   },
   "notebookName": "Classes, objects, attributes, and methods",
   "widgets": {}
  }
 },
 "nbformat": 4,
 "nbformat_minor": 0
}
