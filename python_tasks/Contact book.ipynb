{
 "cells": [
  {
   "cell_type": "code",
   "execution_count": 0,
   "metadata": {
    "application/vnd.databricks.v1+cell": {
     "cellMetadata": {},
     "inputWidgets": {},
     "nuid": "5f0a3cbd-7210-44c1-a6e4-d8800ce18521",
     "showTitle": false,
     "title": ""
    }
   },
   "outputs": [],
   "source": [
    "contact_book = []\n",
    "\n",
    "\n",
    "\n",
    "\n",
    "def add_contact():\n",
    "    name = input(print('Enter name'))\n",
    "    phone = input(print('Enter phone number'))\n",
    "    email = input(print('Enter email'))\n",
    "    contact = {'name':name,'phone':phone,'email':email}\n",
    "    contact_book.append(contact)\n",
    "    print('Contact added')\n",
    "\n",
    "def view_contact():\n",
    "    for contact in contact_book:\n",
    "        print(contact['name'],contact['phone'],contact['email'])\n",
    "\n",
    "def search_contact():\n",
    "    name = input(print('Enter name to search :'))\n",
    "    for contact in contact_book:\n",
    "        if contact['name']==name:\n",
    "            print(contact['name'],contact['phone'],contact['email'])\n",
    "    \n",
    "\n",
    "def delete_contact():\n",
    "    name = input(print('Enter name to delete :'))\n",
    "    for contact in contact_book:\n",
    "        if contact['name']==name:\n",
    "            contact_book.remove(contact)\n",
    "            print('Contact deleted')\n",
    "\n",
    "\n",
    "\n",
    "choice = 0\n",
    "while 1:\n",
    "    print('Options :','1: add contact','2: view contact','3: search contact','4: delete contact','5: exit', sep='\\n')\n",
    "    \n",
    "    choice = int(input(print('Enter your choice :')))\n",
    "    if choice == 5:\n",
    "        break\n",
    "    elif choice == 1:\n",
    "        add_contact()\n",
    "    elif choice == 2:\n",
    "        view_contact()\n",
    "    elif choice == 3:\n",
    "        search_contact()\n",
    "    elif choice == 4:\n",
    "        delete_contact()\n",
    "    else:\n",
    "        print('Enter valid choice')\n",
    "    for contact in contact_book:\n",
    "        print(contact['name'],contact['phone'],contact['email'])\n",
    "        \n"
   ]
  },
  {
   "cell_type": "code",
   "execution_count": 0,
   "metadata": {
    "application/vnd.databricks.v1+cell": {
     "cellMetadata": {
      "byteLimit": 2048000,
      "rowLimit": 10000
     },
     "inputWidgets": {},
     "nuid": "33dd7e3a-04b0-4727-a5c1-bc05e7f55e1d",
     "showTitle": false,
     "title": ""
    }
   },
   "outputs": [
    {
     "output_type": "stream",
     "name": "stdout",
     "output_type": "stream",
     "text": [
      "Options :\n1: add contact\n2: view contact\n3: search contact\n4: delete contact\n5: exit\nEnter your choice :\n"
     ]
    },
    {
     "output_type": "display_data",
     "data": {
      "text/plain": [
       "None 1"
      ]
     },
     "metadata": {},
     "output_type": "display_data"
    },
    {
     "output_type": "display_data",
     "data": {
      "text/plain": [
       "Enter name:  vedant"
      ]
     },
     "metadata": {},
     "output_type": "display_data"
    },
    {
     "output_type": "display_data",
     "data": {
      "text/plain": [
       "Enter phone number:  2138013"
      ]
     },
     "metadata": {},
     "output_type": "display_data"
    },
    {
     "output_type": "display_data",
     "data": {
      "text/plain": [
       "Enter email:  sdmnakcjaskdj"
      ]
     },
     "metadata": {},
     "output_type": "display_data"
    },
    {
     "output_type": "stream",
     "name": "stdout",
     "output_type": "stream",
     "text": [
      "Contact added\nupdated contact list :\nvedant 2138013 sdmnakcjaskdj\nOptions :\n1: add contact\n2: view contact\n3: search contact\n4: delete contact\n5: exit\nEnter your choice :\n"
     ]
    },
    {
     "output_type": "display_data",
     "data": {
      "text/plain": [
       "None 4"
      ]
     },
     "metadata": {},
     "output_type": "display_data"
    },
    {
     "output_type": "display_data",
     "data": {
      "text/plain": [
       "Enter name to delete:  vedant"
      ]
     },
     "metadata": {},
     "output_type": "display_data"
    },
    {
     "output_type": "stream",
     "name": "stdout",
     "output_type": "stream",
     "text": [
      "Contact deleted\nupdated contact list :\nOptions :\n1: add contact\n2: view contact\n3: search contact\n4: delete contact\n5: exit\nEnter your choice :\n"
     ]
    },
    {
     "output_type": "display_data",
     "data": {
      "text/plain": [
       "None 5"
      ]
     },
     "metadata": {},
     "output_type": "display_data"
    }
   ],
   "source": [
    "# Contact Book using class\n",
    "\n",
    "class PhoneBook:\n",
    "    def __init__(self):\n",
    "        self.phone_book = []\n",
    "\n",
    "    def add_contact(self,**kwargs):\n",
    "        contact = {'name': kwargs.get('name', ''),\n",
    "                   'phone': kwargs.get('phone',''),\n",
    "                   'email':kwargs.get('email', '')}\n",
    "        self.phone_book.append(contact)\n",
    "        print('Contact added')\n",
    "        print('updated contact list :')\n",
    "        for contact in self.phone_book:\n",
    "            print(contact['name'],contact['phone'],contact['email'])\n",
    "\n",
    "    def view_contacts(self):\n",
    "        for contact in self.phone_book:\n",
    "            print(contact['name'],contact['phone'],contact['email'])\n",
    "        \n",
    "        \n",
    "\n",
    "    def search_contact(self,name):\n",
    "        for contact in self.phone_book:\n",
    "            if contact['name']==name:\n",
    "                print(f\"Name: {contact['name']}, Phone: {contact['phone']}, Email: {contact['email']}\")\n",
    "\n",
    "    def delete_contact(self,name):\n",
    "        for contact in self.phone_book:\n",
    "            if contact['name'] == name:\n",
    "                self.phone_book.remove(contact)\n",
    "                print('Contact deleted')\n",
    "        print('updated contact list :')\n",
    "        for contact in self.phone_book:\n",
    "            print(contact['name'],contact['phone'],contact['email'])\n",
    "\n",
    "phone_book = PhoneBook()\n",
    "while 1:\n",
    "    print('Options :','1: add contact','2: view contact','3: search contact','4: delete contact','5: exit', sep='\\n')\n",
    "    \n",
    "    choice = int(input(print('Enter your choice :')))\n",
    "    if choice == 5:\n",
    "        break\n",
    "    elif choice == 1:\n",
    "        name = input('Enter name: ')\n",
    "        phone = input('Enter phone number: ')\n",
    "        email = input('Enter email: ')\n",
    "        phone_book.add_contact(name=name, phone=phone, email=email)\n",
    "    elif choice == 2:\n",
    "        phone_book.view_contacts()\n",
    "    elif choice == 3:\n",
    "        name = input('Enter name to search: ')\n",
    "        phone_book.search_contact(name)\n",
    "    elif choice == 4:\n",
    "        name = input('Enter name to delete: ')\n",
    "        phone_book.delete_contact(name)\n",
    "    else:\n",
    "        print('Enter valid choice')\n",
    "    \n",
    "        \n",
    "        \n"
   ]
  },
  {
   "cell_type": "code",
   "execution_count": 0,
   "metadata": {
    "application/vnd.databricks.v1+cell": {
     "cellMetadata": {},
     "inputWidgets": {},
     "nuid": "53558526-f299-4bf9-9b88-9b07411de2e7",
     "showTitle": false,
     "title": ""
    }
   },
   "outputs": [],
   "source": []
  }
 ],
 "metadata": {
  "application/vnd.databricks.v1+notebook": {
   "dashboards": [],
   "language": "python",
   "notebookMetadata": {
    "pythonIndentUnit": 4
   },
   "notebookName": "Contact book",
   "widgets": {}
  }
 },
 "nbformat": 4,
 "nbformat_minor": 0
}
