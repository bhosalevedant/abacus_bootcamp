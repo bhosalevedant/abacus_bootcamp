{
 "cells": [
  {
   "cell_type": "code",
   "execution_count": 0,
   "metadata": {
    "application/vnd.databricks.v1+cell": {
     "cellMetadata": {
      "byteLimit": 2048000,
      "rowLimit": 10000
     },
     "inputWidgets": {},
     "nuid": "5aee967f-c907-4c8a-846d-c036b5cce89e",
     "showTitle": false,
     "title": ""
    }
   },
   "outputs": [
    {
     "output_type": "stream",
     "name": "stdout",
     "output_type": "stream",
     "text": [
      "{'name': 'John', 'age': '34', 'city': 'New York'}\n"
     ]
    }
   ],
   "source": [
    "#1.\tConvert \"name:John,age:34,city:New York\" string to dictionary using python\n",
    "\n",
    "s='name:John,age:34,city:New York'\n",
    "key_value = s.split(',')\n",
    "d={}\n",
    "for i in key_value:\n",
    "    key,value=i.split(':')\n",
    "    d[key]=value\n",
    "\n",
    "print(d)\n"
   ]
  },
  {
   "cell_type": "markdown",
   "metadata": {
    "application/vnd.databricks.v1+cell": {
     "cellMetadata": {
      "byteLimit": 2048000,
      "rowLimit": 10000
     },
     "inputWidgets": {},
     "nuid": "0397a6af-31fa-43b9-9c15-e9886d3c8f21",
     "showTitle": false,
     "title": ""
    }
   },
   "source": [
    "2.\tYou have a string that represents information about various books. Each book's information is separated by a pipe (|), and within each book's data, different attributes like title, author, and year are separated by a comma. Your task is to convert this string into a dictionary where each book's title is the key, and the value is another dictionary containing the author and year of publication.\n",
    "\n",
    "String : \"The Great Gatsby, F. Scott Fitzgerald, 1925 | To Kill a Mockingbird, Harper Lee, 1960 | 1984, George Orwell, 1949\"\n",
    "\n",
    "Convert this string into a nested dictionary with book titles as keys and another dictionary with 'author' and 'year' as keys and their respective values.\n",
    "Expected Output:\n",
    "\n",
    "{\n",
    "    \t'The Great Gatsby': {'author': 'F. Scott Fitzgerald', 'year': '1925'},\n",
    "  \t 'To Kill a Mockingbird': {'author': 'Harper Lee', 'year': '1960'},\n",
    "   \t '1984': {'author': 'George Orwell', 'year': '1949'}\n",
    "}\n",
    "\n",
    "\n"
   ]
  },
  {
   "cell_type": "code",
   "execution_count": 0,
   "metadata": {
    "application/vnd.databricks.v1+cell": {
     "cellMetadata": {
      "byteLimit": 2048000,
      "rowLimit": 10000
     },
     "inputWidgets": {},
     "nuid": "c5b17863-a49d-44bf-82e0-584b9c1b3dac",
     "showTitle": false,
     "title": ""
    }
   },
   "outputs": [
    {
     "output_type": "stream",
     "name": "stdout",
     "output_type": "stream",
     "text": [
      "{'The Great Gatsby': {'author': ' F. Scott Fitzgerald', 'year': ' 1925 '}, ' To Kill a Mockingbird': {'author': ' Harper Lee', 'year': ' 1960 '}, ' 1984': {'author': ' George Orwell', 'year': ' 1949'}}\n"
     ]
    }
   ],
   "source": [
    "s = \"The Great Gatsby, F. Scott Fitzgerald, 1925 | To Kill a Mockingbird, Harper Lee, 1960 | 1984, George Orwell, 1949\"\n",
    "books = s.split('|')\n",
    "d={}\n",
    "\n",
    "for book_data in books:\n",
    "    book,author,year=book_data.split(',')\n",
    "    d[book]={'author':author,'year':year}\n",
    "\n",
    "print(d)"
   ]
  },
  {
   "cell_type": "markdown",
   "metadata": {
    "application/vnd.databricks.v1+cell": {
     "cellMetadata": {
      "byteLimit": 2048000,
      "rowLimit": 10000
     },
     "inputWidgets": {},
     "nuid": "f2261bd4-d6bf-44c8-ab71-8208eb877a22",
     "showTitle": false,
     "title": ""
    }
   },
   "source": [
    "3.\tMerge two different lists into dictionaries:\n",
    "names = [\"Alice\", \"Bob\", \"Charlie\"]\n",
    "grades = [\"A\", \"B\", \"C\"]\n"
   ]
  },
  {
   "cell_type": "code",
   "execution_count": 0,
   "metadata": {
    "application/vnd.databricks.v1+cell": {
     "cellMetadata": {
      "byteLimit": 2048000,
      "rowLimit": 10000
     },
     "inputWidgets": {},
     "nuid": "d536395c-829d-4edf-a9d0-b53a31059cd6",
     "showTitle": false,
     "title": ""
    }
   },
   "outputs": [
    {
     "output_type": "stream",
     "name": "stdout",
     "output_type": "stream",
     "text": [
      "{'Alice': 'A', 'Bob': 'B', 'Charlie': 'C'}\n"
     ]
    }
   ],
   "source": [
    "names = [\"Alice\", \"Bob\", \"Charlie\"] \n",
    "grades = [\"A\", \"B\", \"C\"]\n",
    "\n",
    "my_dict = dict(zip(names,grades))\n",
    "print(my_dict)"
   ]
  },
  {
   "cell_type": "markdown",
   "metadata": {
    "application/vnd.databricks.v1+cell": {
     "cellMetadata": {
      "byteLimit": 2048000,
      "rowLimit": 10000
     },
     "inputWidgets": {},
     "nuid": "815f3e53-6b98-4dec-ba4b-9e0036ef9135",
     "showTitle": false,
     "title": ""
    }
   },
   "source": [
    "4.\tYou have a dictionary of stock quantities for various items and a list of items that have been sold. Update the dictionary by reducing the stock quantity for each sold item.\n",
    "\n",
    "stock = {\"apples\": 10, \"oranges\": 8, \"bananas\": 6}\n",
    "sold_items = [\"apples\", \"oranges\", \"apples\", \"bananas\"]\n",
    "\n"
   ]
  },
  {
   "cell_type": "code",
   "execution_count": 0,
   "metadata": {
    "application/vnd.databricks.v1+cell": {
     "cellMetadata": {
      "byteLimit": 2048000,
      "rowLimit": 10000
     },
     "inputWidgets": {},
     "nuid": "ecd825d3-a494-4f58-9cd0-532a40708276",
     "showTitle": false,
     "title": ""
    }
   },
   "outputs": [
    {
     "output_type": "stream",
     "name": "stdout",
     "output_type": "stream",
     "text": [
      "{'apples': 8, 'oranges': 7, 'bananas': 5}\n"
     ]
    }
   ],
   "source": [
    "stock = {\"apples\": 10, \"oranges\": 8, \"bananas\": 6}\n",
    "sold_items = [\"apples\", \"oranges\", \"apples\", \"bananas\"]\n",
    "\n",
    "for item in sold_items:\n",
    "    stock[item] -=1\n",
    "\n",
    "print (stock)"
   ]
  },
  {
   "cell_type": "markdown",
   "metadata": {
    "application/vnd.databricks.v1+cell": {
     "cellMetadata": {
      "byteLimit": 2048000,
      "rowLimit": 10000
     },
     "inputWidgets": {},
     "nuid": "232c613c-acd8-417f-ae83-8a2b4c374de5",
     "showTitle": false,
     "title": ""
    }
   },
   "source": [
    "5.\tYou have three lists, containing names, ages, and occupations of a group of people. Combine these lists into a list of dictionaries, each dictionary containing 'name', 'age', and 'occupation' as keys.\n",
    "List:\n",
    "names = [\"Alice\", \"Bob\", \"Charlie\"]\n",
    "ages = [25, 30, 35]\n",
    "occupations = [\"Engineer\", \"Doctor\", \"Artist\"]\n",
    "\n",
    "\n"
   ]
  },
  {
   "cell_type": "code",
   "execution_count": 0,
   "metadata": {
    "application/vnd.databricks.v1+cell": {
     "cellMetadata": {
      "byteLimit": 2048000,
      "rowLimit": 10000
     },
     "inputWidgets": {},
     "nuid": "5967cfcb-cfd9-47db-b493-b29bf7da0a0f",
     "showTitle": false,
     "title": ""
    }
   },
   "outputs": [
    {
     "output_type": "stream",
     "name": "stdout",
     "output_type": "stream",
     "text": [
      "[{'names': 'Alice', 'ages': 25, 'occupatins': 'Engineer'}, {'names': 'Bob', 'ages': 30, 'occupatins': 'Doctor'}, {'names': 'Charlie', 'ages': 35, 'occupatins': 'Artist'}]\n"
     ]
    }
   ],
   "source": [
    "names = [\"Alice\", \"Bob\", \"Charlie\"]\n",
    "ages = [25, 30, 35]\n",
    "occupations = [\"Engineer\", \"Doctor\", \"Artist\"]\n",
    "lst=[]\n",
    "for i in range(0,len(names)):\n",
    "    d={'names':names[i],'ages':ages[i],'occupatins':occupations[i]}\n",
    "    lst.append(d)\n",
    "\n",
    "print(lst)"
   ]
  },
  {
   "cell_type": "code",
   "execution_count": 0,
   "metadata": {
    "application/vnd.databricks.v1+cell": {
     "cellMetadata": {
      "byteLimit": 2048000,
      "rowLimit": 10000
     },
     "inputWidgets": {},
     "nuid": "797dda1a-c958-44ee-b682-398201a308fe",
     "showTitle": false,
     "title": ""
    }
   },
   "outputs": [
    {
     "output_type": "stream",
     "name": "stdout",
     "output_type": "stream",
     "text": [
      "no of questions : 2\n['How are you?', 'Have you seen my notebook?']\n2\nsentence without punctuation : Hello How are you I hope youre enjoying your day Have you seen my notebook Its important Thanks for your help\ncount of word : 2\nHello! Thanks for your help!\n"
     ]
    }
   ],
   "source": [
    "'''6.\tYou have received a text message that contains various sentences, some of which are inquiries (ending with a question mark '?'). Your task is to analyze this message and perform several operations using Python string functions.\n",
    "\n",
    "Text :  \"Hello! How are you? I hope you're enjoying your day. Have you seen my notebook? It's important. Thanks for your help!\"\n",
    "\n",
    "Count the Questions: Determine how many sentences in the text are questions.\n",
    "Extract Questions: Create a list containing only the sentences that are questions.\n",
    "Remove Punctuation: Create a new version of the text with all punctuation removed.\n",
    "Word Count: Count how many times the word 'you' appears in the text (case-insensitive).\n",
    "Concatenate: Concatenate the first and last sentences to form a new sentence.\n",
    "\n",
    "'''\n",
    "import re\n",
    "text = \"Hello! How are you? I hope you're enjoying your day. Have you seen my notebook? It's important. Thanks for your help!\"\n",
    "cnt_que=text.count('?')\n",
    "\n",
    "print('no of questions :',cnt_que)\n",
    "\n",
    "###########################\n",
    "sentences = []\n",
    "current_sentence = ''\n",
    "for char in text:\n",
    "    current_sentence += char\n",
    "    if char in '.!?':\n",
    "        sentences.append(current_sentence.strip())\n",
    "        current_sentence = ''\n",
    "        if current_sentence:\n",
    "            sentences.append(current_sentence.strip())\n",
    "#print(sentences)\n",
    "questions = [sentence for sentence in sentences if sentence.endswith('?')]\n",
    "question_count = len(questions)\n",
    "print(questions)\n",
    "print(question_count)\n",
    "\n",
    "###########################\n",
    "puctuations = ',.?!\\''\n",
    "s1 = ''\n",
    "for i in text:\n",
    "    if i not in puctuations:\n",
    "        s1+=i\n",
    "print('sentence without punctuation :',s1)\n",
    "\n",
    "#############################\n",
    "text1 = s1.lower()\n",
    "cnt = text1.count('you ')\n",
    "print('count of word :',cnt)\n",
    "\n",
    "############################\n",
    "s2 = sentences[0] +\" \"+ sentences[-1]\n",
    "print(s2)"
   ]
  },
  {
   "cell_type": "code",
   "execution_count": 0,
   "metadata": {
    "application/vnd.databricks.v1+cell": {
     "cellMetadata": {
      "byteLimit": 2048000,
      "rowLimit": 10000
     },
     "inputWidgets": {},
     "nuid": "91a5d9d1-eebb-4e3a-b552-929caab4de16",
     "showTitle": false,
     "title": ""
    }
   },
   "outputs": [],
   "source": []
  }
 ],
 "metadata": {
  "application/vnd.databricks.v1+notebook": {
   "dashboards": [],
   "language": "python",
   "notebookMetadata": {
    "pythonIndentUnit": 4
   },
   "notebookName": "Dictionary",
   "widgets": {}
  }
 },
 "nbformat": 4,
 "nbformat_minor": 0
}
