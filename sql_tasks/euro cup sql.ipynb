{
 "cells": [
  {
   "cell_type": "code",
   "execution_count": 0,
   "metadata": {
    "application/vnd.databricks.v1+cell": {
     "cellMetadata": {
      "byteLimit": 2048000,
      "rowLimit": 10000
     },
     "inputWidgets": {},
     "nuid": "3f9b4d24-cd10-4ed7-bd44-7e82d152f47d",
     "showTitle": false,
     "title": ""
    }
   },
   "outputs": [],
   "source": [
    "%python\n",
    "from pyspark.sql.types import StructType,StructField,StringType,IntegerType\n",
    "from pyspark.sql import functions as f\n",
    "from pyspark.sql.window import Window"
   ]
  },
  {
   "cell_type": "code",
   "execution_count": 0,
   "metadata": {
    "application/vnd.databricks.v1+cell": {
     "cellMetadata": {
      "byteLimit": 2048000,
      "rowLimit": 10000
     },
     "inputWidgets": {},
     "nuid": "26f1c0ff-9bae-49f6-ad16-503625c267aa",
     "showTitle": false,
     "title": ""
    }
   },
   "outputs": [
    {
     "output_type": "display_data",
     "data": {
      "text/html": [
       "<style scoped>\n",
       "  .table-result-container {\n",
       "    max-height: 300px;\n",
       "    overflow: auto;\n",
       "  }\n",
       "  table, th, td {\n",
       "    border: 1px solid black;\n",
       "    border-collapse: collapse;\n",
       "  }\n",
       "  th, td {\n",
       "    padding: 5px;\n",
       "  }\n",
       "  th {\n",
       "    text-align: left;\n",
       "  }\n",
       "</style><div class='table-result-container'><table class='table-result'><thead style='background-color: white'><tr></tr></thead><tbody></tbody></table></div>"
      ]
     },
     "metadata": {
      "application/vnd.databricks.v1+output": {
       "addedWidgets": {},
       "aggData": [],
       "aggError": "",
       "aggOverflow": false,
       "aggSchema": [],
       "aggSeriesLimitReached": false,
       "aggType": "",
       "arguments": {},
       "columnCustomDisplayInfos": {},
       "data": [],
       "datasetInfos": [],
       "dbfsResultPath": null,
       "isJsonSchema": true,
       "metadata": {
        "isDbfsCommandResult": false
       },
       "overflow": false,
       "plotOptions": {
        "customPlotOptions": {},
        "displayType": "table",
        "pivotAggregation": null,
        "pivotColumns": null,
        "xColumns": null,
        "yColumns": null
       },
       "removedWidgets": [],
       "schema": [],
       "type": "table"
      }
     },
     "output_type": "display_data"
    }
   ],
   "source": [
    "%sql\n",
    "DROP TABLE IF EXISTS group_standings1;"
   ]
  },
  {
   "cell_type": "code",
   "execution_count": 0,
   "metadata": {
    "application/vnd.databricks.v1+cell": {
     "cellMetadata": {
      "byteLimit": 2048000,
      "rowLimit": 10000
     },
     "inputWidgets": {},
     "nuid": "865991a8-bfd4-4bcf-8887-a2dfb928b141",
     "showTitle": false,
     "title": ""
    }
   },
   "outputs": [
    {
     "output_type": "display_data",
     "data": {
      "text/html": [
       "<style scoped>\n",
       "  .table-result-container {\n",
       "    max-height: 300px;\n",
       "    overflow: auto;\n",
       "  }\n",
       "  table, th, td {\n",
       "    border: 1px solid black;\n",
       "    border-collapse: collapse;\n",
       "  }\n",
       "  th, td {\n",
       "    padding: 5px;\n",
       "  }\n",
       "  th {\n",
       "    text-align: left;\n",
       "  }\n",
       "</style><div class='table-result-container'><table class='table-result'><thead style='background-color: white'><tr></tr></thead><tbody></tbody></table></div>"
      ]
     },
     "metadata": {
      "application/vnd.databricks.v1+output": {
       "addedWidgets": {},
       "aggData": [],
       "aggError": "",
       "aggOverflow": false,
       "aggSchema": [],
       "aggSeriesLimitReached": false,
       "aggType": "",
       "arguments": {},
       "columnCustomDisplayInfos": {},
       "data": [],
       "datasetInfos": [],
       "dbfsResultPath": null,
       "isJsonSchema": true,
       "metadata": {
        "isDbfsCommandResult": false
       },
       "overflow": false,
       "plotOptions": {
        "customPlotOptions": {},
        "displayType": "table",
        "pivotAggregation": null,
        "pivotColumns": null,
        "xColumns": null,
        "yColumns": null
       },
       "removedWidgets": [],
       "schema": [],
       "type": "table"
      }
     },
     "output_type": "display_data"
    }
   ],
   "source": [
    "%sql\n",
    "CREATE or replace TABLE group_standings2 (\n",
    "  team_name VARCHAR(255),\n",
    "  group VARCHAR(255)\n",
    ");"
   ]
  },
  {
   "cell_type": "code",
   "execution_count": 0,
   "metadata": {
    "application/vnd.databricks.v1+cell": {
     "cellMetadata": {
      "byteLimit": 2048000,
      "rowLimit": 10000
     },
     "inputWidgets": {},
     "nuid": "c74bb04e-38c7-440e-b617-ca8ba0ab9dfb",
     "showTitle": false,
     "title": ""
    }
   },
   "outputs": [
    {
     "output_type": "display_data",
     "data": {
      "text/html": [
       "<style scoped>\n",
       "  .table-result-container {\n",
       "    max-height: 300px;\n",
       "    overflow: auto;\n",
       "  }\n",
       "  table, th, td {\n",
       "    border: 1px solid black;\n",
       "    border-collapse: collapse;\n",
       "  }\n",
       "  th, td {\n",
       "    padding: 5px;\n",
       "  }\n",
       "  th {\n",
       "    text-align: left;\n",
       "  }\n",
       "</style><div class='table-result-container'><table class='table-result'><thead style='background-color: white'><tr><th>num_affected_rows</th><th>num_inserted_rows</th></tr></thead><tbody><tr><td>24</td><td>24</td></tr></tbody></table></div>"
      ]
     },
     "metadata": {
      "application/vnd.databricks.v1+output": {
       "addedWidgets": {},
       "aggData": [],
       "aggError": "",
       "aggOverflow": false,
       "aggSchema": [],
       "aggSeriesLimitReached": false,
       "aggType": "",
       "arguments": {},
       "columnCustomDisplayInfos": {},
       "data": [
        [
         24,
         24
        ]
       ],
       "datasetInfos": [],
       "dbfsResultPath": null,
       "isJsonSchema": true,
       "metadata": {
        "isDbfsCommandResult": false
       },
       "overflow": false,
       "plotOptions": {
        "customPlotOptions": {},
        "displayType": "table",
        "pivotAggregation": null,
        "pivotColumns": null,
        "xColumns": null,
        "yColumns": null
       },
       "removedWidgets": [],
       "schema": [
        {
         "metadata": "{}",
         "name": "num_affected_rows",
         "type": "\"long\""
        },
        {
         "metadata": "{}",
         "name": "num_inserted_rows",
         "type": "\"long\""
        }
       ],
       "type": "table"
      }
     },
     "output_type": "display_data"
    }
   ],
   "source": [
    "%sql\n",
    "insert into group_standings2(team_name,group)\n",
    "values('Switzerland','A'),\n",
    "('Germany','A'),\n",
    "('Scotland','A'),\n",
    "('Hungary','A'),\n",
    "('Croatia','B'),('Italy','B'),('Albania','B'),('Spain','B'),('Denmark','C'),('England','C'),('Slovenia','C'),('Serbia','C'),\n",
    "('France','D'),('Netherlands','D'),('Austria','D'),('Finland','D'),('Romania','E'),('Slovakia','E'),('Belgium','E'),('Iceland','E'),\n",
    "('Turkiye','F'),('Czech Republic','F'),('Portugal','F'),('Greece','F')"
   ]
  },
  {
   "cell_type": "code",
   "execution_count": 0,
   "metadata": {
    "application/vnd.databricks.v1+cell": {
     "cellMetadata": {
      "byteLimit": 2048000,
      "rowLimit": 10000
     },
     "inputWidgets": {},
     "nuid": "f36164d5-673d-4e68-af7b-c076dd4804b6",
     "showTitle": false,
     "title": ""
    }
   },
   "outputs": [
    {
     "output_type": "display_data",
     "data": {
      "text/html": [
       "<style scoped>\n",
       "  .table-result-container {\n",
       "    max-height: 300px;\n",
       "    overflow: auto;\n",
       "  }\n",
       "  table, th, td {\n",
       "    border: 1px solid black;\n",
       "    border-collapse: collapse;\n",
       "  }\n",
       "  th, td {\n",
       "    padding: 5px;\n",
       "  }\n",
       "  th {\n",
       "    text-align: left;\n",
       "  }\n",
       "</style><div class='table-result-container'><table class='table-result'><thead style='background-color: white'><tr><th>team_name</th><th>group</th></tr></thead><tbody><tr><td>Switzerland</td><td>A</td></tr><tr><td>Germany</td><td>A</td></tr><tr><td>Scotland</td><td>A</td></tr><tr><td>Hungary</td><td>A</td></tr><tr><td>Croatia</td><td>B</td></tr><tr><td>Italy</td><td>B</td></tr><tr><td>Albania</td><td>B</td></tr><tr><td>Spain</td><td>B</td></tr><tr><td>Denmark</td><td>C</td></tr><tr><td>England</td><td>C</td></tr><tr><td>Slovenia</td><td>C</td></tr><tr><td>Serbia</td><td>C</td></tr><tr><td>France</td><td>D</td></tr><tr><td>Netherlands</td><td>D</td></tr><tr><td>Austria</td><td>D</td></tr><tr><td>Finland</td><td>D</td></tr><tr><td>Romania</td><td>E</td></tr><tr><td>Slovakia</td><td>E</td></tr><tr><td>Belgium</td><td>E</td></tr><tr><td>Iceland</td><td>E</td></tr><tr><td>Turkiye</td><td>F</td></tr><tr><td>Czech Republic</td><td>F</td></tr><tr><td>Portugal</td><td>F</td></tr><tr><td>Greece</td><td>F</td></tr></tbody></table></div>"
      ]
     },
     "metadata": {
      "application/vnd.databricks.v1+output": {
       "addedWidgets": {},
       "aggData": [],
       "aggError": "",
       "aggOverflow": false,
       "aggSchema": [],
       "aggSeriesLimitReached": false,
       "aggType": "",
       "arguments": {},
       "columnCustomDisplayInfos": {},
       "data": [
        [
         "Switzerland",
         "A"
        ],
        [
         "Germany",
         "A"
        ],
        [
         "Scotland",
         "A"
        ],
        [
         "Hungary",
         "A"
        ],
        [
         "Croatia",
         "B"
        ],
        [
         "Italy",
         "B"
        ],
        [
         "Albania",
         "B"
        ],
        [
         "Spain",
         "B"
        ],
        [
         "Denmark",
         "C"
        ],
        [
         "England",
         "C"
        ],
        [
         "Slovenia",
         "C"
        ],
        [
         "Serbia",
         "C"
        ],
        [
         "France",
         "D"
        ],
        [
         "Netherlands",
         "D"
        ],
        [
         "Austria",
         "D"
        ],
        [
         "Finland",
         "D"
        ],
        [
         "Romania",
         "E"
        ],
        [
         "Slovakia",
         "E"
        ],
        [
         "Belgium",
         "E"
        ],
        [
         "Iceland",
         "E"
        ],
        [
         "Turkiye",
         "F"
        ],
        [
         "Czech Republic",
         "F"
        ],
        [
         "Portugal",
         "F"
        ],
        [
         "Greece",
         "F"
        ]
       ],
       "datasetInfos": [],
       "dbfsResultPath": null,
       "isJsonSchema": true,
       "metadata": {
        "isDbfsCommandResult": false
       },
       "overflow": false,
       "plotOptions": {
        "customPlotOptions": {},
        "displayType": "table",
        "pivotAggregation": null,
        "pivotColumns": null,
        "xColumns": null,
        "yColumns": null
       },
       "removedWidgets": [],
       "schema": [
        {
         "metadata": "{\"__CHAR_VARCHAR_TYPE_STRING\":\"varchar(255)\"}",
         "name": "team_name",
         "type": "\"string\""
        },
        {
         "metadata": "{\"__CHAR_VARCHAR_TYPE_STRING\":\"varchar(255)\"}",
         "name": "group",
         "type": "\"string\""
        }
       ],
       "type": "table"
      }
     },
     "output_type": "display_data"
    }
   ],
   "source": [
    "%sql\n",
    "select * from group_standings2"
   ]
  },
  {
   "cell_type": "code",
   "execution_count": 0,
   "metadata": {
    "application/vnd.databricks.v1+cell": {
     "cellMetadata": {
      "byteLimit": 2048000,
      "rowLimit": 10000
     },
     "inputWidgets": {},
     "nuid": "9acf19c3-475f-44a1-9598-066b79b47105",
     "showTitle": false,
     "title": ""
    }
   },
   "outputs": [
    {
     "output_type": "display_data",
     "data": {
      "text/html": [
       "<style scoped>\n",
       "  .table-result-container {\n",
       "    max-height: 300px;\n",
       "    overflow: auto;\n",
       "  }\n",
       "  table, th, td {\n",
       "    border: 1px solid black;\n",
       "    border-collapse: collapse;\n",
       "  }\n",
       "  th, td {\n",
       "    padding: 5px;\n",
       "  }\n",
       "  th {\n",
       "    text-align: left;\n",
       "  }\n",
       "</style><div class='table-result-container'><table class='table-result'><thead style='background-color: white'><tr><th>num_affected_rows</th><th>num_inserted_rows</th></tr></thead><tbody></tbody></table></div>"
      ]
     },
     "metadata": {
      "application/vnd.databricks.v1+output": {
       "addedWidgets": {},
       "aggData": [],
       "aggError": "",
       "aggOverflow": false,
       "aggSchema": [],
       "aggSeriesLimitReached": false,
       "aggType": "",
       "arguments": {},
       "columnCustomDisplayInfos": {},
       "data": [],
       "datasetInfos": [],
       "dbfsResultPath": null,
       "isJsonSchema": true,
       "metadata": {
        "isDbfsCommandResult": false
       },
       "overflow": false,
       "plotOptions": {
        "customPlotOptions": {},
        "displayType": "table",
        "pivotAggregation": null,
        "pivotColumns": null,
        "xColumns": null,
        "yColumns": null
       },
       "removedWidgets": [],
       "schema": [
        {
         "metadata": "{}",
         "name": "num_affected_rows",
         "type": "\"long\""
        },
        {
         "metadata": "{}",
         "name": "num_inserted_rows",
         "type": "\"long\""
        }
       ],
       "type": "table"
      }
     },
     "output_type": "display_data"
    }
   ],
   "source": [
    "%sql\n",
    "create or replace table round_16 as (\n",
    "WITH cte4 AS (\n",
    "WITH cte3 AS (\n",
    "WITH cte2 AS (\n",
    "WITH cte1 AS (\n",
    "WITH cte AS (\n",
    "SELECT\n",
    "  a.team_name AS team1,\n",
    "  a.group AS group1,\n",
    "  1 AS mp ,\n",
    "  b.team_name AS team2,\n",
    "  b.group AS group2,\n",
    "  FLOOR(RAND() * 5) AS goals1,\n",
    "  FLOOR(RAND() * 5) AS goals2,\n",
    "  CASE \n",
    "    WHEN goals1 > goals2 THEN 3\n",
    "    WHEN goals1 == goals2 THEN 1\n",
    "    ELSE 0\n",
    "    END as point1,\n",
    "  CASE\n",
    "    WHEN goals2 > goals1 THEN 3\n",
    "    WHEN goals2 == goals1 THEN 1\n",
    "    ELSE 0\n",
    "    END as point2 ,\n",
    "  CASE\n",
    "    WHEN point1 == 3 THEN 1\n",
    "    ELSE 0\n",
    "    END as w1,\n",
    "  CASE\n",
    "    WHEN point2 == 3 THEN 1\n",
    "    ELSE 0\n",
    "    END as w2, \n",
    " CASE\n",
    "    WHEN point1 == 1 THEN 1\n",
    "    ELSE 0\n",
    "    END as d1,\n",
    "  CASE\n",
    "    WHEN point2 == 1 THEN 1\n",
    "    ELSE 0\n",
    "    END as d2,  \n",
    "  CASE\n",
    "    WHEN point1 == 0 THEN 1\n",
    "    ELSE 0\n",
    "    END as l1,\n",
    "  CASE\n",
    "    WHEN point2 == 0 THEN 1\n",
    "    ELSE 0\n",
    "    END as l2\n",
    "FROM\n",
    "  group_standings2 a\n",
    "CROSS JOIN\n",
    "  group_standings2 b\n",
    "ON\n",
    "  a.group = b.group AND a.team_name < b.team_name\n",
    ")\n",
    "select team1 as team,group1 as groups ,mp,goals1 as gf, goals2 as ga,point1 as pts ,w1 as w,d1 as d,l1 as l from cte \n",
    "union all\n",
    "select team2 as team,group2 as groups,mp,goals2 as gf, goals1 as ga,point2 as pts ,w2 as w,d2 as d,l2 as l from cte \n",
    ")\n",
    "select team, groups , sum(w) as w, sum(d) as d, sum(l) as l, sum(mp) as mp,sum(gf) as gf,sum(ga) as ga,sum(gf -ga) as gd,sum(pts) as pts \n",
    "from cte1 \n",
    "group by team,groups\n",
    "order by groups, pts desc, gd desc, gf desc\n",
    ")\n",
    "select *,\n",
    "row_number() over(partition by groups order by pts desc, gd desc, gf desc) as rank\n",
    "from cte2\n",
    ")\n",
    "\n",
    "select * \n",
    "from cte3\n",
    "where rank <= 3\n",
    "order by rank,pts desc,gd desc, gf desc\n",
    "limit 16\n",
    ")\n",
    "select * from cte4\n",
    ")\n",
    "\n"
   ]
  },
  {
   "cell_type": "markdown",
   "metadata": {
    "application/vnd.databricks.v1+cell": {
     "cellMetadata": {
      "byteLimit": 2048000,
      "rowLimit": 10000
     },
     "inputWidgets": {},
     "nuid": "918bb230-43a2-4783-9d8a-92d0c42be763",
     "showTitle": false,
     "title": ""
    }
   },
   "source": [
    "#Points Table"
   ]
  },
  {
   "cell_type": "code",
   "execution_count": 0,
   "metadata": {
    "application/vnd.databricks.v1+cell": {
     "cellMetadata": {
      "byteLimit": 2048000,
      "rowLimit": 10000
     },
     "inputWidgets": {},
     "nuid": "f1e8f80a-d0b9-43bd-a3f0-34db137b877e",
     "showTitle": false,
     "title": ""
    }
   },
   "outputs": [
    {
     "output_type": "display_data",
     "data": {
      "text/html": [
       "<style scoped>\n",
       "  .table-result-container {\n",
       "    max-height: 300px;\n",
       "    overflow: auto;\n",
       "  }\n",
       "  table, th, td {\n",
       "    border: 1px solid black;\n",
       "    border-collapse: collapse;\n",
       "  }\n",
       "  th, td {\n",
       "    padding: 5px;\n",
       "  }\n",
       "  th {\n",
       "    text-align: left;\n",
       "  }\n",
       "</style><div class='table-result-container'><table class='table-result'><thead style='background-color: white'><tr><th>team</th><th>groups</th><th>w</th><th>d</th><th>l</th><th>mp</th><th>gf</th><th>ga</th><th>gd</th><th>pts</th><th>rank</th></tr></thead><tbody><tr><td>Scotland</td><td>A</td><td>3</td><td>0</td><td>0</td><td>3</td><td>7</td><td>2</td><td>5</td><td>9</td><td>1</td></tr><tr><td>Finland</td><td>D</td><td>2</td><td>1</td><td>0</td><td>3</td><td>7</td><td>3</td><td>4</td><td>7</td><td>1</td></tr><tr><td>Denmark</td><td>C</td><td>2</td><td>1</td><td>0</td><td>3</td><td>8</td><td>6</td><td>2</td><td>7</td><td>1</td></tr><tr><td>Italy</td><td>B</td><td>2</td><td>0</td><td>1</td><td>3</td><td>10</td><td>7</td><td>3</td><td>6</td><td>1</td></tr><tr><td>Slovakia</td><td>E</td><td>1</td><td>1</td><td>1</td><td>3</td><td>6</td><td>6</td><td>0</td><td>4</td><td>1</td></tr><tr><td>Czech Republic</td><td>F</td><td>1</td><td>0</td><td>2</td><td>3</td><td>5</td><td>6</td><td>-1</td><td>3</td><td>1</td></tr><tr><td>Netherlands</td><td>D</td><td>2</td><td>0</td><td>1</td><td>3</td><td>9</td><td>3</td><td>6</td><td>6</td><td>2</td></tr><tr><td>Switzerland</td><td>A</td><td>2</td><td>0</td><td>1</td><td>3</td><td>4</td><td>2</td><td>2</td><td>6</td><td>2</td></tr><tr><td>Spain</td><td>B</td><td>2</td><td>0</td><td>1</td><td>3</td><td>6</td><td>5</td><td>1</td><td>6</td><td>2</td></tr><tr><td>Serbia</td><td>C</td><td>1</td><td>1</td><td>1</td><td>3</td><td>10</td><td>10</td><td>0</td><td>4</td><td>2</td></tr><tr><td>Romania</td><td>E</td><td>1</td><td>1</td><td>1</td><td>3</td><td>6</td><td>7</td><td>-1</td><td>4</td><td>2</td></tr><tr><td>Greece</td><td>F</td><td>1</td><td>0</td><td>2</td><td>3</td><td>5</td><td>7</td><td>-2</td><td>3</td><td>2</td></tr><tr><td>France</td><td>D</td><td>2</td><td>0</td><td>1</td><td>3</td><td>11</td><td>8</td><td>3</td><td>6</td><td>3</td></tr><tr><td>Germany</td><td>A</td><td>2</td><td>0</td><td>1</td><td>3</td><td>9</td><td>9</td><td>0</td><td>6</td><td>3</td></tr><tr><td>Iceland</td><td>E</td><td>1</td><td>1</td><td>1</td><td>3</td><td>5</td><td>8</td><td>-3</td><td>4</td><td>3</td></tr><tr><td>Slovenia</td><td>C</td><td>1</td><td>0</td><td>2</td><td>3</td><td>4</td><td>9</td><td>-5</td><td>3</td><td>3</td></tr></tbody></table></div>"
      ]
     },
     "metadata": {
      "application/vnd.databricks.v1+output": {
       "addedWidgets": {},
       "aggData": [],
       "aggError": "",
       "aggOverflow": false,
       "aggSchema": [],
       "aggSeriesLimitReached": false,
       "aggType": "",
       "arguments": {},
       "columnCustomDisplayInfos": {},
       "data": [
        [
         "Scotland",
         "A",
         3,
         0,
         0,
         3,
         7,
         2,
         5,
         9,
         1
        ],
        [
         "Finland",
         "D",
         2,
         1,
         0,
         3,
         7,
         3,
         4,
         7,
         1
        ],
        [
         "Denmark",
         "C",
         2,
         1,
         0,
         3,
         8,
         6,
         2,
         7,
         1
        ],
        [
         "Italy",
         "B",
         2,
         0,
         1,
         3,
         10,
         7,
         3,
         6,
         1
        ],
        [
         "Slovakia",
         "E",
         1,
         1,
         1,
         3,
         6,
         6,
         0,
         4,
         1
        ],
        [
         "Czech Republic",
         "F",
         1,
         0,
         2,
         3,
         5,
         6,
         -1,
         3,
         1
        ],
        [
         "Netherlands",
         "D",
         2,
         0,
         1,
         3,
         9,
         3,
         6,
         6,
         2
        ],
        [
         "Switzerland",
         "A",
         2,
         0,
         1,
         3,
         4,
         2,
         2,
         6,
         2
        ],
        [
         "Spain",
         "B",
         2,
         0,
         1,
         3,
         6,
         5,
         1,
         6,
         2
        ],
        [
         "Serbia",
         "C",
         1,
         1,
         1,
         3,
         10,
         10,
         0,
         4,
         2
        ],
        [
         "Romania",
         "E",
         1,
         1,
         1,
         3,
         6,
         7,
         -1,
         4,
         2
        ],
        [
         "Greece",
         "F",
         1,
         0,
         2,
         3,
         5,
         7,
         -2,
         3,
         2
        ],
        [
         "France",
         "D",
         2,
         0,
         1,
         3,
         11,
         8,
         3,
         6,
         3
        ],
        [
         "Germany",
         "A",
         2,
         0,
         1,
         3,
         9,
         9,
         0,
         6,
         3
        ],
        [
         "Iceland",
         "E",
         1,
         1,
         1,
         3,
         5,
         8,
         -3,
         4,
         3
        ],
        [
         "Slovenia",
         "C",
         1,
         0,
         2,
         3,
         4,
         9,
         -5,
         3,
         3
        ]
       ],
       "datasetInfos": [],
       "dbfsResultPath": null,
       "isJsonSchema": true,
       "metadata": {
        "isDbfsCommandResult": false
       },
       "overflow": false,
       "plotOptions": {
        "customPlotOptions": {},
        "displayType": "table",
        "pivotAggregation": null,
        "pivotColumns": null,
        "xColumns": null,
        "yColumns": null
       },
       "removedWidgets": [],
       "schema": [
        {
         "metadata": "{\"__CHAR_VARCHAR_TYPE_STRING\":\"varchar(255)\"}",
         "name": "team",
         "type": "\"string\""
        },
        {
         "metadata": "{\"__CHAR_VARCHAR_TYPE_STRING\":\"varchar(255)\"}",
         "name": "groups",
         "type": "\"string\""
        },
        {
         "metadata": "{}",
         "name": "w",
         "type": "\"long\""
        },
        {
         "metadata": "{}",
         "name": "d",
         "type": "\"long\""
        },
        {
         "metadata": "{}",
         "name": "l",
         "type": "\"long\""
        },
        {
         "metadata": "{}",
         "name": "mp",
         "type": "\"long\""
        },
        {
         "metadata": "{}",
         "name": "gf",
         "type": "\"long\""
        },
        {
         "metadata": "{}",
         "name": "ga",
         "type": "\"long\""
        },
        {
         "metadata": "{}",
         "name": "gd",
         "type": "\"long\""
        },
        {
         "metadata": "{}",
         "name": "pts",
         "type": "\"long\""
        },
        {
         "metadata": "{}",
         "name": "rank",
         "type": "\"integer\""
        }
       ],
       "type": "table"
      }
     },
     "output_type": "display_data"
    }
   ],
   "source": [
    "%sql\n",
    "select * from round_16"
   ]
  },
  {
   "cell_type": "code",
   "execution_count": 0,
   "metadata": {
    "application/vnd.databricks.v1+cell": {
     "cellMetadata": {
      "byteLimit": 2048000,
      "rowLimit": 10000
     },
     "inputWidgets": {},
     "nuid": "18a0f105-502e-49f6-82c4-eb2800c99238",
     "showTitle": false,
     "title": ""
    }
   },
   "outputs": [
    {
     "output_type": "display_data",
     "data": {
      "text/html": [
       "<style scoped>\n",
       "  .table-result-container {\n",
       "    max-height: 300px;\n",
       "    overflow: auto;\n",
       "  }\n",
       "  table, th, td {\n",
       "    border: 1px solid black;\n",
       "    border-collapse: collapse;\n",
       "  }\n",
       "  th, td {\n",
       "    padding: 5px;\n",
       "  }\n",
       "  th {\n",
       "    text-align: left;\n",
       "  }\n",
       "</style><div class='table-result-container'><table class='table-result'><thead style='background-color: white'><tr></tr></thead><tbody></tbody></table></div>"
      ]
     },
     "metadata": {
      "application/vnd.databricks.v1+output": {
       "addedWidgets": {},
       "aggData": [],
       "aggError": "",
       "aggOverflow": false,
       "aggSchema": [],
       "aggSeriesLimitReached": false,
       "aggType": "",
       "arguments": {},
       "columnCustomDisplayInfos": {},
       "data": [],
       "datasetInfos": [],
       "dbfsResultPath": null,
       "isJsonSchema": true,
       "metadata": {
        "isDbfsCommandResult": false
       },
       "overflow": false,
       "plotOptions": {
        "customPlotOptions": {},
        "displayType": "table",
        "pivotAggregation": null,
        "pivotColumns": null,
        "xColumns": null,
        "yColumns": null
       },
       "removedWidgets": [],
       "schema": [],
       "type": "table"
      }
     },
     "output_type": "display_data"
    }
   ],
   "source": [
    "%sql\n",
    "DROP TABLE IF EXISTS FIXTURES;\n"
   ]
  },
  {
   "cell_type": "code",
   "execution_count": 0,
   "metadata": {
    "application/vnd.databricks.v1+cell": {
     "cellMetadata": {
      "byteLimit": 2048000,
      "rowLimit": 10000
     },
     "inputWidgets": {},
     "nuid": "3f0a9f5f-057f-4800-a369-622177703a53",
     "showTitle": false,
     "title": ""
    }
   },
   "outputs": [
    {
     "output_type": "display_data",
     "data": {
      "text/html": [
       "<style scoped>\n",
       "  .table-result-container {\n",
       "    max-height: 300px;\n",
       "    overflow: auto;\n",
       "  }\n",
       "  table, th, td {\n",
       "    border: 1px solid black;\n",
       "    border-collapse: collapse;\n",
       "  }\n",
       "  th, td {\n",
       "    padding: 5px;\n",
       "  }\n",
       "  th {\n",
       "    text-align: left;\n",
       "  }\n",
       "</style><div class='table-result-container'><table class='table-result'><thead style='background-color: white'><tr><th>num_affected_rows</th><th>num_inserted_rows</th></tr></thead><tbody><tr><td>15</td><td>15</td></tr></tbody></table></div>"
      ]
     },
     "metadata": {
      "application/vnd.databricks.v1+output": {
       "addedWidgets": {},
       "aggData": [],
       "aggError": "",
       "aggOverflow": false,
       "aggSchema": [],
       "aggSeriesLimitReached": false,
       "aggType": "",
       "arguments": {},
       "columnCustomDisplayInfos": {},
       "data": [
        [
         15,
         15
        ]
       ],
       "datasetInfos": [],
       "dbfsResultPath": null,
       "isJsonSchema": true,
       "metadata": {
        "isDbfsCommandResult": false
       },
       "overflow": false,
       "plotOptions": {
        "customPlotOptions": {},
        "displayType": "table",
        "pivotAggregation": null,
        "pivotColumns": null,
        "xColumns": null,
        "yColumns": null
       },
       "removedWidgets": [],
       "schema": [
        {
         "metadata": "{}",
         "name": "num_affected_rows",
         "type": "\"long\""
        },
        {
         "metadata": "{}",
         "name": "num_inserted_rows",
         "type": "\"long\""
        }
       ],
       "type": "table"
      }
     },
     "output_type": "display_data"
    }
   ],
   "source": [
    "%sql\n",
    "CREATE or replace TABLE FIXTURES1 (\n",
    "    AllGroups VARCHAR(8),\n",
    "    B VARCHAR(2),\n",
    "    C VARCHAR(2),\n",
    "    E VARCHAR(2),\n",
    "    F VARCHAR(2)\n",
    ");\n",
    "\n",
    "INSERT INTO FIXTURES1 (AllGroups, B, C, E, F) VALUES\n",
    "('ABCD', 'A', 'D', 'B', 'C'),\n",
    "('ABCE', 'A', 'E', 'B', 'C'),\n",
    "('ABCF', 'A', 'F', 'B', 'C'),\n",
    "('ABDE', 'D', 'E', 'A', 'B'),\n",
    "('ABDF', 'D', 'F', 'A', 'B'),\n",
    "('ABEF', 'E', 'F', 'B', 'A'),\n",
    "('ACDE', 'E', 'D', 'C', 'A'),\n",
    "('ACDF', 'F', 'D', 'C', 'A'),\n",
    "('ACEF', 'E', 'F', 'C', 'A'),\n",
    "('ADEF', 'E', 'F', 'D', 'A'),\n",
    "('BCDE', 'E', 'D', 'B', 'C'),\n",
    "('BCDF', 'F', 'D', 'C', 'B'),\n",
    "('BCEF', 'F', 'E', 'C', 'B'),\n",
    "('BDEF', 'F', 'E', 'D', 'B'),\n",
    "('CDEF', 'F', 'E', 'D', 'C');\n",
    "\n"
   ]
  },
  {
   "cell_type": "code",
   "execution_count": 0,
   "metadata": {
    "application/vnd.databricks.v1+cell": {
     "cellMetadata": {
      "byteLimit": 2048000,
      "rowLimit": 10000
     },
     "inputWidgets": {},
     "nuid": "bef1e6ba-909d-4281-a375-88b6312a5760",
     "showTitle": false,
     "title": ""
    }
   },
   "outputs": [
    {
     "output_type": "display_data",
     "data": {
      "text/html": [
       "<style scoped>\n",
       "  .table-result-container {\n",
       "    max-height: 300px;\n",
       "    overflow: auto;\n",
       "  }\n",
       "  table, th, td {\n",
       "    border: 1px solid black;\n",
       "    border-collapse: collapse;\n",
       "  }\n",
       "  th, td {\n",
       "    padding: 5px;\n",
       "  }\n",
       "  th {\n",
       "    text-align: left;\n",
       "  }\n",
       "</style><div class='table-result-container'><table class='table-result'><thead style='background-color: white'><tr><th>AllGroups</th><th>B</th><th>C</th><th>E</th><th>F</th></tr></thead><tbody><tr><td>ABCD</td><td>A</td><td>D</td><td>B</td><td>C</td></tr><tr><td>ABCE</td><td>A</td><td>E</td><td>B</td><td>C</td></tr><tr><td>ABCF</td><td>A</td><td>F</td><td>B</td><td>C</td></tr><tr><td>ABDE</td><td>D</td><td>E</td><td>A</td><td>B</td></tr><tr><td>ABDF</td><td>D</td><td>F</td><td>A</td><td>B</td></tr><tr><td>ABEF</td><td>E</td><td>F</td><td>B</td><td>A</td></tr><tr><td>ACDE</td><td>E</td><td>D</td><td>C</td><td>A</td></tr><tr><td>ACDF</td><td>F</td><td>D</td><td>C</td><td>A</td></tr><tr><td>ACEF</td><td>E</td><td>F</td><td>C</td><td>A</td></tr><tr><td>ADEF</td><td>E</td><td>F</td><td>D</td><td>A</td></tr><tr><td>BCDE</td><td>E</td><td>D</td><td>B</td><td>C</td></tr><tr><td>BCDF</td><td>F</td><td>D</td><td>C</td><td>B</td></tr><tr><td>BCEF</td><td>F</td><td>E</td><td>C</td><td>B</td></tr><tr><td>BDEF</td><td>F</td><td>E</td><td>D</td><td>B</td></tr><tr><td>CDEF</td><td>F</td><td>E</td><td>D</td><td>C</td></tr></tbody></table></div>"
      ]
     },
     "metadata": {
      "application/vnd.databricks.v1+output": {
       "addedWidgets": {},
       "aggData": [],
       "aggError": "",
       "aggOverflow": false,
       "aggSchema": [],
       "aggSeriesLimitReached": false,
       "aggType": "",
       "arguments": {},
       "columnCustomDisplayInfos": {},
       "data": [
        [
         "ABCD",
         "A",
         "D",
         "B",
         "C"
        ],
        [
         "ABCE",
         "A",
         "E",
         "B",
         "C"
        ],
        [
         "ABCF",
         "A",
         "F",
         "B",
         "C"
        ],
        [
         "ABDE",
         "D",
         "E",
         "A",
         "B"
        ],
        [
         "ABDF",
         "D",
         "F",
         "A",
         "B"
        ],
        [
         "ABEF",
         "E",
         "F",
         "B",
         "A"
        ],
        [
         "ACDE",
         "E",
         "D",
         "C",
         "A"
        ],
        [
         "ACDF",
         "F",
         "D",
         "C",
         "A"
        ],
        [
         "ACEF",
         "E",
         "F",
         "C",
         "A"
        ],
        [
         "ADEF",
         "E",
         "F",
         "D",
         "A"
        ],
        [
         "BCDE",
         "E",
         "D",
         "B",
         "C"
        ],
        [
         "BCDF",
         "F",
         "D",
         "C",
         "B"
        ],
        [
         "BCEF",
         "F",
         "E",
         "C",
         "B"
        ],
        [
         "BDEF",
         "F",
         "E",
         "D",
         "B"
        ],
        [
         "CDEF",
         "F",
         "E",
         "D",
         "C"
        ]
       ],
       "datasetInfos": [],
       "dbfsResultPath": null,
       "isJsonSchema": true,
       "metadata": {
        "isDbfsCommandResult": false
       },
       "overflow": false,
       "plotOptions": {
        "customPlotOptions": {},
        "displayType": "table",
        "pivotAggregation": null,
        "pivotColumns": null,
        "xColumns": null,
        "yColumns": null
       },
       "removedWidgets": [],
       "schema": [
        {
         "metadata": "{\"__CHAR_VARCHAR_TYPE_STRING\":\"varchar(8)\"}",
         "name": "AllGroups",
         "type": "\"string\""
        },
        {
         "metadata": "{\"__CHAR_VARCHAR_TYPE_STRING\":\"varchar(2)\"}",
         "name": "B",
         "type": "\"string\""
        },
        {
         "metadata": "{\"__CHAR_VARCHAR_TYPE_STRING\":\"varchar(2)\"}",
         "name": "C",
         "type": "\"string\""
        },
        {
         "metadata": "{\"__CHAR_VARCHAR_TYPE_STRING\":\"varchar(2)\"}",
         "name": "E",
         "type": "\"string\""
        },
        {
         "metadata": "{\"__CHAR_VARCHAR_TYPE_STRING\":\"varchar(2)\"}",
         "name": "F",
         "type": "\"string\""
        }
       ],
       "type": "table"
      }
     },
     "output_type": "display_data"
    }
   ],
   "source": [
    "%sql\n",
    "select * from FIXTURES1"
   ]
  },
  {
   "cell_type": "code",
   "execution_count": 0,
   "metadata": {
    "application/vnd.databricks.v1+cell": {
     "cellMetadata": {
      "byteLimit": 2048000,
      "rowLimit": 10000
     },
     "inputWidgets": {},
     "nuid": "a6f5c1c6-bcb9-4976-b1d1-686a7f51b1c0",
     "showTitle": false,
     "title": ""
    }
   },
   "outputs": [
    {
     "output_type": "display_data",
     "data": {
      "text/html": [
       "<style scoped>\n",
       "  .table-result-container {\n",
       "    max-height: 300px;\n",
       "    overflow: auto;\n",
       "  }\n",
       "  table, th, td {\n",
       "    border: 1px solid black;\n",
       "    border-collapse: collapse;\n",
       "  }\n",
       "  th, td {\n",
       "    padding: 5px;\n",
       "  }\n",
       "  th {\n",
       "    text-align: left;\n",
       "  }\n",
       "</style><div class='table-result-container'><table class='table-result'><thead style='background-color: white'><tr><th>pattern</th><th>AllGroups</th><th>B</th><th>C</th><th>E</th><th>F</th></tr></thead><tbody><tr><td>ACDE</td><td>ACDE</td><td>E</td><td>D</td><td>C</td><td>A</td></tr></tbody></table></div>"
      ]
     },
     "metadata": {
      "application/vnd.databricks.v1+output": {
       "addedWidgets": {},
       "aggData": [],
       "aggError": "",
       "aggOverflow": false,
       "aggSchema": [],
       "aggSeriesLimitReached": false,
       "aggType": "",
       "arguments": {},
       "columnCustomDisplayInfos": {},
       "data": [
        [
         "ACDE",
         "ACDE",
         "E",
         "D",
         "C",
         "A"
        ]
       ],
       "datasetInfos": [],
       "dbfsResultPath": null,
       "isJsonSchema": true,
       "metadata": {
        "isDbfsCommandResult": false
       },
       "overflow": false,
       "plotOptions": {
        "customPlotOptions": {},
        "displayType": "table",
        "pivotAggregation": null,
        "pivotColumns": null,
        "xColumns": null,
        "yColumns": null
       },
       "removedWidgets": [],
       "schema": [
        {
         "metadata": "{}",
         "name": "pattern",
         "type": "\"string\""
        },
        {
         "metadata": "{\"__CHAR_VARCHAR_TYPE_STRING\":\"varchar(8)\"}",
         "name": "AllGroups",
         "type": "\"string\""
        },
        {
         "metadata": "{\"__CHAR_VARCHAR_TYPE_STRING\":\"varchar(2)\"}",
         "name": "B",
         "type": "\"string\""
        },
        {
         "metadata": "{\"__CHAR_VARCHAR_TYPE_STRING\":\"varchar(2)\"}",
         "name": "C",
         "type": "\"string\""
        },
        {
         "metadata": "{\"__CHAR_VARCHAR_TYPE_STRING\":\"varchar(2)\"}",
         "name": "E",
         "type": "\"string\""
        },
        {
         "metadata": "{\"__CHAR_VARCHAR_TYPE_STRING\":\"varchar(2)\"}",
         "name": "F",
         "type": "\"string\""
        }
       ],
       "type": "table"
      }
     },
     "output_type": "display_data"
    }
   ],
   "source": [
    "%sql\n",
    "WITH pattern AS (\n",
    "WITH round_16_ordered AS (\n",
    "  SELECT * FROM round_16\n",
    "  WHERE rank = 3\n",
    "  ORDER BY groups\n",
    ")\n",
    "SELECT  concat_ws('',array_agg( groups) )AS pattern\n",
    "FROM round_16_ordered \n",
    ")\n",
    "select * from\n",
    "pattern\n",
    "left join FIXTURES1\n",
    "on pattern = AllGroups"
   ]
  },
  {
   "cell_type": "code",
   "execution_count": 0,
   "metadata": {
    "application/vnd.databricks.v1+cell": {
     "cellMetadata": {
      "byteLimit": 2048000,
      "rowLimit": 10000
     },
     "inputWidgets": {},
     "nuid": "dc7e5278-544d-48f3-818d-c96168079b2c",
     "showTitle": false,
     "title": ""
    }
   },
   "outputs": [
    {
     "output_type": "display_data",
     "data": {
      "text/html": [
       "<style scoped>\n",
       "  .table-result-container {\n",
       "    max-height: 300px;\n",
       "    overflow: auto;\n",
       "  }\n",
       "  table, th, td {\n",
       "    border: 1px solid black;\n",
       "    border-collapse: collapse;\n",
       "  }\n",
       "  th, td {\n",
       "    padding: 5px;\n",
       "  }\n",
       "  th {\n",
       "    text-align: left;\n",
       "  }\n",
       "</style><div class='table-result-container'><table class='table-result'><thead style='background-color: white'><tr><th>num_affected_rows</th><th>num_inserted_rows</th></tr></thead><tbody></tbody></table></div>"
      ]
     },
     "metadata": {
      "application/vnd.databricks.v1+output": {
       "addedWidgets": {},
       "aggData": [],
       "aggError": "",
       "aggOverflow": false,
       "aggSchema": [],
       "aggSeriesLimitReached": false,
       "aggType": "",
       "arguments": {},
       "columnCustomDisplayInfos": {},
       "data": [],
       "datasetInfos": [],
       "dbfsResultPath": null,
       "isJsonSchema": true,
       "metadata": {
        "isDbfsCommandResult": false
       },
       "overflow": false,
       "plotOptions": {
        "customPlotOptions": {},
        "displayType": "table",
        "pivotAggregation": null,
        "pivotColumns": null,
        "xColumns": null,
        "yColumns": null
       },
       "removedWidgets": [],
       "schema": [
        {
         "metadata": "{}",
         "name": "num_affected_rows",
         "type": "\"long\""
        },
        {
         "metadata": "{}",
         "name": "num_inserted_rows",
         "type": "\"long\""
        }
       ],
       "type": "table"
      }
     },
     "output_type": "display_data"
    }
   ],
   "source": [
    "%sql\n",
    "CREATE or replace table round_16_brackets as(\n",
    "WITH third_matches AS (\n",
    "WITH pattern AS (\n",
    "WITH round_16_ordered AS (\n",
    "  SELECT * FROM round_16\n",
    "  WHERE rank = 3\n",
    "  ORDER BY groups\n",
    ")\n",
    "SELECT  concat_ws('',array_agg( groups) )AS pattern\n",
    "FROM round_16_ordered \n",
    ")\n",
    "select * from\n",
    "pattern\n",
    "left join FIXTURES1\n",
    "on pattern = AllGroups\n",
    ")\n",
    "select team,groups,rank, 1 as row_num from round_16 where rank = 1 and groups ='B'\n",
    "union all\n",
    "select team,groups,rank , 2 as row_num from round_16 where rank = 3 and groups =(select b from third_matches)\n",
    "union all\n",
    "select team,groups,rank, 3 as row_num from round_16 where rank = 1 and groups ='A'\n",
    "union all\n",
    "select team,groups,rank, 4 as row_num from round_16 where rank = 2 and groups ='C'\n",
    "union all\n",
    "select team,groups,rank, 5 as row_num from round_16 where rank = 1 and groups ='F'\n",
    "union all\n",
    "select team,groups,rank, 6 as row_num from round_16 where rank = 3 and groups =(select f from third_matches)\n",
    "union all\n",
    "select team,groups,rank, 7 as row_num from round_16 where rank = 2 and groups ='D'\n",
    "union all\n",
    "select team,groups,rank, 8 as row_num from round_16 where rank = 2 and groups ='E'\n",
    "union all\n",
    "select team,groups,rank, 9 as row_num from round_16 where rank = 1 and groups ='E'\n",
    "union all\n",
    "select team,groups,rank, 10 as row_num from round_16 where rank = 3 and groups =(select e from third_matches)\n",
    "union all\n",
    "select team,groups,rank, 11 as row_num from round_16 where rank = 1 and groups ='D'\n",
    "union all\n",
    "select team,groups,rank, 12 as row_num from round_16 where rank = 2 and groups ='F'\n",
    "union all\n",
    "select team,groups,rank, 13 as row_num from round_16 where rank = 1 and groups ='C'\n",
    "union  all\n",
    "select team,groups,rank, 14 as row_num from round_16 where rank = 3 and groups =(select c from third_matches)\n",
    "union all\n",
    "select team,groups,rank, 15 as row_num from round_16 where rank = 2 and groups ='A'\n",
    "union all\n",
    "select team,groups,rank, 16 as row_num from round_16 where rank = 2 and groups ='B'\n",
    ")"
   ]
  },
  {
   "cell_type": "markdown",
   "metadata": {
    "application/vnd.databricks.v1+cell": {
     "cellMetadata": {
      "byteLimit": 2048000,
      "rowLimit": 10000
     },
     "inputWidgets": {},
     "nuid": "20661607-2a46-4c68-9418-f96130f4b848",
     "showTitle": false,
     "title": ""
    }
   },
   "source": [
    "#Round of 16 Brackets"
   ]
  },
  {
   "cell_type": "code",
   "execution_count": 0,
   "metadata": {
    "application/vnd.databricks.v1+cell": {
     "cellMetadata": {
      "byteLimit": 2048000,
      "rowLimit": 10000
     },
     "inputWidgets": {},
     "nuid": "d94b6c0b-6fff-40d5-9dc1-430e2e72b769",
     "showTitle": false,
     "title": ""
    }
   },
   "outputs": [
    {
     "output_type": "display_data",
     "data": {
      "text/html": [
       "<style scoped>\n",
       "  .table-result-container {\n",
       "    max-height: 300px;\n",
       "    overflow: auto;\n",
       "  }\n",
       "  table, th, td {\n",
       "    border: 1px solid black;\n",
       "    border-collapse: collapse;\n",
       "  }\n",
       "  th, td {\n",
       "    padding: 5px;\n",
       "  }\n",
       "  th {\n",
       "    text-align: left;\n",
       "  }\n",
       "</style><div class='table-result-container'><table class='table-result'><thead style='background-color: white'><tr><th>team</th><th>groups</th><th>rank</th><th>row_num</th></tr></thead><tbody><tr><td>Italy</td><td>B</td><td>1</td><td>1</td></tr><tr><td>Iceland</td><td>E</td><td>3</td><td>2</td></tr><tr><td>Scotland</td><td>A</td><td>1</td><td>3</td></tr><tr><td>Serbia</td><td>C</td><td>2</td><td>4</td></tr><tr><td>Czech Republic</td><td>F</td><td>1</td><td>5</td></tr><tr><td>Germany</td><td>A</td><td>3</td><td>6</td></tr><tr><td>Netherlands</td><td>D</td><td>2</td><td>7</td></tr><tr><td>Romania</td><td>E</td><td>2</td><td>8</td></tr><tr><td>Slovakia</td><td>E</td><td>1</td><td>9</td></tr><tr><td>Slovenia</td><td>C</td><td>3</td><td>10</td></tr><tr><td>Finland</td><td>D</td><td>1</td><td>11</td></tr><tr><td>Greece</td><td>F</td><td>2</td><td>12</td></tr><tr><td>Denmark</td><td>C</td><td>1</td><td>13</td></tr><tr><td>France</td><td>D</td><td>3</td><td>14</td></tr><tr><td>Switzerland</td><td>A</td><td>2</td><td>15</td></tr><tr><td>Spain</td><td>B</td><td>2</td><td>16</td></tr></tbody></table></div>"
      ]
     },
     "metadata": {
      "application/vnd.databricks.v1+output": {
       "addedWidgets": {},
       "aggData": [],
       "aggError": "",
       "aggOverflow": false,
       "aggSchema": [],
       "aggSeriesLimitReached": false,
       "aggType": "",
       "arguments": {},
       "columnCustomDisplayInfos": {},
       "data": [
        [
         "Italy",
         "B",
         1,
         1
        ],
        [
         "Iceland",
         "E",
         3,
         2
        ],
        [
         "Scotland",
         "A",
         1,
         3
        ],
        [
         "Serbia",
         "C",
         2,
         4
        ],
        [
         "Czech Republic",
         "F",
         1,
         5
        ],
        [
         "Germany",
         "A",
         3,
         6
        ],
        [
         "Netherlands",
         "D",
         2,
         7
        ],
        [
         "Romania",
         "E",
         2,
         8
        ],
        [
         "Slovakia",
         "E",
         1,
         9
        ],
        [
         "Slovenia",
         "C",
         3,
         10
        ],
        [
         "Finland",
         "D",
         1,
         11
        ],
        [
         "Greece",
         "F",
         2,
         12
        ],
        [
         "Denmark",
         "C",
         1,
         13
        ],
        [
         "France",
         "D",
         3,
         14
        ],
        [
         "Switzerland",
         "A",
         2,
         15
        ],
        [
         "Spain",
         "B",
         2,
         16
        ]
       ],
       "datasetInfos": [],
       "dbfsResultPath": null,
       "isJsonSchema": true,
       "metadata": {
        "isDbfsCommandResult": false
       },
       "overflow": false,
       "plotOptions": {
        "customPlotOptions": {},
        "displayType": "table",
        "pivotAggregation": null,
        "pivotColumns": null,
        "xColumns": null,
        "yColumns": null
       },
       "removedWidgets": [],
       "schema": [
        {
         "metadata": "{\"__CHAR_VARCHAR_TYPE_STRING\":\"varchar(255)\"}",
         "name": "team",
         "type": "\"string\""
        },
        {
         "metadata": "{\"__CHAR_VARCHAR_TYPE_STRING\":\"varchar(255)\"}",
         "name": "groups",
         "type": "\"string\""
        },
        {
         "metadata": "{}",
         "name": "rank",
         "type": "\"integer\""
        },
        {
         "metadata": "{}",
         "name": "row_num",
         "type": "\"integer\""
        }
       ],
       "type": "table"
      }
     },
     "output_type": "display_data"
    }
   ],
   "source": [
    "%sql\n",
    "select * from round_16_brackets\n",
    "order by row_num"
   ]
  },
  {
   "cell_type": "code",
   "execution_count": 0,
   "metadata": {
    "application/vnd.databricks.v1+cell": {
     "cellMetadata": {
      "byteLimit": 2048000,
      "rowLimit": 10000
     },
     "inputWidgets": {},
     "nuid": "be857122-7456-4efe-adaa-a5ba6e61455c",
     "showTitle": false,
     "title": ""
    }
   },
   "outputs": [
    {
     "output_type": "display_data",
     "data": {
      "text/html": [
       "<style scoped>\n",
       "  .table-result-container {\n",
       "    max-height: 300px;\n",
       "    overflow: auto;\n",
       "  }\n",
       "  table, th, td {\n",
       "    border: 1px solid black;\n",
       "    border-collapse: collapse;\n",
       "  }\n",
       "  th, td {\n",
       "    padding: 5px;\n",
       "  }\n",
       "  th {\n",
       "    text-align: left;\n",
       "  }\n",
       "</style><div class='table-result-container'><table class='table-result'><thead style='background-color: white'><tr><th>num_affected_rows</th><th>num_inserted_rows</th></tr></thead><tbody></tbody></table></div>"
      ]
     },
     "metadata": {
      "application/vnd.databricks.v1+output": {
       "addedWidgets": {},
       "aggData": [],
       "aggError": "",
       "aggOverflow": false,
       "aggSchema": [],
       "aggSeriesLimitReached": false,
       "aggType": "",
       "arguments": {},
       "columnCustomDisplayInfos": {},
       "data": [],
       "datasetInfos": [],
       "dbfsResultPath": null,
       "isJsonSchema": true,
       "metadata": {
        "isDbfsCommandResult": false
       },
       "overflow": false,
       "plotOptions": {
        "customPlotOptions": {},
        "displayType": "table",
        "pivotAggregation": null,
        "pivotColumns": null,
        "xColumns": null,
        "yColumns": null
       },
       "removedWidgets": [],
       "schema": [
        {
         "metadata": "{}",
         "name": "num_affected_rows",
         "type": "\"long\""
        },
        {
         "metadata": "{}",
         "name": "num_inserted_rows",
         "type": "\"long\""
        }
       ],
       "type": "table"
      }
     },
     "output_type": "display_data"
    }
   ],
   "source": [
    "%sql\n",
    "create or replace table round_16_matches as(\n",
    "select a.team as team1,a.groups as group1,a.rank as rank1,a.row_num as row1,\n",
    "b.team as team2,b.groups as group2 ,b.rank as rank2, b.row_num as row2,\n",
    "case \n",
    "  when FLOOR(RAND() * 10) > 5 then 1\n",
    "  else 2\n",
    "  end as won\n",
    "from round_16_brackets a \n",
    "inner join round_16_brackets b \n",
    "on a.row_num=(b.row_num-1)\n",
    "where a.row_num %2 = 1 and b.row_num %2=0\n",
    "order by a.row_num\n",
    ")"
   ]
  },
  {
   "cell_type": "code",
   "execution_count": 0,
   "metadata": {
    "application/vnd.databricks.v1+cell": {
     "cellMetadata": {
      "byteLimit": 2048000,
      "rowLimit": 10000
     },
     "inputWidgets": {},
     "nuid": "06fe9097-29e5-420d-afd2-0fb3f54051cf",
     "showTitle": false,
     "title": ""
    }
   },
   "outputs": [
    {
     "output_type": "display_data",
     "data": {
      "text/html": [
       "<style scoped>\n",
       "  .table-result-container {\n",
       "    max-height: 300px;\n",
       "    overflow: auto;\n",
       "  }\n",
       "  table, th, td {\n",
       "    border: 1px solid black;\n",
       "    border-collapse: collapse;\n",
       "  }\n",
       "  th, td {\n",
       "    padding: 5px;\n",
       "  }\n",
       "  th {\n",
       "    text-align: left;\n",
       "  }\n",
       "</style><div class='table-result-container'><table class='table-result'><thead style='background-color: white'><tr><th>team1</th><th>group1</th><th>rank1</th><th>row1</th><th>team2</th><th>group2</th><th>rank2</th><th>row2</th><th>won</th></tr></thead><tbody><tr><td>Italy</td><td>B</td><td>1</td><td>1</td><td>Iceland</td><td>E</td><td>3</td><td>2</td><td>1</td></tr><tr><td>Scotland</td><td>A</td><td>1</td><td>3</td><td>Serbia</td><td>C</td><td>2</td><td>4</td><td>2</td></tr><tr><td>Czech Republic</td><td>F</td><td>1</td><td>5</td><td>Germany</td><td>A</td><td>3</td><td>6</td><td>1</td></tr><tr><td>Netherlands</td><td>D</td><td>2</td><td>7</td><td>Romania</td><td>E</td><td>2</td><td>8</td><td>2</td></tr><tr><td>Slovakia</td><td>E</td><td>1</td><td>9</td><td>Slovenia</td><td>C</td><td>3</td><td>10</td><td>2</td></tr><tr><td>Finland</td><td>D</td><td>1</td><td>11</td><td>Greece</td><td>F</td><td>2</td><td>12</td><td>1</td></tr><tr><td>Denmark</td><td>C</td><td>1</td><td>13</td><td>France</td><td>D</td><td>3</td><td>14</td><td>1</td></tr><tr><td>Switzerland</td><td>A</td><td>2</td><td>15</td><td>Spain</td><td>B</td><td>2</td><td>16</td><td>1</td></tr></tbody></table></div>"
      ]
     },
     "metadata": {
      "application/vnd.databricks.v1+output": {
       "addedWidgets": {},
       "aggData": [],
       "aggError": "",
       "aggOverflow": false,
       "aggSchema": [],
       "aggSeriesLimitReached": false,
       "aggType": "",
       "arguments": {},
       "columnCustomDisplayInfos": {},
       "data": [
        [
         "Italy",
         "B",
         1,
         1,
         "Iceland",
         "E",
         3,
         2,
         1
        ],
        [
         "Scotland",
         "A",
         1,
         3,
         "Serbia",
         "C",
         2,
         4,
         2
        ],
        [
         "Czech Republic",
         "F",
         1,
         5,
         "Germany",
         "A",
         3,
         6,
         1
        ],
        [
         "Netherlands",
         "D",
         2,
         7,
         "Romania",
         "E",
         2,
         8,
         2
        ],
        [
         "Slovakia",
         "E",
         1,
         9,
         "Slovenia",
         "C",
         3,
         10,
         2
        ],
        [
         "Finland",
         "D",
         1,
         11,
         "Greece",
         "F",
         2,
         12,
         1
        ],
        [
         "Denmark",
         "C",
         1,
         13,
         "France",
         "D",
         3,
         14,
         1
        ],
        [
         "Switzerland",
         "A",
         2,
         15,
         "Spain",
         "B",
         2,
         16,
         1
        ]
       ],
       "datasetInfos": [],
       "dbfsResultPath": null,
       "isJsonSchema": true,
       "metadata": {
        "isDbfsCommandResult": false
       },
       "overflow": false,
       "plotOptions": {
        "customPlotOptions": {},
        "displayType": "table",
        "pivotAggregation": null,
        "pivotColumns": null,
        "xColumns": null,
        "yColumns": null
       },
       "removedWidgets": [],
       "schema": [
        {
         "metadata": "{\"__CHAR_VARCHAR_TYPE_STRING\":\"varchar(255)\"}",
         "name": "team1",
         "type": "\"string\""
        },
        {
         "metadata": "{\"__CHAR_VARCHAR_TYPE_STRING\":\"varchar(255)\"}",
         "name": "group1",
         "type": "\"string\""
        },
        {
         "metadata": "{}",
         "name": "rank1",
         "type": "\"integer\""
        },
        {
         "metadata": "{}",
         "name": "row1",
         "type": "\"integer\""
        },
        {
         "metadata": "{\"__CHAR_VARCHAR_TYPE_STRING\":\"varchar(255)\"}",
         "name": "team2",
         "type": "\"string\""
        },
        {
         "metadata": "{\"__CHAR_VARCHAR_TYPE_STRING\":\"varchar(255)\"}",
         "name": "group2",
         "type": "\"string\""
        },
        {
         "metadata": "{}",
         "name": "rank2",
         "type": "\"integer\""
        },
        {
         "metadata": "{}",
         "name": "row2",
         "type": "\"integer\""
        },
        {
         "metadata": "{}",
         "name": "won",
         "type": "\"integer\""
        }
       ],
       "type": "table"
      }
     },
     "output_type": "display_data"
    }
   ],
   "source": [
    "%sql\n",
    "select * from round_16_matches"
   ]
  },
  {
   "cell_type": "markdown",
   "metadata": {
    "application/vnd.databricks.v1+cell": {
     "cellMetadata": {
      "byteLimit": 2048000,
      "rowLimit": 10000
     },
     "inputWidgets": {},
     "nuid": "f8c779bf-e45b-40f2-a7e6-e38d163c9895",
     "showTitle": false,
     "title": ""
    }
   },
   "source": [
    "#Round of 16 result"
   ]
  },
  {
   "cell_type": "code",
   "execution_count": 0,
   "metadata": {
    "application/vnd.databricks.v1+cell": {
     "cellMetadata": {
      "byteLimit": 2048000,
      "rowLimit": 10000
     },
     "inputWidgets": {},
     "nuid": "2334cad7-ebe9-4181-96dd-d495eebaf2ed",
     "showTitle": false,
     "title": ""
    }
   },
   "outputs": [
    {
     "output_type": "display_data",
     "data": {
      "text/html": [
       "<style scoped>\n",
       "  .table-result-container {\n",
       "    max-height: 300px;\n",
       "    overflow: auto;\n",
       "  }\n",
       "  table, th, td {\n",
       "    border: 1px solid black;\n",
       "    border-collapse: collapse;\n",
       "  }\n",
       "  th, td {\n",
       "    padding: 5px;\n",
       "  }\n",
       "  th {\n",
       "    text-align: left;\n",
       "  }\n",
       "</style><div class='table-result-container'><table class='table-result'><thead style='background-color: white'><tr><th>team</th><th>row_num</th></tr></thead><tbody><tr><td>Italy</td><td>1</td></tr><tr><td>Serbia</td><td>2</td></tr><tr><td>Czech Republic</td><td>3</td></tr><tr><td>Romania</td><td>4</td></tr><tr><td>Slovenia</td><td>5</td></tr><tr><td>Finland</td><td>6</td></tr><tr><td>Denmark</td><td>7</td></tr><tr><td>Switzerland</td><td>8</td></tr></tbody></table></div>"
      ]
     },
     "metadata": {
      "application/vnd.databricks.v1+output": {
       "addedWidgets": {},
       "aggData": [],
       "aggError": "",
       "aggOverflow": false,
       "aggSchema": [],
       "aggSeriesLimitReached": false,
       "aggType": "",
       "arguments": {},
       "columnCustomDisplayInfos": {},
       "data": [
        [
         "Italy",
         1
        ],
        [
         "Serbia",
         2
        ],
        [
         "Czech Republic",
         3
        ],
        [
         "Romania",
         4
        ],
        [
         "Slovenia",
         5
        ],
        [
         "Finland",
         6
        ],
        [
         "Denmark",
         7
        ],
        [
         "Switzerland",
         8
        ]
       ],
       "datasetInfos": [],
       "dbfsResultPath": null,
       "isJsonSchema": true,
       "metadata": {
        "isDbfsCommandResult": false
       },
       "overflow": false,
       "plotOptions": {
        "customPlotOptions": {},
        "displayType": "table",
        "pivotAggregation": null,
        "pivotColumns": null,
        "xColumns": null,
        "yColumns": null
       },
       "removedWidgets": [],
       "schema": [
        {
         "metadata": "{}",
         "name": "team",
         "type": "\"string\""
        },
        {
         "metadata": "{}",
         "name": "row_num",
         "type": "\"integer\""
        }
       ],
       "type": "table"
      }
     },
     "output_type": "display_data"
    }
   ],
   "source": [
    "%sql\n",
    "select\n",
    "case\n",
    "  when won = 1 then team1 \n",
    "  else team2 \n",
    "  end as team,\n",
    "row_number() over (order by 1) as row_num\n",
    "from round_16_matches\n"
   ]
  },
  {
   "cell_type": "code",
   "execution_count": 0,
   "metadata": {
    "application/vnd.databricks.v1+cell": {
     "cellMetadata": {
      "byteLimit": 2048000,
      "rowLimit": 10000
     },
     "inputWidgets": {},
     "nuid": "6dfd40e7-616f-4c1c-8aba-02b2341ddd23",
     "showTitle": false,
     "title": ""
    }
   },
   "outputs": [
    {
     "output_type": "display_data",
     "data": {
      "text/html": [
       "<style scoped>\n",
       "  .table-result-container {\n",
       "    max-height: 300px;\n",
       "    overflow: auto;\n",
       "  }\n",
       "  table, th, td {\n",
       "    border: 1px solid black;\n",
       "    border-collapse: collapse;\n",
       "  }\n",
       "  th, td {\n",
       "    padding: 5px;\n",
       "  }\n",
       "  th {\n",
       "    text-align: left;\n",
       "  }\n",
       "</style><div class='table-result-container'><table class='table-result'><thead style='background-color: white'><tr><th>num_affected_rows</th><th>num_inserted_rows</th></tr></thead><tbody></tbody></table></div>"
      ]
     },
     "metadata": {
      "application/vnd.databricks.v1+output": {
       "addedWidgets": {},
       "aggData": [],
       "aggError": "",
       "aggOverflow": false,
       "aggSchema": [],
       "aggSeriesLimitReached": false,
       "aggType": "",
       "arguments": {},
       "columnCustomDisplayInfos": {},
       "data": [],
       "datasetInfos": [],
       "dbfsResultPath": null,
       "isJsonSchema": true,
       "metadata": {
        "isDbfsCommandResult": false
       },
       "overflow": false,
       "plotOptions": {
        "customPlotOptions": {},
        "displayType": "table",
        "pivotAggregation": null,
        "pivotColumns": null,
        "xColumns": null,
        "yColumns": null
       },
       "removedWidgets": [],
       "schema": [
        {
         "metadata": "{}",
         "name": "num_affected_rows",
         "type": "\"long\""
        },
        {
         "metadata": "{}",
         "name": "num_inserted_rows",
         "type": "\"long\""
        }
       ],
       "type": "table"
      }
     },
     "output_type": "display_data"
    }
   ],
   "source": [
    "%sql\n",
    "create or replace table quarter_finalists as(\n",
    "with quarter_finalists as (\n",
    "select\n",
    "case\n",
    "  when won = 1 then team1 \n",
    "  else team2 \n",
    "  end as team,\n",
    "row_number() over (order by 1) as row_num\n",
    "from round_16_matches\n",
    ")\n",
    "select a.team as team1,a.row_num as row1,\n",
    "b.team as team2, b.row_num as row2,\n",
    "case \n",
    "  when FLOOR(RAND() * 10) > 5 then 1\n",
    "  else 2\n",
    "  end as won\n",
    "from quarter_finalists a \n",
    "inner join quarter_finalists b \n",
    "on a.row_num=(b.row_num-1)\n",
    "where a.row_num %2 = 1 and b.row_num %2=0\n",
    "order by a.row_num\n",
    ")"
   ]
  },
  {
   "cell_type": "markdown",
   "metadata": {
    "application/vnd.databricks.v1+cell": {
     "cellMetadata": {
      "byteLimit": 2048000,
      "rowLimit": 10000
     },
     "inputWidgets": {},
     "nuid": "49d0052a-4f02-4485-9aac-a076ca5fcf4f",
     "showTitle": false,
     "title": ""
    }
   },
   "source": [
    "#Quarter Final Result"
   ]
  },
  {
   "cell_type": "code",
   "execution_count": 0,
   "metadata": {
    "application/vnd.databricks.v1+cell": {
     "cellMetadata": {
      "byteLimit": 2048000,
      "rowLimit": 10000
     },
     "inputWidgets": {},
     "nuid": "7d61732c-773c-47d2-8ae4-9fe7f566e634",
     "showTitle": false,
     "title": ""
    }
   },
   "outputs": [
    {
     "output_type": "display_data",
     "data": {
      "text/html": [
       "<style scoped>\n",
       "  .table-result-container {\n",
       "    max-height: 300px;\n",
       "    overflow: auto;\n",
       "  }\n",
       "  table, th, td {\n",
       "    border: 1px solid black;\n",
       "    border-collapse: collapse;\n",
       "  }\n",
       "  th, td {\n",
       "    padding: 5px;\n",
       "  }\n",
       "  th {\n",
       "    text-align: left;\n",
       "  }\n",
       "</style><div class='table-result-container'><table class='table-result'><thead style='background-color: white'><tr><th>team</th><th>row_num</th></tr></thead><tbody><tr><td>Serbia</td><td>1</td></tr><tr><td>Romania</td><td>2</td></tr><tr><td>Slovenia</td><td>3</td></tr><tr><td>Denmark</td><td>4</td></tr></tbody></table></div>"
      ]
     },
     "metadata": {
      "application/vnd.databricks.v1+output": {
       "addedWidgets": {},
       "aggData": [],
       "aggError": "",
       "aggOverflow": false,
       "aggSchema": [],
       "aggSeriesLimitReached": false,
       "aggType": "",
       "arguments": {},
       "columnCustomDisplayInfos": {},
       "data": [
        [
         "Serbia",
         1
        ],
        [
         "Romania",
         2
        ],
        [
         "Slovenia",
         3
        ],
        [
         "Denmark",
         4
        ]
       ],
       "datasetInfos": [],
       "dbfsResultPath": null,
       "isJsonSchema": true,
       "metadata": {
        "isDbfsCommandResult": false
       },
       "overflow": false,
       "plotOptions": {
        "customPlotOptions": {},
        "displayType": "table",
        "pivotAggregation": null,
        "pivotColumns": null,
        "xColumns": null,
        "yColumns": null
       },
       "removedWidgets": [],
       "schema": [
        {
         "metadata": "{}",
         "name": "team",
         "type": "\"string\""
        },
        {
         "metadata": "{}",
         "name": "row_num",
         "type": "\"integer\""
        }
       ],
       "type": "table"
      }
     },
     "output_type": "display_data"
    }
   ],
   "source": [
    "%sql\n",
    "select \n",
    "case\n",
    "  when won = 1 then team1\n",
    "  else team2\n",
    "  end as team,\n",
    "row_number() over (order by 1) as row_num\n",
    "from quarter_finalists"
   ]
  },
  {
   "cell_type": "code",
   "execution_count": 0,
   "metadata": {
    "application/vnd.databricks.v1+cell": {
     "cellMetadata": {
      "byteLimit": 2048000,
      "rowLimit": 10000
     },
     "inputWidgets": {},
     "nuid": "708c7fa3-6493-4e7a-a0a6-b2854002fd15",
     "showTitle": false,
     "title": ""
    }
   },
   "outputs": [
    {
     "output_type": "display_data",
     "data": {
      "text/html": [
       "<style scoped>\n",
       "  .table-result-container {\n",
       "    max-height: 300px;\n",
       "    overflow: auto;\n",
       "  }\n",
       "  table, th, td {\n",
       "    border: 1px solid black;\n",
       "    border-collapse: collapse;\n",
       "  }\n",
       "  th, td {\n",
       "    padding: 5px;\n",
       "  }\n",
       "  th {\n",
       "    text-align: left;\n",
       "  }\n",
       "</style><div class='table-result-container'><table class='table-result'><thead style='background-color: white'><tr><th>num_affected_rows</th><th>num_inserted_rows</th></tr></thead><tbody></tbody></table></div>"
      ]
     },
     "metadata": {
      "application/vnd.databricks.v1+output": {
       "addedWidgets": {},
       "aggData": [],
       "aggError": "",
       "aggOverflow": false,
       "aggSchema": [],
       "aggSeriesLimitReached": false,
       "aggType": "",
       "arguments": {},
       "columnCustomDisplayInfos": {},
       "data": [],
       "datasetInfos": [],
       "dbfsResultPath": null,
       "isJsonSchema": true,
       "metadata": {
        "isDbfsCommandResult": false
       },
       "overflow": false,
       "plotOptions": {
        "customPlotOptions": {},
        "displayType": "table",
        "pivotAggregation": null,
        "pivotColumns": null,
        "xColumns": null,
        "yColumns": null
       },
       "removedWidgets": [],
       "schema": [
        {
         "metadata": "{}",
         "name": "num_affected_rows",
         "type": "\"long\""
        },
        {
         "metadata": "{}",
         "name": "num_inserted_rows",
         "type": "\"long\""
        }
       ],
       "type": "table"
      }
     },
     "output_type": "display_data"
    }
   ],
   "source": [
    "%sql\n",
    "create or replace table semi_finalists as(\n",
    "with semi_finalists as (\n",
    "select\n",
    "case\n",
    "  when won = 1 then team1 \n",
    "  else team2 \n",
    "  end as team,\n",
    "row_number() over (order by 1) as row_num\n",
    "from quarter_finalists\n",
    ")\n",
    "select a.team as team1,a.row_num as row1,\n",
    "b.team as team2, b.row_num as row2,\n",
    "case \n",
    "  when FLOOR(RAND() * 10) > 5 then 1\n",
    "  else 2\n",
    "  end as won\n",
    "from semi_finalists a \n",
    "inner join semi_finalists b \n",
    "on a.row_num=(b.row_num-1)\n",
    "where a.row_num %2 = 1 and b.row_num %2=0\n",
    "order by a.row_num\n",
    ")"
   ]
  },
  {
   "cell_type": "markdown",
   "metadata": {
    "application/vnd.databricks.v1+cell": {
     "cellMetadata": {
      "byteLimit": 2048000,
      "rowLimit": 10000
     },
     "inputWidgets": {},
     "nuid": "6b1f15ed-9624-4338-ad43-5928b989245b",
     "showTitle": false,
     "title": ""
    }
   },
   "source": [
    "#Semi Final Result"
   ]
  },
  {
   "cell_type": "code",
   "execution_count": 0,
   "metadata": {
    "application/vnd.databricks.v1+cell": {
     "cellMetadata": {
      "byteLimit": 2048000,
      "rowLimit": 10000
     },
     "inputWidgets": {},
     "nuid": "dcddff79-73ce-49fb-a835-78611528f6be",
     "showTitle": false,
     "title": ""
    }
   },
   "outputs": [
    {
     "output_type": "display_data",
     "data": {
      "text/html": [
       "<style scoped>\n",
       "  .table-result-container {\n",
       "    max-height: 300px;\n",
       "    overflow: auto;\n",
       "  }\n",
       "  table, th, td {\n",
       "    border: 1px solid black;\n",
       "    border-collapse: collapse;\n",
       "  }\n",
       "  th, td {\n",
       "    padding: 5px;\n",
       "  }\n",
       "  th {\n",
       "    text-align: left;\n",
       "  }\n",
       "</style><div class='table-result-container'><table class='table-result'><thead style='background-color: white'><tr><th>team</th><th>row_num</th></tr></thead><tbody><tr><td>Romania</td><td>1</td></tr><tr><td>Denmark</td><td>2</td></tr></tbody></table></div>"
      ]
     },
     "metadata": {
      "application/vnd.databricks.v1+output": {
       "addedWidgets": {},
       "aggData": [],
       "aggError": "",
       "aggOverflow": false,
       "aggSchema": [],
       "aggSeriesLimitReached": false,
       "aggType": "",
       "arguments": {},
       "columnCustomDisplayInfos": {},
       "data": [
        [
         "Romania",
         1
        ],
        [
         "Denmark",
         2
        ]
       ],
       "datasetInfos": [],
       "dbfsResultPath": null,
       "isJsonSchema": true,
       "metadata": {
        "isDbfsCommandResult": false
       },
       "overflow": false,
       "plotOptions": {
        "customPlotOptions": {},
        "displayType": "table",
        "pivotAggregation": null,
        "pivotColumns": null,
        "xColumns": null,
        "yColumns": null
       },
       "removedWidgets": [],
       "schema": [
        {
         "metadata": "{}",
         "name": "team",
         "type": "\"string\""
        },
        {
         "metadata": "{}",
         "name": "row_num",
         "type": "\"integer\""
        }
       ],
       "type": "table"
      }
     },
     "output_type": "display_data"
    }
   ],
   "source": [
    "%sql\n",
    "select \n",
    "case\n",
    "  when won = 1 then team1\n",
    "  else team2\n",
    "  end as team,\n",
    "row_number() over (order by 1) as row_num\n",
    "from semi_finalists"
   ]
  },
  {
   "cell_type": "markdown",
   "metadata": {
    "application/vnd.databricks.v1+cell": {
     "cellMetadata": {
      "byteLimit": 2048000,
      "rowLimit": 10000
     },
     "inputWidgets": {},
     "nuid": "418eb5b4-4daa-41d3-8903-3c3cb83cdda5",
     "showTitle": false,
     "title": ""
    }
   },
   "source": [
    "#WINNER"
   ]
  },
  {
   "cell_type": "code",
   "execution_count": 0,
   "metadata": {
    "application/vnd.databricks.v1+cell": {
     "cellMetadata": {
      "byteLimit": 2048000,
      "rowLimit": 10000
     },
     "inputWidgets": {},
     "nuid": "884a5649-96b4-46e5-84fd-e00b5f47b05c",
     "showTitle": false,
     "title": ""
    }
   },
   "outputs": [
    {
     "output_type": "display_data",
     "data": {
      "text/html": [
       "<style scoped>\n",
       "  .table-result-container {\n",
       "    max-height: 300px;\n",
       "    overflow: auto;\n",
       "  }\n",
       "  table, th, td {\n",
       "    border: 1px solid black;\n",
       "    border-collapse: collapse;\n",
       "  }\n",
       "  th, td {\n",
       "    padding: 5px;\n",
       "  }\n",
       "  th {\n",
       "    text-align: left;\n",
       "  }\n",
       "</style><div class='table-result-container'><table class='table-result'><thead style='background-color: white'><tr><th>team</th></tr></thead><tbody><tr><td>Romania</td></tr></tbody></table></div>"
      ]
     },
     "metadata": {
      "application/vnd.databricks.v1+output": {
       "addedWidgets": {},
       "aggData": [],
       "aggError": "",
       "aggOverflow": false,
       "aggSchema": [],
       "aggSeriesLimitReached": false,
       "aggType": "",
       "arguments": {},
       "columnCustomDisplayInfos": {},
       "data": [
        [
         "Romania"
        ]
       ],
       "datasetInfos": [],
       "dbfsResultPath": null,
       "isJsonSchema": true,
       "metadata": {
        "isDbfsCommandResult": false
       },
       "overflow": false,
       "plotOptions": {
        "customPlotOptions": {},
        "displayType": "table",
        "pivotAggregation": null,
        "pivotColumns": null,
        "xColumns": null,
        "yColumns": null
       },
       "removedWidgets": [],
       "schema": [
        {
         "metadata": "{}",
         "name": "team",
         "type": "\"string\""
        }
       ],
       "type": "table"
      }
     },
     "output_type": "display_data"
    }
   ],
   "source": [
    "%sql\n",
    "with finalists as (\n",
    "  select \n",
    "case\n",
    "  when won = 1 then team1\n",
    "  else team2\n",
    "  end as team,\n",
    "row_number() over (order by 1) as row_num\n",
    "from semi_finalists\n",
    ")\n",
    "select team from finalists\n",
    "where row_num = case when floor(rand()*10)>5 then 1 else 2 end"
   ]
  },
  {
   "cell_type": "code",
   "execution_count": 0,
   "metadata": {
    "application/vnd.databricks.v1+cell": {
     "cellMetadata": {
      "byteLimit": 2048000,
      "rowLimit": 10000
     },
     "inputWidgets": {},
     "nuid": "a8c92941-e194-4a84-b168-b3b620980cee",
     "showTitle": false,
     "title": ""
    }
   },
   "outputs": [],
   "source": []
  }
 ],
 "metadata": {
  "application/vnd.databricks.v1+notebook": {
   "dashboards": [],
   "language": "python",
   "notebookMetadata": {
    "mostRecentlyExecutedCommandWithImplicitDF": {
     "commandId": 226486022577550,
     "dataframes": [
      "_sqldf"
     ]
    },
    "pythonIndentUnit": 4
   },
   "notebookName": "euro cup sql",
   "widgets": {}
  }
 },
 "nbformat": 4,
 "nbformat_minor": 0
}
